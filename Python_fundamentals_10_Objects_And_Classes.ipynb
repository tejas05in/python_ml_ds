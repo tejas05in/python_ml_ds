{
  "nbformat": 4,
  "nbformat_minor": 0,
  "metadata": {
    "colab": {
      "provenance": []
    },
    "kernelspec": {
      "name": "python3",
      "display_name": "Python 3"
    },
    "language_info": {
      "name": "python"
    }
  },
  "cells": [
    {
      "cell_type": "markdown",
      "source": [
        "# **Python Classes/Objects**\n",
        "\n",
        "Python is an **object oriented programming language**.\n",
        "\n",
        "Almost **everything in Python is an object**, with its properties and methods.\n",
        "\n",
        "A **Class is like an object constructor**, or a \"blueprint\" for creating objects."
      ],
      "metadata": {
        "id": "Fye7JZUDB_hy"
      }
    },
    {
      "cell_type": "code",
      "execution_count": 2,
      "metadata": {
        "id": "jA7Dytu2BdOm"
      },
      "outputs": [],
      "source": [
        "# Create a Class\n",
        "class Myclass:\n",
        "  x = \"tejas\""
      ]
    },
    {
      "cell_type": "code",
      "source": [
        "# Create Object\n",
        "obj_1 = Myclass()"
      ],
      "metadata": {
        "id": "_T7cOVmZCPxw"
      },
      "execution_count": 3,
      "outputs": []
    },
    {
      "cell_type": "code",
      "source": [
        "id(Myclass)"
      ],
      "metadata": {
        "colab": {
          "base_uri": "https://localhost:8080/"
        },
        "id": "xY7NCUD_cKBW",
        "outputId": "d4fb5e00-3cc1-4864-812e-56df81d8c722"
      },
      "execution_count": 5,
      "outputs": [
        {
          "output_type": "execute_result",
          "data": {
            "text/plain": [
              "49659728"
            ]
          },
          "metadata": {},
          "execution_count": 5
        }
      ]
    },
    {
      "cell_type": "code",
      "source": [
        "id(obj_1)"
      ],
      "metadata": {
        "colab": {
          "base_uri": "https://localhost:8080/"
        },
        "id": "SbWNDB10b8dA",
        "outputId": "85fd43ec-5ff2-4313-dce4-c058756cda87"
      },
      "execution_count": 4,
      "outputs": [
        {
          "output_type": "execute_result",
          "data": {
            "text/plain": [
              "138808177883920"
            ]
          },
          "metadata": {},
          "execution_count": 4
        }
      ]
    },
    {
      "cell_type": "code",
      "source": [
        "obj_1.x"
      ],
      "metadata": {
        "colab": {
          "base_uri": "https://localhost:8080/",
          "height": 36
        },
        "id": "oL8nA9Rrca7x",
        "outputId": "aa6baafc-120b-4376-c715-96b08ea55906"
      },
      "execution_count": 6,
      "outputs": [
        {
          "output_type": "execute_result",
          "data": {
            "text/plain": [
              "'tejas'"
            ],
            "application/vnd.google.colaboratory.intrinsic+json": {
              "type": "string"
            }
          },
          "metadata": {},
          "execution_count": 6
        }
      ]
    },
    {
      "cell_type": "code",
      "source": [
        "Myclass.x"
      ],
      "metadata": {
        "colab": {
          "base_uri": "https://localhost:8080/",
          "height": 36
        },
        "id": "3E9FSDNbdDOz",
        "outputId": "745f5247-6980-482e-cdcc-1b688e595f35"
      },
      "execution_count": 7,
      "outputs": [
        {
          "output_type": "execute_result",
          "data": {
            "text/plain": [
              "'tejas'"
            ],
            "application/vnd.google.colaboratory.intrinsic+json": {
              "type": "string"
            }
          },
          "metadata": {},
          "execution_count": 7
        }
      ]
    },
    {
      "cell_type": "markdown",
      "source": [
        "**The __init__() Function**\n",
        "\n",
        "The examples above are classes and objects in their simplest form, and are not really useful in real life applications.\n",
        "\n",
        "To understand the meaning of classes we have to understand the built-in __init__() function.\n",
        "\n",
        "All classes have a function called __init__(), which is always executed when the class is being initiated.\n",
        "\n",
        "Use the __init__() function to assign values to object properties, or other operations that are necessary to do when the object is being created:"
      ],
      "metadata": {
        "id": "s13WPkHzCWNc"
      }
    },
    {
      "cell_type": "code",
      "source": [
        "class Person:\n",
        "  def __init__(self, name, age):\n",
        "    self.name = name\n",
        "    self.age = age\n",
        "\n",
        "  def __str__(self):\n",
        "    return f\"{self.name},{self.age}\""
      ],
      "metadata": {
        "id": "9qiyAVZFCV4o"
      },
      "execution_count": 17,
      "outputs": []
    },
    {
      "cell_type": "code",
      "source": [
        "obj_2 = Person(\"tejas\",40)"
      ],
      "metadata": {
        "id": "L-hffYCWfckS"
      },
      "execution_count": 18,
      "outputs": []
    },
    {
      "cell_type": "code",
      "source": [
        "obj_2.age"
      ],
      "metadata": {
        "colab": {
          "base_uri": "https://localhost:8080/"
        },
        "id": "K7KEWNk6f0TF",
        "outputId": "93d8d757-61d6-4031-fb4e-5598a792e65c"
      },
      "execution_count": 19,
      "outputs": [
        {
          "output_type": "execute_result",
          "data": {
            "text/plain": [
              "40"
            ]
          },
          "metadata": {},
          "execution_count": 19
        }
      ]
    },
    {
      "cell_type": "code",
      "source": [
        "obj_2.name"
      ],
      "metadata": {
        "colab": {
          "base_uri": "https://localhost:8080/",
          "height": 36
        },
        "id": "Z-QL0o29f4oh",
        "outputId": "e19d939c-d7e1-48d1-f8a1-4be8c71ac625"
      },
      "execution_count": 20,
      "outputs": [
        {
          "output_type": "execute_result",
          "data": {
            "text/plain": [
              "'tejas'"
            ],
            "application/vnd.google.colaboratory.intrinsic+json": {
              "type": "string"
            }
          },
          "metadata": {},
          "execution_count": 20
        }
      ]
    },
    {
      "cell_type": "code",
      "source": [
        "obj_3 = Person(\"catherine\", 40)\n",
        "obj_4 = Person(\"muthu\", 36)"
      ],
      "metadata": {
        "id": "mBUl5Flpf8QH"
      },
      "execution_count": 21,
      "outputs": []
    },
    {
      "cell_type": "code",
      "source": [
        "obj_3.age"
      ],
      "metadata": {
        "colab": {
          "base_uri": "https://localhost:8080/"
        },
        "id": "csdaEGOagFFA",
        "outputId": "f07abe2e-32b0-44b2-8319-7584d7b8fb18"
      },
      "execution_count": 22,
      "outputs": [
        {
          "output_type": "execute_result",
          "data": {
            "text/plain": [
              "40"
            ]
          },
          "metadata": {},
          "execution_count": 22
        }
      ]
    },
    {
      "cell_type": "code",
      "source": [
        "obj_4.name"
      ],
      "metadata": {
        "colab": {
          "base_uri": "https://localhost:8080/",
          "height": 36
        },
        "id": "Z7n_SaY6gIpF",
        "outputId": "da7a2b4f-b436-4422-f9da-7713118d97fa"
      },
      "execution_count": 23,
      "outputs": [
        {
          "output_type": "execute_result",
          "data": {
            "text/plain": [
              "'muthu'"
            ],
            "application/vnd.google.colaboratory.intrinsic+json": {
              "type": "string"
            }
          },
          "metadata": {},
          "execution_count": 23
        }
      ]
    },
    {
      "cell_type": "markdown",
      "source": [
        "**Note: The __init__() function is called automatically every time the class is being used to create a new object.**"
      ],
      "metadata": {
        "id": "L7qd3cD3ClSK"
      }
    },
    {
      "cell_type": "markdown",
      "source": [
        "**The __str__() Function**:\n",
        "The __str__() function controls what should be returned when the class object is represented as a string.\n",
        "\n",
        "If the __str__() function is not set, the string representation of the object is returned:"
      ],
      "metadata": {
        "id": "iPzImCfPCtmK"
      }
    },
    {
      "cell_type": "code",
      "source": [
        "print(obj_4)"
      ],
      "metadata": {
        "id": "VFEOpD9wCmwc",
        "colab": {
          "base_uri": "https://localhost:8080/"
        },
        "outputId": "2879e213-bace-40f7-b07e-c176fb4a9400"
      },
      "execution_count": 24,
      "outputs": [
        {
          "output_type": "stream",
          "name": "stdout",
          "text": [
            "muthu,36\n"
          ]
        }
      ]
    },
    {
      "cell_type": "code",
      "source": [
        "print(obj_3)"
      ],
      "metadata": {
        "colab": {
          "base_uri": "https://localhost:8080/"
        },
        "id": "Z1zvMbNAhUYL",
        "outputId": "c30baf32-8a63-4eee-8554-94467c46f916"
      },
      "execution_count": 25,
      "outputs": [
        {
          "output_type": "stream",
          "name": "stdout",
          "text": [
            "catherine,40\n"
          ]
        }
      ]
    },
    {
      "cell_type": "code",
      "source": [
        "print(obj_2)"
      ],
      "metadata": {
        "colab": {
          "base_uri": "https://localhost:8080/"
        },
        "id": "BU9ODcWxhWtf",
        "outputId": "e4a00656-41a4-4633-b1fe-1f37cf184e4a"
      },
      "execution_count": 26,
      "outputs": [
        {
          "output_type": "stream",
          "name": "stdout",
          "text": [
            "tejas,40\n"
          ]
        }
      ]
    },
    {
      "cell_type": "markdown",
      "source": [
        "**Object Methods**:\n",
        "Objects can also contain methods. Methods in objects are functions that belong to the object.\n",
        "\n",
        "Let us create a method in the Person class:"
      ],
      "metadata": {
        "id": "W4wicuDFC5YW"
      }
    },
    {
      "cell_type": "code",
      "source": [
        "class Calculator:\n",
        "  def __init__(self):\n",
        "    pass\n",
        "\n",
        "  def add(self,a,b):\n",
        "    return a+b\n",
        "\n",
        "  def subtract(self,a,b):\n",
        "    return a-b\n",
        "\n",
        "  def multiply(self,a,b):\n",
        "    return a*b"
      ],
      "metadata": {
        "id": "u5_pn-OCC69v"
      },
      "execution_count": 35,
      "outputs": []
    },
    {
      "cell_type": "code",
      "source": [
        "obj_5 = Calculator()"
      ],
      "metadata": {
        "id": "ljNUchNiiK6s"
      },
      "execution_count": 36,
      "outputs": []
    },
    {
      "cell_type": "code",
      "source": [
        "obj_5.add(5,6)"
      ],
      "metadata": {
        "colab": {
          "base_uri": "https://localhost:8080/"
        },
        "id": "R11-Up75iSHM",
        "outputId": "3806308b-c815-4912-fea9-4e5012e5327f"
      },
      "execution_count": 37,
      "outputs": [
        {
          "output_type": "execute_result",
          "data": {
            "text/plain": [
              "11"
            ]
          },
          "metadata": {},
          "execution_count": 37
        }
      ]
    },
    {
      "cell_type": "code",
      "source": [
        "obj_5.subtract(5,6)"
      ],
      "metadata": {
        "colab": {
          "base_uri": "https://localhost:8080/"
        },
        "id": "_otoE57eiYqa",
        "outputId": "34323ca6-08a2-4516-a7cb-a41dd64a3fea"
      },
      "execution_count": 30,
      "outputs": [
        {
          "output_type": "execute_result",
          "data": {
            "text/plain": [
              "-1"
            ]
          },
          "metadata": {},
          "execution_count": 30
        }
      ]
    },
    {
      "cell_type": "code",
      "source": [
        "obj_5.multiply(5,6)"
      ],
      "metadata": {
        "colab": {
          "base_uri": "https://localhost:8080/"
        },
        "id": "kyDcUVdAibbK",
        "outputId": "e19c3d11-bcf3-4e17-f64e-8f04b8d15cba"
      },
      "execution_count": 31,
      "outputs": [
        {
          "output_type": "execute_result",
          "data": {
            "text/plain": [
              "30"
            ]
          },
          "metadata": {},
          "execution_count": 31
        }
      ]
    },
    {
      "cell_type": "markdown",
      "source": [
        "**Note: The self parameter is a reference to the current instance of the class, and is used to access variables that belong to the class.**"
      ],
      "metadata": {
        "id": "UWKe6PGPC-GO"
      }
    },
    {
      "cell_type": "code",
      "source": [
        "obj_4.age = 50"
      ],
      "metadata": {
        "id": "89-JYibtDBcX"
      },
      "execution_count": 39,
      "outputs": []
    },
    {
      "cell_type": "code",
      "source": [
        "obj_3.age = 100"
      ],
      "metadata": {
        "id": "w3RYGNGTjPDZ"
      },
      "execution_count": 42,
      "outputs": []
    },
    {
      "cell_type": "code",
      "source": [
        "obj_4.age"
      ],
      "metadata": {
        "colab": {
          "base_uri": "https://localhost:8080/"
        },
        "id": "f5i4cByWjSnI",
        "outputId": "60ff04aa-42f3-418a-bccb-29efe7c750fe"
      },
      "execution_count": 41,
      "outputs": [
        {
          "output_type": "execute_result",
          "data": {
            "text/plain": [
              "50"
            ]
          },
          "metadata": {},
          "execution_count": 41
        }
      ]
    },
    {
      "cell_type": "code",
      "source": [
        "obj_3.age"
      ],
      "metadata": {
        "colab": {
          "base_uri": "https://localhost:8080/"
        },
        "id": "Yby1OMwwjcn9",
        "outputId": "9b359e0c-65fd-4cd6-954d-af9155aec1ca"
      },
      "execution_count": 43,
      "outputs": [
        {
          "output_type": "execute_result",
          "data": {
            "text/plain": [
              "100"
            ]
          },
          "metadata": {},
          "execution_count": 43
        }
      ]
    },
    {
      "cell_type": "markdown",
      "source": [
        "**Modify Object Properties**"
      ],
      "metadata": {
        "id": "bfuWWT0XDGPU"
      }
    },
    {
      "cell_type": "code",
      "source": [
        "# modify age"
      ],
      "metadata": {
        "id": "jJuTamefDF3X"
      },
      "execution_count": null,
      "outputs": []
    },
    {
      "cell_type": "markdown",
      "source": [
        "**Delete Object Properties:**\n",
        "You can delete properties on objects by using the del keyword:"
      ],
      "metadata": {
        "id": "3hGvPyNkDL2O"
      }
    },
    {
      "cell_type": "code",
      "source": [
        "del obj_4.age"
      ],
      "metadata": {
        "id": "eLvWAdNbDQlo"
      },
      "execution_count": 45,
      "outputs": []
    },
    {
      "cell_type": "code",
      "source": [
        "obj_4.age"
      ],
      "metadata": {
        "colab": {
          "base_uri": "https://localhost:8080/",
          "height": 144
        },
        "id": "C79LIDOJj4PZ",
        "outputId": "3ad0cd00-844c-428d-beca-49cb77afa180"
      },
      "execution_count": 46,
      "outputs": [
        {
          "output_type": "error",
          "ename": "AttributeError",
          "evalue": "'Person' object has no attribute 'age'",
          "traceback": [
            "\u001b[0;31m---------------------------------------------------------------------------\u001b[0m",
            "\u001b[0;31mAttributeError\u001b[0m                            Traceback (most recent call last)",
            "\u001b[0;32m<ipython-input-46-b56dd89402a3>\u001b[0m in \u001b[0;36m<cell line: 0>\u001b[0;34m()\u001b[0m\n\u001b[0;32m----> 1\u001b[0;31m \u001b[0mobj_4\u001b[0m\u001b[0;34m.\u001b[0m\u001b[0mage\u001b[0m\u001b[0;34m\u001b[0m\u001b[0;34m\u001b[0m\u001b[0m\n\u001b[0m",
            "\u001b[0;31mAttributeError\u001b[0m: 'Person' object has no attribute 'age'"
          ]
        }
      ]
    },
    {
      "cell_type": "code",
      "source": [
        "obj_4.name"
      ],
      "metadata": {
        "colab": {
          "base_uri": "https://localhost:8080/",
          "height": 36
        },
        "id": "3q9RspH2kBVZ",
        "outputId": "279a3e91-88ea-4192-82b8-afd87284b525"
      },
      "execution_count": 48,
      "outputs": [
        {
          "output_type": "execute_result",
          "data": {
            "text/plain": [
              "'muthu'"
            ],
            "application/vnd.google.colaboratory.intrinsic+json": {
              "type": "string"
            }
          },
          "metadata": {},
          "execution_count": 48
        }
      ]
    },
    {
      "cell_type": "markdown",
      "source": [
        "**Delete Objects**"
      ],
      "metadata": {
        "id": "YEc4idf6DVGy"
      }
    },
    {
      "cell_type": "code",
      "source": [],
      "metadata": {
        "id": "TdsoNd1wDUyW"
      },
      "execution_count": null,
      "outputs": []
    },
    {
      "cell_type": "markdown",
      "source": [
        "**The pass Statement**"
      ],
      "metadata": {
        "id": "um9KgHyLDZAM"
      }
    },
    {
      "cell_type": "code",
      "source": [
        "# 1. Create a bank class\n",
        "# 2. Name and password should be passed into the constructor\n",
        "# 3. Create a new attribute called money inside the constructor and assign it with 0\n",
        "# 4. Create a method called add money\n",
        "# 5. Money should be added only when name and password match the originals\n",
        "# 6. Create a string method which called shows the bank balance"
      ],
      "metadata": {
        "id": "hkLmA153kOY1"
      },
      "execution_count": null,
      "outputs": []
    },
    {
      "cell_type": "code",
      "source": [
        "class Hdfcbank:\n",
        "  def __init__(self,name,password):\n",
        "    self.name = name\n",
        "    self.password = password\n",
        "    self.money = 0\n",
        "\n",
        "  def add_money(self, money):\n",
        "    name = input(\"Enter your name: \")\n",
        "    password = input(\"Enter your password: \")\n",
        "    if name == self.name and password == self.password:\n",
        "      self.money = self.money + money\n",
        "\n",
        "  def __str__(self):\n",
        "    return f\"Your balance is {self.money}\"\n"
      ],
      "metadata": {
        "id": "ycpcO_b_sp6n"
      },
      "execution_count": 56,
      "outputs": []
    },
    {
      "cell_type": "code",
      "source": [
        "obj_6 = Hdfcbank(\"tej\",\"123\")"
      ],
      "metadata": {
        "id": "LPCwBnits86q"
      },
      "execution_count": 57,
      "outputs": []
    },
    {
      "cell_type": "code",
      "source": [
        "obj_6.money"
      ],
      "metadata": {
        "colab": {
          "base_uri": "https://localhost:8080/"
        },
        "id": "V_jmqpE3tB1i",
        "outputId": "4a9cd0bd-14bb-40fa-dc32-3e61da37b044"
      },
      "execution_count": 58,
      "outputs": [
        {
          "output_type": "execute_result",
          "data": {
            "text/plain": [
              "0"
            ]
          },
          "metadata": {},
          "execution_count": 58
        }
      ]
    },
    {
      "cell_type": "code",
      "source": [
        "obj_6.add_money(1000)"
      ],
      "metadata": {
        "colab": {
          "base_uri": "https://localhost:8080/"
        },
        "id": "UnB7nWj4tDRe",
        "outputId": "b75cc97c-bf06-4609-9b19-d170ccb85154"
      },
      "execution_count": 60,
      "outputs": [
        {
          "name": "stdout",
          "output_type": "stream",
          "text": [
            "Enter your name: tej\n",
            "Enter your password: 123\n"
          ]
        }
      ]
    },
    {
      "cell_type": "code",
      "source": [
        "print(obj_6)"
      ],
      "metadata": {
        "colab": {
          "base_uri": "https://localhost:8080/"
        },
        "id": "CbkGiU2jujwG",
        "outputId": "5a79c8a4-4c30-4a40-8e32-f0eb72116fae"
      },
      "execution_count": 61,
      "outputs": [
        {
          "output_type": "stream",
          "name": "stdout",
          "text": [
            "Your balance is 1000\n"
          ]
        }
      ]
    }
  ]
}