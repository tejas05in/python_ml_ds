{
  "nbformat": 4,
  "nbformat_minor": 0,
  "metadata": {
    "colab": {
      "provenance": []
    },
    "kernelspec": {
      "name": "python3",
      "display_name": "Python 3"
    },
    "language_info": {
      "name": "python"
    }
  },
  "cells": [
    {
      "cell_type": "markdown",
      "source": [
        "# Operators in Python\n",
        "1. Arithmetic Operators\n",
        "1. Relational Operators\n",
        "1. Logical Operators\n",
        "1. Bitwise Operators\n",
        "1. Assignment Operators\n",
        "1. Membership Operators"
      ],
      "metadata": {
        "id": "V4GJMhnkM-8e"
      }
    },
    {
      "cell_type": "code",
      "execution_count": null,
      "metadata": {
        "colab": {
          "base_uri": "https://localhost:8080/"
        },
        "id": "38rWi5qwLLFH",
        "outputId": "90d69b15-8cf1-4cdf-c6f4-57e745ce1bda"
      },
      "outputs": [
        {
          "output_type": "stream",
          "name": "stdout",
          "text": [
            "11\n",
            "-1\n",
            "30\n",
            "0.8333333333333334\n",
            "0\n",
            "1\n"
          ]
        }
      ],
      "source": [
        "# arthimetic operations\n",
        "\n",
        "print(5+6)\n",
        "\n",
        "print(5-6)\n",
        "\n",
        "print(5*6)\n",
        "\n",
        "print(5/6)\n",
        "\n",
        "# floor division\n",
        "print(5//6)\n",
        "\n",
        "# remainder\n",
        "print(5%2)\n",
        "\n",
        "# exponential\n",
        "print(5**2)"
      ]
    },
    {
      "cell_type": "code",
      "source": [
        "# Relational operators\n",
        "print(5>6)\n",
        "print(6>5)\n",
        "print(5>=6)\n",
        "print(6<=5)\n",
        "print(4==4) # equal to\n",
        "print(4!=4) # not equal to"
      ],
      "metadata": {
        "colab": {
          "base_uri": "https://localhost:8080/"
        },
        "id": "awoJmHCjOkMO",
        "outputId": "6a5e3015-2ae5-43ac-dd92-31f62630bf44"
      },
      "execution_count": null,
      "outputs": [
        {
          "output_type": "stream",
          "name": "stdout",
          "text": [
            "False\n",
            "True\n",
            "False\n",
            "False\n",
            "True\n",
            "False\n"
          ]
        }
      ]
    },
    {
      "cell_type": "markdown",
      "source": [
        "R langauge\n",
        "a<-c(1,2,3)\n",
        "Python\n",
        "a = [1,2,3]"
      ],
      "metadata": {
        "id": "ccDXwAiwQQPB"
      }
    },
    {
      "cell_type": "code",
      "source": [
        "# Logical Operators\n",
        "# and or not\n",
        "# print(0 and 1)\n",
        "# print(1 and 1)\n",
        "# print(2 and 1)\n",
        "# print(123 and 456)\n",
        "# print(1 or 0)\n",
        "# print(not 0)"
      ],
      "metadata": {
        "colab": {
          "base_uri": "https://localhost:8080/"
        },
        "id": "ynzSXtD1QOu9",
        "outputId": "98b3b547-f963-41bb-e7ad-447c20d3319f"
      },
      "execution_count": null,
      "outputs": [
        {
          "output_type": "stream",
          "name": "stdout",
          "text": [
            "True\n"
          ]
        }
      ]
    },
    {
      "cell_type": "code",
      "source": [
        "# Bitwise Operators\n",
        "\n",
        "print(2 & 3)\n",
        "\n",
        "print(2 | 3)\n",
        "\n",
        "print(~3)"
      ],
      "metadata": {
        "colab": {
          "base_uri": "https://localhost:8080/"
        },
        "id": "LsdpvAcESA2x",
        "outputId": "5818ca27-5239-4e1f-c939-78e6f3e764fe"
      },
      "execution_count": null,
      "outputs": [
        {
          "output_type": "stream",
          "name": "stdout",
          "text": [
            "2\n",
            "3\n",
            "-4\n"
          ]
        }
      ]
    },
    {
      "cell_type": "code",
      "source": [
        "# Assignment Operators\n",
        "\n",
        "a = 2\n",
        "\n",
        "print(a)\n",
        "\n",
        "a +=2 # a = a + 2\n",
        "\n",
        "print(a)\n",
        "\n",
        "a %= 2 # a = a % 2\n",
        "print(a)"
      ],
      "metadata": {
        "colab": {
          "base_uri": "https://localhost:8080/"
        },
        "id": "FgcUVlrgTNOJ",
        "outputId": "de9a700b-b9d7-4e6e-ae65-cdb8cef78cbf"
      },
      "execution_count": null,
      "outputs": [
        {
          "output_type": "stream",
          "name": "stdout",
          "text": [
            "2\n",
            "4\n",
            "0\n"
          ]
        }
      ]
    },
    {
      "cell_type": "code",
      "source": [
        "# Membership Operators\n",
        "# in not in\n",
        "print('C' in \"Catherine\")\n",
        "\n",
        "print('t' in \"Tejas\")\n",
        "\n",
        "print('t' not in 'Tejas')"
      ],
      "metadata": {
        "colab": {
          "base_uri": "https://localhost:8080/"
        },
        "id": "mkqGsJZHUCk2",
        "outputId": "1d09d49a-7619-44cb-a6fa-aa90e0dab4f7"
      },
      "execution_count": null,
      "outputs": [
        {
          "output_type": "stream",
          "name": "stdout",
          "text": [
            "True\n",
            "False\n",
            "True\n"
          ]
        }
      ]
    },
    {
      "cell_type": "code",
      "source": [
        "# Program - Find the sum of a 3 digit number entered by the user\n",
        "\n",
        "a = int(input(\"Enter a 3 digit number:\"))\n",
        "\n",
        "last_num = a%10\n",
        "\n",
        "remaning_num_1 = a//10\n",
        "\n",
        "second_num = remaning_num_1%10\n",
        "\n",
        "first_num = remaning_num_1//10\n",
        "\n",
        "print(first_num + second_num + last_num)\n"
      ],
      "metadata": {
        "colab": {
          "base_uri": "https://localhost:8080/"
        },
        "id": "ZxYFcW1kUshM",
        "outputId": "7e2e7346-d16e-44ff-e37f-9b3e7ce71377"
      },
      "execution_count": null,
      "outputs": [
        {
          "output_type": "stream",
          "name": "stdout",
          "text": [
            "Enter a 3 digit number:456\n",
            "15\n"
          ]
        }
      ]
    },
    {
      "cell_type": "markdown",
      "source": [
        "# If-else in Python"
      ],
      "metadata": {
        "id": "KjS6FTNrY-KJ"
      }
    },
    {
      "cell_type": "code",
      "source": [
        "a = int(input(\"Enter a number: \"))\n",
        "\n",
        "if a%2==0:\n",
        "  print(\"Even\")\n",
        "else:\n",
        "  print(\"Odd\")"
      ],
      "metadata": {
        "colab": {
          "base_uri": "https://localhost:8080/"
        },
        "id": "Bbzo-vkSY90p",
        "outputId": "33876d0b-0a53-4113-d22e-f6aff2643ca9"
      },
      "execution_count": null,
      "outputs": [
        {
          "output_type": "stream",
          "name": "stdout",
          "text": [
            "Enter a number: 48\n",
            "Even\n"
          ]
        }
      ]
    },
    {
      "cell_type": "code",
      "source": [
        "a = int(input(\"Enter a number: \"))\n",
        "\n",
        "if a > 100:\n",
        "  print(\"more than 100\")\n",
        "elif a > 0  and a < 100:\n",
        "  print(\"Num between 0 and 100\")\n",
        "else:\n",
        "  print(\"less than or equal to 0\")"
      ],
      "metadata": {
        "colab": {
          "base_uri": "https://localhost:8080/"
        },
        "id": "6ditkKyoaOlb",
        "outputId": "ba48180b-60ed-4baa-965b-9016713ad1f5"
      },
      "execution_count": null,
      "outputs": [
        {
          "output_type": "stream",
          "name": "stdout",
          "text": [
            "Enter a number: -1\n",
            "less than or equal to 0\n"
          ]
        }
      ]
    },
    {
      "cell_type": "markdown",
      "source": [
        "# atm machine"
      ],
      "metadata": {
        "id": "Ujvro9LJbxgw"
      }
    },
    {
      "cell_type": "code",
      "source": [
        "print(\"\"\"Welcome to Indian Bank ATM\n",
        "Hello,\n",
        "Hope your good\n",
        "press 1 to check balance\n",
        "press 2 to reset password\n",
        "press 3 to exit\n",
        "\"\"\")\n",
        "\n",
        "a = int(input(\"Please center your choice: \"))\n",
        "\n",
        "if a==1:\n",
        "  print(\"Check balance\")\n",
        "elif a==2:\n",
        "  print(\"Enter new passowrd\")\n",
        "else:\n",
        "  print(\"Exiting\")"
      ],
      "metadata": {
        "colab": {
          "base_uri": "https://localhost:8080/"
        },
        "id": "G1hslp5Ibz8x",
        "outputId": "2192d784-83d0-4d3e-b17e-e617e0375429"
      },
      "execution_count": null,
      "outputs": [
        {
          "output_type": "stream",
          "name": "stdout",
          "text": [
            "Welcome to Indian Bank ATM\n",
            "Hello,\n",
            "Hope your good\n",
            "press 1 to check balance\n",
            "press 2 to reset password\n",
            "press 3 to exit\n",
            "\n",
            "Please center your choice: 0\n",
            "Exiting\n"
          ]
        }
      ]
    },
    {
      "cell_type": "markdown",
      "source": [
        "# module"
      ],
      "metadata": {
        "id": "hHOvB1pgeHmh"
      }
    },
    {
      "cell_type": "code",
      "source": [
        "# Module\n",
        "import math"
      ],
      "metadata": {
        "id": "0Nx-8bnIeEbJ"
      },
      "execution_count": null,
      "outputs": []
    },
    {
      "cell_type": "code",
      "source": [
        "math.log(10)"
      ],
      "metadata": {
        "colab": {
          "base_uri": "https://localhost:8080/"
        },
        "id": "sxUOGJyHeDee",
        "outputId": "587f6ad2-88f4-4f95-aa3a-b67b934a8569"
      },
      "execution_count": null,
      "outputs": [
        {
          "output_type": "execute_result",
          "data": {
            "text/plain": [
              "2.302585092994046"
            ]
          },
          "metadata": {},
          "execution_count": 6
        }
      ]
    }
  ]
}