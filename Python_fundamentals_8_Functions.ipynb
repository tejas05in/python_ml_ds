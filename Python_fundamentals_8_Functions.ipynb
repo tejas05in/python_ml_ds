{
  "nbformat": 4,
  "nbformat_minor": 0,
  "metadata": {
    "colab": {
      "provenance": []
    },
    "kernelspec": {
      "name": "python3",
      "display_name": "Python 3"
    },
    "language_info": {
      "name": "python"
    }
  },
  "cells": [
    {
      "cell_type": "markdown",
      "source": [
        "# **Functions**"
      ],
      "metadata": {
        "id": "LGewlwck9mN9"
      }
    },
    {
      "cell_type": "markdown",
      "source": [
        "A function is a block of code which only runs when it is called.\n",
        "\n",
        "You can pass data, known as parameters, into a function.\n",
        "\n",
        "A function can return data as a result."
      ],
      "metadata": {
        "id": "s2Sb-CPe9uCc"
      }
    },
    {
      "cell_type": "code",
      "execution_count": 5,
      "metadata": {
        "id": "ITNVocFD9iuK"
      },
      "outputs": [],
      "source": [
        "# Define a function - def\n",
        "def name_print():\n",
        "  print(\"Muthu,catherine,tejas\")"
      ]
    },
    {
      "cell_type": "code",
      "source": [
        "# Calling a function\n",
        "name_print()"
      ],
      "metadata": {
        "id": "8cBgz8dg95PU",
        "colab": {
          "base_uri": "https://localhost:8080/"
        },
        "outputId": "b9972320-a6b8-4c41-a104-a7dabd7a41d5"
      },
      "execution_count": 6,
      "outputs": [
        {
          "output_type": "stream",
          "name": "stdout",
          "text": [
            "Muthu,catherine,tejas\n"
          ]
        }
      ]
    },
    {
      "cell_type": "code",
      "source": [
        "def inifinity():\n",
        "  print(\"inifinity is a very large number\")"
      ],
      "metadata": {
        "id": "Rz39BvykZAO7"
      },
      "execution_count": 7,
      "outputs": []
    },
    {
      "cell_type": "code",
      "source": [
        "inifinity()"
      ],
      "metadata": {
        "colab": {
          "base_uri": "https://localhost:8080/"
        },
        "id": "9dy3QU_8ZIXN",
        "outputId": "89805e67-014c-4bab-a434-0d310de6aefd"
      },
      "execution_count": 8,
      "outputs": [
        {
          "output_type": "stream",
          "name": "stdout",
          "text": [
            "inifinity is a very large number\n"
          ]
        }
      ]
    },
    {
      "cell_type": "code",
      "source": [
        "for i in range(6):\n",
        "  inifinity()"
      ],
      "metadata": {
        "colab": {
          "base_uri": "https://localhost:8080/"
        },
        "id": "H4eJpo_oZNHH",
        "outputId": "8708f107-24a4-4a22-b2f2-7ce667e8064e"
      },
      "execution_count": 9,
      "outputs": [
        {
          "output_type": "stream",
          "name": "stdout",
          "text": [
            "inifinity is a very large number\n",
            "inifinity is a very large number\n",
            "inifinity is a very large number\n",
            "inifinity is a very large number\n",
            "inifinity is a very large number\n",
            "inifinity is a very large number\n"
          ]
        }
      ]
    },
    {
      "cell_type": "markdown",
      "source": [
        "Arguments\n",
        "Information can be passed into functions as arguments.\n",
        "\n",
        "Arguments are specified after the function name, inside the parentheses. You can add as many arguments as you want, just separate them with a comma.\n",
        "\n",
        "The following example has a function with one argument (fname). When the function is called, we pass along a first name, which is used inside the function to print the full name:"
      ],
      "metadata": {
        "id": "XVInKQ3Y985M"
      }
    },
    {
      "cell_type": "code",
      "source": [
        "def my_function(fname):\n",
        "  print(fname + \" Refsnes\")\n",
        "\n",
        "my_function(\"Emil\")\n",
        "my_function(\"Tobias\")\n",
        "my_function(\"Linus\")"
      ],
      "metadata": {
        "id": "Hqd6nozH97lp",
        "colab": {
          "base_uri": "https://localhost:8080/"
        },
        "outputId": "4d5d5cbc-4e01-46ad-d338-cfb6d7fa9402"
      },
      "execution_count": 10,
      "outputs": [
        {
          "output_type": "stream",
          "name": "stdout",
          "text": [
            "Emil Refsnes\n",
            "Tobias Refsnes\n",
            "Linus Refsnes\n"
          ]
        }
      ]
    },
    {
      "cell_type": "markdown",
      "source": [
        "*Parameters or Arguments?*\n",
        "\n",
        "The terms parameter and argument can be used for the same thing: information that are passed into a function.\n",
        "\n",
        "***From a function's perspective:***\n",
        "\n",
        "<strong>A parameter is the variable listed inside the parentheses in the function definition.</strong>\n",
        "\n",
        "<b>An argument is the value that is sent to the function when it is called.</b>"
      ],
      "metadata": {
        "id": "Mf5h4GvE-JOt"
      }
    },
    {
      "cell_type": "code",
      "source": [
        "def apprecaition(name):\n",
        "  print(f\"{name} is the best\")\n",
        "\n",
        "# l = [\"muthu\",\"catherine\",\"tejas\"]\n",
        "# for i in l:\n",
        "#   apprecaition(i)\n",
        "apprecaition(\"muthu\")"
      ],
      "metadata": {
        "id": "Ns55OEdb-thq",
        "colab": {
          "base_uri": "https://localhost:8080/"
        },
        "outputId": "34c38677-512a-4b9f-98d3-50b8483e02ae"
      },
      "execution_count": 12,
      "outputs": [
        {
          "output_type": "stream",
          "name": "stdout",
          "text": [
            "muthu is the best\n"
          ]
        }
      ]
    },
    {
      "cell_type": "markdown",
      "source": [
        "Number of Arguments\n",
        "\n",
        "By default, a function must be called with the correct number of arguments."
      ],
      "metadata": {
        "id": "04ijmdia-0q8"
      }
    },
    {
      "cell_type": "code",
      "source": [
        "def addition(x,y):\n",
        "  print(x+y)"
      ],
      "metadata": {
        "id": "E-M-nbBY-zzO"
      },
      "execution_count": 13,
      "outputs": []
    },
    {
      "cell_type": "code",
      "source": [
        "addition(3,4)"
      ],
      "metadata": {
        "colab": {
          "base_uri": "https://localhost:8080/"
        },
        "id": "xxjaxkfTb952",
        "outputId": "73cb7986-81d6-48e7-df9f-3f6a69c9230e"
      },
      "execution_count": 14,
      "outputs": [
        {
          "output_type": "stream",
          "name": "stdout",
          "text": [
            "7\n"
          ]
        }
      ]
    },
    {
      "cell_type": "code",
      "source": [
        "addition(3,4,5)"
      ],
      "metadata": {
        "colab": {
          "base_uri": "https://localhost:8080/",
          "height": 144
        },
        "id": "yC4PeCA3cA_l",
        "outputId": "b89c1880-01ee-4504-a057-0a3e9c2da846"
      },
      "execution_count": 15,
      "outputs": [
        {
          "output_type": "error",
          "ename": "TypeError",
          "evalue": "addition() takes 2 positional arguments but 3 were given",
          "traceback": [
            "\u001b[0;31m---------------------------------------------------------------------------\u001b[0m",
            "\u001b[0;31mTypeError\u001b[0m                                 Traceback (most recent call last)",
            "\u001b[0;32m<ipython-input-15-874d7a15adc9>\u001b[0m in \u001b[0;36m<cell line: 1>\u001b[0;34m()\u001b[0m\n\u001b[0;32m----> 1\u001b[0;31m \u001b[0maddition\u001b[0m\u001b[0;34m(\u001b[0m\u001b[0;36m3\u001b[0m\u001b[0;34m,\u001b[0m\u001b[0;36m4\u001b[0m\u001b[0;34m,\u001b[0m\u001b[0;36m5\u001b[0m\u001b[0;34m)\u001b[0m\u001b[0;34m\u001b[0m\u001b[0;34m\u001b[0m\u001b[0m\n\u001b[0m",
            "\u001b[0;31mTypeError\u001b[0m: addition() takes 2 positional arguments but 3 were given"
          ]
        }
      ]
    },
    {
      "cell_type": "markdown",
      "source": [
        "Arbitrary Arguments, *args\n",
        "\n",
        "If you do not know how many arguments that will be passed into your function, add a * before the parameter name in the function definition.\n",
        "\n",
        "This way the function will receive a tuple of arguments, and can access the items accordingly:"
      ],
      "metadata": {
        "id": "pmP1jmUy-_Km"
      }
    },
    {
      "cell_type": "code",
      "source": [
        "def my_function(*kids):\n",
        "  print(\"The youngest child is \" + kids[1])\n",
        "\n",
        "my_function(\"Emil\", \"Tobias\", \"Linus\")"
      ],
      "metadata": {
        "colab": {
          "base_uri": "https://localhost:8080/"
        },
        "id": "fNmysAvD-_jj",
        "outputId": "1aeb757b-363e-4cb5-b734-de023a79e979"
      },
      "execution_count": 20,
      "outputs": [
        {
          "output_type": "stream",
          "name": "stdout",
          "text": [
            "The youngest child is Tobias\n"
          ]
        }
      ]
    },
    {
      "cell_type": "code",
      "source": [
        "def func1(*x):\n",
        "  print(x[-1])\n",
        "func1(1,2,3,4,5,6,100,10202,23233)"
      ],
      "metadata": {
        "colab": {
          "base_uri": "https://localhost:8080/"
        },
        "id": "HmQLLalOcoeY",
        "outputId": "2ed17c46-c458-47f9-ec3a-e1fcbfb4e35d"
      },
      "execution_count": 22,
      "outputs": [
        {
          "output_type": "stream",
          "name": "stdout",
          "text": [
            "23233\n"
          ]
        }
      ]
    },
    {
      "cell_type": "markdown",
      "source": [
        "Keyword Arguments\n",
        "\n",
        "You can also send arguments with the key = value syntax.\n",
        "\n",
        "This way the order of the arguments does not matter."
      ],
      "metadata": {
        "id": "jyucbHTR_dRj"
      }
    },
    {
      "cell_type": "code",
      "source": [
        "travel_log = {\n",
        "    \"tej\" : {\n",
        "        \"place\": \"goa\",\n",
        "        \"price\" : 200000\n",
        "    },\n",
        "    \"catherine\" : {\n",
        "        \"place\": \"velore\",\n",
        "        \"price\": 2000\n",
        "    },\n",
        "    \"muthu\":{\n",
        "        \"place\": \"madhuranthagam\",\n",
        "        \"price\": 0\n",
        "    }\n",
        "}\n",
        "travel_log"
      ],
      "metadata": {
        "id": "snAjJ_nX_bnh",
        "colab": {
          "base_uri": "https://localhost:8080/"
        },
        "outputId": "c1418b32-e2f0-4e97-a985-f9e9e340ffef"
      },
      "execution_count": 23,
      "outputs": [
        {
          "output_type": "execute_result",
          "data": {
            "text/plain": [
              "{'tej': {'place': 'goa', 'price': 200000},\n",
              " 'catherine': {'place': 'velore', 'price': 2000},\n",
              " 'muthu': {'place': 'madhuranthagam', 'price': 0}}"
            ]
          },
          "metadata": {},
          "execution_count": 23
        }
      ]
    },
    {
      "cell_type": "code",
      "source": [
        "def cleaner(**kwargs):\n",
        "  print(kwargs)"
      ],
      "metadata": {
        "id": "a-wHbdjjd9zk"
      },
      "execution_count": 36,
      "outputs": []
    },
    {
      "cell_type": "code",
      "source": [
        "cleaner(x=3,y=4,z=5)"
      ],
      "metadata": {
        "colab": {
          "base_uri": "https://localhost:8080/"
        },
        "id": "Y_zjCSI-fotF",
        "outputId": "286db81c-d91a-4e0f-ae22-b596b8060408"
      },
      "execution_count": 39,
      "outputs": [
        {
          "output_type": "stream",
          "name": "stdout",
          "text": [
            "{'x': 3, 'y': 4, 'z': 5}\n"
          ]
        }
      ]
    },
    {
      "cell_type": "markdown",
      "source": [
        "Arbitrary Keyword Arguments, **kwargs\n",
        "\n",
        "If you do not know how many keyword arguments that will be passed into your function, add two asterisk: ** before the parameter name in the function definition."
      ],
      "metadata": {
        "id": "aW55Z-qC_rzZ"
      }
    },
    {
      "cell_type": "code",
      "source": [],
      "metadata": {
        "id": "Dzp_NUUV_xwn"
      },
      "execution_count": null,
      "outputs": []
    },
    {
      "cell_type": "markdown",
      "source": [
        "<b>Default Parameter Value</b>\n",
        "\n",
        "\n",
        "If we call the function without argument, it uses the default value:"
      ],
      "metadata": {
        "id": "XMN-BD4e_w_M"
      }
    },
    {
      "cell_type": "code",
      "source": [
        "def func2(x,y,z=1):\n",
        "  print(x,y,z)"
      ],
      "metadata": {
        "id": "Jgs_714VAFG1"
      },
      "execution_count": 40,
      "outputs": []
    },
    {
      "cell_type": "code",
      "source": [
        "func2(1,2,3)"
      ],
      "metadata": {
        "colab": {
          "base_uri": "https://localhost:8080/"
        },
        "id": "Yz5vh-vugMt6",
        "outputId": "75c4921e-3eaf-4344-a1f3-aa7402040405"
      },
      "execution_count": 41,
      "outputs": [
        {
          "output_type": "stream",
          "name": "stdout",
          "text": [
            "1 2 3\n"
          ]
        }
      ]
    },
    {
      "cell_type": "code",
      "source": [
        "func2(1,2)"
      ],
      "metadata": {
        "colab": {
          "base_uri": "https://localhost:8080/"
        },
        "id": "TXZ4Xaq6gQaL",
        "outputId": "1841fb09-0bee-4559-b79c-77e228f14c9e"
      },
      "execution_count": 43,
      "outputs": [
        {
          "output_type": "stream",
          "name": "stdout",
          "text": [
            "1 2 1\n"
          ]
        }
      ]
    },
    {
      "cell_type": "markdown",
      "source": [
        "<b>Passing a List as an Argument</b>\n",
        "\n",
        "You can send any data types of argument to a function (string, number, list, dictionary etc.), and it will be treated as the same data type inside the function.\n",
        "\n",
        "E.g. if you send a List as an argument, it will still be a List when it reaches the function:"
      ],
      "metadata": {
        "id": "vE1PG-JwAARW"
      }
    },
    {
      "cell_type": "code",
      "source": [
        "l = [1,2,3,4,5,6]\n",
        "def func3(l):\n",
        "  print(l)\n",
        "  a = tuple(l)\n",
        "  print(a)\n",
        "  print(type(a))\n",
        "func3(l)"
      ],
      "metadata": {
        "id": "CKunoDyxAPlb",
        "colab": {
          "base_uri": "https://localhost:8080/"
        },
        "outputId": "2c448f30-4904-4637-fa5f-30110a7587a5"
      },
      "execution_count": 45,
      "outputs": [
        {
          "output_type": "stream",
          "name": "stdout",
          "text": [
            "[1, 2, 3, 4, 5, 6]\n",
            "(1, 2, 3, 4, 5, 6)\n",
            "<class 'tuple'>\n"
          ]
        }
      ]
    },
    {
      "cell_type": "markdown",
      "source": [
        "<b>The pass Statement</b>"
      ],
      "metadata": {
        "id": "FZj8k3WtAL5J"
      }
    },
    {
      "cell_type": "code",
      "source": [
        "def data_analysis(df):\n",
        "  pass"
      ],
      "metadata": {
        "id": "1V-Hacik_JAC"
      },
      "execution_count": 47,
      "outputs": []
    },
    {
      "cell_type": "code",
      "source": [
        "data_analysis(3)"
      ],
      "metadata": {
        "id": "FAC9a7nLh_6B"
      },
      "execution_count": 48,
      "outputs": []
    },
    {
      "cell_type": "markdown",
      "source": [
        "Positional-Only Arguments\n",
        "\n",
        "You can specify that a function can have ONLY positional arguments, or ONLY keyword arguments.\n",
        "\n",
        "To specify that a function can have only positional arguments, add , '/' after the arguments:"
      ],
      "metadata": {
        "id": "s1DhOAzDAnGq"
      }
    },
    {
      "cell_type": "code",
      "source": [
        "def func(x,/):\n",
        "  print(x)\n",
        "func(l)"
      ],
      "metadata": {
        "colab": {
          "base_uri": "https://localhost:8080/"
        },
        "id": "xbYzU459AvHK",
        "outputId": "2ebec90d-005c-4dd9-a42a-d5803c1e61df"
      },
      "execution_count": 52,
      "outputs": [
        {
          "output_type": "stream",
          "name": "stdout",
          "text": [
            "[1, 2, 3, 4, 5, 6]\n"
          ]
        }
      ]
    },
    {
      "cell_type": "markdown",
      "source": [
        "Keyword-Only Arguments\n",
        "\n",
        "To specify that a function can have only keyword arguments, add *, before the arguments:"
      ],
      "metadata": {
        "id": "pu7Sy6GRA_p7"
      }
    },
    {
      "cell_type": "code",
      "source": [
        "def func(*,x):\n",
        "  print(x)\n",
        "func(x=3)"
      ],
      "metadata": {
        "colab": {
          "base_uri": "https://localhost:8080/"
        },
        "id": "6l9qw5HBA5Hx",
        "outputId": "cea57782-d6b3-488c-93a9-672d1b2a08dd"
      },
      "execution_count": 55,
      "outputs": [
        {
          "output_type": "stream",
          "name": "stdout",
          "text": [
            "3\n"
          ]
        }
      ]
    },
    {
      "cell_type": "markdown",
      "source": [
        "Combine Positional-Only and Keyword-Only:\n",
        "\n",
        "You can combine the two argument types in the same function.\n",
        "\n",
        "Any argument before the / , are positional-only, and any argument after the *, are keyword-only."
      ],
      "metadata": {
        "id": "wXGksOGCBMa4"
      }
    },
    {
      "cell_type": "code",
      "source": [
        "def my_function(a, b, /, *, c, d):\n",
        "  print(a + b + c + d)"
      ],
      "metadata": {
        "id": "_C0VC3dtBHmp"
      },
      "execution_count": 56,
      "outputs": []
    },
    {
      "cell_type": "code",
      "source": [
        "my_function(1,2,c = 3,d = 4)"
      ],
      "metadata": {
        "colab": {
          "base_uri": "https://localhost:8080/"
        },
        "id": "CiTsIBEUipNH",
        "outputId": "03411325-8eb3-499c-9347-e97697c164f8"
      },
      "execution_count": 58,
      "outputs": [
        {
          "output_type": "stream",
          "name": "stdout",
          "text": [
            "10\n"
          ]
        }
      ]
    },
    {
      "cell_type": "code",
      "source": [
        "def fun1(x):\n",
        "  print(x)\n",
        "def fun2(x):\n",
        "  return x\n"
      ],
      "metadata": {
        "id": "xuaFZKB_jVeT"
      },
      "execution_count": 59,
      "outputs": []
    },
    {
      "cell_type": "code",
      "source": [
        "a = fun1(2)"
      ],
      "metadata": {
        "colab": {
          "base_uri": "https://localhost:8080/"
        },
        "id": "tcfKCm2tjf3h",
        "outputId": "4b87480d-25e8-40c6-8e7a-b0d12fb2c6ec"
      },
      "execution_count": 60,
      "outputs": [
        {
          "output_type": "stream",
          "name": "stdout",
          "text": [
            "2\n"
          ]
        }
      ]
    },
    {
      "cell_type": "code",
      "source": [
        "type(a)"
      ],
      "metadata": {
        "colab": {
          "base_uri": "https://localhost:8080/"
        },
        "id": "UBzUmvajjlbh",
        "outputId": "e6671216-7573-4289-ebba-e113ea3d0fa0"
      },
      "execution_count": 61,
      "outputs": [
        {
          "output_type": "execute_result",
          "data": {
            "text/plain": [
              "NoneType"
            ]
          },
          "metadata": {},
          "execution_count": 61
        }
      ]
    },
    {
      "cell_type": "code",
      "source": [
        "print()"
      ],
      "metadata": {
        "id": "uPialOGGjsUe"
      },
      "execution_count": null,
      "outputs": []
    },
    {
      "cell_type": "code",
      "source": [
        "b = fun2(2)"
      ],
      "metadata": {
        "id": "zec6jBk3j9cS"
      },
      "execution_count": 62,
      "outputs": []
    },
    {
      "cell_type": "code",
      "source": [
        "b"
      ],
      "metadata": {
        "colab": {
          "base_uri": "https://localhost:8080/"
        },
        "id": "4tdTijMFkA_b",
        "outputId": "82672901-20d4-4975-c39b-183ec4992026"
      },
      "execution_count": 63,
      "outputs": [
        {
          "output_type": "execute_result",
          "data": {
            "text/plain": [
              "2"
            ]
          },
          "metadata": {},
          "execution_count": 63
        }
      ]
    },
    {
      "cell_type": "code",
      "source": [
        "type(b)"
      ],
      "metadata": {
        "colab": {
          "base_uri": "https://localhost:8080/"
        },
        "id": "g1FwBUhJkCNo",
        "outputId": "a047262e-3ab1-4068-ed04-d8586d236c40"
      },
      "execution_count": 64,
      "outputs": [
        {
          "output_type": "execute_result",
          "data": {
            "text/plain": [
              "int"
            ]
          },
          "metadata": {},
          "execution_count": 64
        }
      ]
    },
    {
      "cell_type": "markdown",
      "source": [
        "RECURSION"
      ],
      "metadata": {
        "id": "x5L71T1PBVfg"
      }
    },
    {
      "cell_type": "code",
      "source": [],
      "metadata": {
        "id": "GsIzx8yJBY1G"
      },
      "execution_count": null,
      "outputs": []
    }
  ]
}