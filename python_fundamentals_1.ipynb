{
  "nbformat": 4,
  "nbformat_minor": 0,
  "metadata": {
    "colab": {
      "provenance": []
    },
    "kernelspec": {
      "name": "python3",
      "display_name": "Python 3"
    },
    "language_info": {
      "name": "python"
    }
  },
  "cells": [
    {
      "cell_type": "markdown",
      "source": [
        "# 1. python output"
      ],
      "metadata": {
        "id": "5wcOtnN76I0L"
      }
    },
    {
      "cell_type": "code",
      "execution_count": 3,
      "metadata": {
        "colab": {
          "base_uri": "https://localhost:8080/"
        },
        "id": "E43cyZVm6HXw",
        "outputId": "ead06a57-326e-4955-acf6-41ce52d3ac0c"
      },
      "outputs": [
        {
          "output_type": "stream",
          "name": "stdout",
          "text": [
            "Hello world\n"
          ]
        }
      ],
      "source": [
        "# case sensitive\n",
        "print(\"Hello world\")"
      ]
    },
    {
      "cell_type": "code",
      "source": [
        "print(12345)"
      ],
      "metadata": {
        "colab": {
          "base_uri": "https://localhost:8080/"
        },
        "id": "a0vE2huQDc1k",
        "outputId": "5f0a8218-24a0-4ab2-9226-13b77542a851"
      },
      "execution_count": 4,
      "outputs": [
        {
          "output_type": "stream",
          "name": "stdout",
          "text": [
            "12345\n"
          ]
        }
      ]
    },
    {
      "cell_type": "code",
      "source": [
        "print(12.7)"
      ],
      "metadata": {
        "colab": {
          "base_uri": "https://localhost:8080/"
        },
        "id": "jphNvB7_DhFs",
        "outputId": "73399a02-97dc-4062-b21a-30f258585289"
      },
      "execution_count": 5,
      "outputs": [
        {
          "output_type": "stream",
          "name": "stdout",
          "text": [
            "12.7\n"
          ]
        }
      ]
    },
    {
      "cell_type": "code",
      "source": [
        "print(True+1)\n",
        "print(False)"
      ],
      "metadata": {
        "colab": {
          "base_uri": "https://localhost:8080/"
        },
        "id": "kt_EFmjXDjP6",
        "outputId": "6fff133a-c822-42f3-cbae-c3f9ca76eba6"
      },
      "execution_count": 8,
      "outputs": [
        {
          "output_type": "stream",
          "name": "stdout",
          "text": [
            "2\n",
            "False\n"
          ]
        }
      ]
    },
    {
      "cell_type": "code",
      "source": [
        "print(3+4j)"
      ],
      "metadata": {
        "colab": {
          "base_uri": "https://localhost:8080/"
        },
        "id": "sqU-zNy5EHDW",
        "outputId": "349da2e8-0364-4430-f2dd-db6d0e7d3706"
      },
      "execution_count": 9,
      "outputs": [
        {
          "output_type": "stream",
          "name": "stdout",
          "text": [
            "(3+4j)\n"
          ]
        }
      ]
    },
    {
      "cell_type": "code",
      "source": [
        "print(\"HI\",\"How are you?\",\"i am good\", sep=\"3\")"
      ],
      "metadata": {
        "colab": {
          "base_uri": "https://localhost:8080/"
        },
        "id": "2KYgK1FqEpEI",
        "outputId": "a1263382-dce3-45bc-ddb3-87e289ae1e97"
      },
      "execution_count": 17,
      "outputs": [
        {
          "output_type": "stream",
          "name": "stdout",
          "text": [
            "HI3How are you?3i am good\n"
          ]
        }
      ]
    },
    {
      "cell_type": "code",
      "source": [
        "print(\"Hello World\",\"hi\", sep=\"/\")"
      ],
      "metadata": {
        "colab": {
          "base_uri": "https://localhost:8080/"
        },
        "id": "mUuQpyfKEeCU",
        "outputId": "7d207e25-6d7e-4ad9-e2a3-0307f6d7251e"
      },
      "execution_count": 12,
      "outputs": [
        {
          "output_type": "stream",
          "name": "stdout",
          "text": [
            "Hello World/hi\n"
          ]
        }
      ]
    },
    {
      "cell_type": "markdown",
      "source": [
        "# 2. Data Types"
      ],
      "metadata": {
        "id": "9VvmX5nh6TFS"
      }
    },
    {
      "cell_type": "code",
      "source": [
        "a = 123\n",
        "b = 456"
      ],
      "metadata": {
        "id": "Ur3Vi-526VTA"
      },
      "execution_count": 18,
      "outputs": []
    },
    {
      "cell_type": "code",
      "source": [
        "# integer\n",
        "type(a)"
      ],
      "metadata": {
        "colab": {
          "base_uri": "https://localhost:8080/"
        },
        "id": "I4fGd1lTFxi7",
        "outputId": "14f3951a-23b2-4f6f-d5cc-ddd22b12c7c7"
      },
      "execution_count": 21,
      "outputs": [
        {
          "output_type": "execute_result",
          "data": {
            "text/plain": [
              "int"
            ]
          },
          "metadata": {},
          "execution_count": 21
        }
      ]
    },
    {
      "cell_type": "code",
      "source": [
        "# float\n",
        "a = 12.7\n",
        "type(a)"
      ],
      "metadata": {
        "colab": {
          "base_uri": "https://localhost:8080/"
        },
        "id": "z6XSjOcOGFM3",
        "outputId": "890c4281-3984-4dfa-b9e5-20e9afd2c9fb"
      },
      "execution_count": 22,
      "outputs": [
        {
          "output_type": "execute_result",
          "data": {
            "text/plain": [
              "float"
            ]
          },
          "metadata": {},
          "execution_count": 22
        }
      ]
    },
    {
      "cell_type": "code",
      "source": [
        "# boolean\n",
        "print(True)\n",
        "print(False)"
      ],
      "metadata": {
        "colab": {
          "base_uri": "https://localhost:8080/"
        },
        "id": "PouuZ_dFGPYf",
        "outputId": "2bd5083c-dc72-490d-a922-4953bcae5f94"
      },
      "execution_count": 23,
      "outputs": [
        {
          "output_type": "stream",
          "name": "stdout",
          "text": [
            "True\n",
            "False\n"
          ]
        }
      ]
    },
    {
      "cell_type": "code",
      "source": [
        "# string\n",
        "print(\"Hi catherine!!\")"
      ],
      "metadata": {
        "colab": {
          "base_uri": "https://localhost:8080/"
        },
        "id": "VqgH10WUGV0u",
        "outputId": "8429c727-1446-4404-a8bf-df5ba5060f4d"
      },
      "execution_count": 24,
      "outputs": [
        {
          "output_type": "stream",
          "name": "stdout",
          "text": [
            "Hi catherine!!\n"
          ]
        }
      ]
    },
    {
      "cell_type": "code",
      "source": [
        "# complex\n",
        "print(3+5j)"
      ],
      "metadata": {
        "colab": {
          "base_uri": "https://localhost:8080/"
        },
        "id": "f_H3IW0dGeSD",
        "outputId": "eacbdfe6-c289-4968-bf3e-4d88f8f41f3a"
      },
      "execution_count": 25,
      "outputs": [
        {
          "output_type": "stream",
          "name": "stdout",
          "text": [
            "(3+5j)\n"
          ]
        }
      ]
    },
    {
      "cell_type": "code",
      "source": [
        "# list\n",
        "a = [1,2,3,4]\n",
        "type(a)\n"
      ],
      "metadata": {
        "colab": {
          "base_uri": "https://localhost:8080/"
        },
        "id": "uDQV5n3ZGiDJ",
        "outputId": "3bf0ef86-f251-437c-91a6-0eb0df7b66f4"
      },
      "execution_count": 26,
      "outputs": [
        {
          "output_type": "execute_result",
          "data": {
            "text/plain": [
              "list"
            ]
          },
          "metadata": {},
          "execution_count": 26
        }
      ]
    },
    {
      "cell_type": "code",
      "source": [
        "# set\n",
        "a = {1,2,3,4}\n",
        "type(a)"
      ],
      "metadata": {
        "colab": {
          "base_uri": "https://localhost:8080/"
        },
        "id": "sbxsjHUYGxkm",
        "outputId": "54ee8169-3840-41f7-e488-43b0a6ce8db1"
      },
      "execution_count": 27,
      "outputs": [
        {
          "output_type": "execute_result",
          "data": {
            "text/plain": [
              "set"
            ]
          },
          "metadata": {},
          "execution_count": 27
        }
      ]
    },
    {
      "cell_type": "code",
      "source": [
        "# tuple\n",
        "a = (1,2,3)\n",
        "type(a)"
      ],
      "metadata": {
        "colab": {
          "base_uri": "https://localhost:8080/"
        },
        "id": "UUBXLBNkG644",
        "outputId": "a9948eaa-165e-467b-cd24-08e58ab91837"
      },
      "execution_count": 28,
      "outputs": [
        {
          "output_type": "execute_result",
          "data": {
            "text/plain": [
              "tuple"
            ]
          },
          "metadata": {},
          "execution_count": 28
        }
      ]
    },
    {
      "cell_type": "code",
      "source": [
        "# dictionary\n",
        "type({\"cat\": \"statistics\" , \"tej\": \"forensic medicine\", \"muthu\" : \"EEE\"})"
      ],
      "metadata": {
        "colab": {
          "base_uri": "https://localhost:8080/"
        },
        "id": "bH1lf8JtHGm6",
        "outputId": "3dc9cd82-177c-4027-fe5b-2a4a618f8b97"
      },
      "execution_count": 30,
      "outputs": [
        {
          "output_type": "execute_result",
          "data": {
            "text/plain": [
              "dict"
            ]
          },
          "metadata": {},
          "execution_count": 30
        }
      ]
    },
    {
      "cell_type": "markdown",
      "source": [
        "# 3. Variables"
      ],
      "metadata": {
        "id": "MfHHrT9U6-wL"
      }
    },
    {
      "cell_type": "markdown",
      "source": [
        "# Static Vs Dynamic Typing\n",
        "# Static Vs Dynamic Binding\n",
        "# stylish declaration techniques"
      ],
      "metadata": {
        "id": "fvx7VVW87GJG"
      }
    },
    {
      "cell_type": "code",
      "source": [
        "a = 12\n",
        "type(a)"
      ],
      "metadata": {
        "colab": {
          "base_uri": "https://localhost:8080/"
        },
        "id": "x7k83X5hItie",
        "outputId": "de5752fa-d4dd-4861-e053-9fc0a78b5b5e"
      },
      "execution_count": 31,
      "outputs": [
        {
          "output_type": "execute_result",
          "data": {
            "text/plain": [
              "int"
            ]
          },
          "metadata": {},
          "execution_count": 31
        }
      ]
    },
    {
      "cell_type": "code",
      "source": [
        "a = 12\n",
        "print(a)\n",
        "a = 12.5\n",
        "print(a)"
      ],
      "metadata": {
        "colab": {
          "base_uri": "https://localhost:8080/"
        },
        "id": "Iqi959NMJtKW",
        "outputId": "21adb5eb-560f-4be4-ac91-27c8f892f1c4"
      },
      "execution_count": 32,
      "outputs": [
        {
          "output_type": "stream",
          "name": "stdout",
          "text": [
            "12\n",
            "12.5\n"
          ]
        }
      ]
    },
    {
      "cell_type": "markdown",
      "source": [
        "# 4. Keywords & Identifiers"
      ],
      "metadata": {
        "id": "JvJclqxs7Mxq"
      }
    },
    {
      "cell_type": "code",
      "source": [
        "123 = \"cat\""
      ],
      "metadata": {
        "colab": {
          "base_uri": "https://localhost:8080/",
          "height": 106
        },
        "id": "w1UK-jgF7Avj",
        "outputId": "774f8d8b-dc5d-4bf2-ebb6-826eba543bbc"
      },
      "execution_count": 33,
      "outputs": [
        {
          "output_type": "error",
          "ename": "SyntaxError",
          "evalue": "cannot assign to literal here. Maybe you meant '==' instead of '='? (<ipython-input-33-cde2ac3deff4>, line 1)",
          "traceback": [
            "\u001b[0;36m  File \u001b[0;32m\"<ipython-input-33-cde2ac3deff4>\"\u001b[0;36m, line \u001b[0;32m1\u001b[0m\n\u001b[0;31m    123 = \"cat\"\u001b[0m\n\u001b[0m    ^\u001b[0m\n\u001b[0;31mSyntaxError\u001b[0m\u001b[0;31m:\u001b[0m cannot assign to literal here. Maybe you meant '==' instead of '='?\n"
          ]
        }
      ]
    },
    {
      "cell_type": "code",
      "source": [
        "123a = \"cat\""
      ],
      "metadata": {
        "colab": {
          "base_uri": "https://localhost:8080/",
          "height": 106
        },
        "id": "8iqR1kDRKgaV",
        "outputId": "b3263a8b-c0ec-4fe5-9753-30c9476523c4"
      },
      "execution_count": 34,
      "outputs": [
        {
          "output_type": "error",
          "ename": "SyntaxError",
          "evalue": "invalid decimal literal (<ipython-input-34-0c9ab4cf2d4a>, line 1)",
          "traceback": [
            "\u001b[0;36m  File \u001b[0;32m\"<ipython-input-34-0c9ab4cf2d4a>\"\u001b[0;36m, line \u001b[0;32m1\u001b[0m\n\u001b[0;31m    123a = \"cat\"\u001b[0m\n\u001b[0m      ^\u001b[0m\n\u001b[0;31mSyntaxError\u001b[0m\u001b[0;31m:\u001b[0m invalid decimal literal\n"
          ]
        }
      ]
    },
    {
      "cell_type": "code",
      "source": [
        "a123 = \"cat\"\n",
        "print(a123)"
      ],
      "metadata": {
        "colab": {
          "base_uri": "https://localhost:8080/"
        },
        "id": "J_Vh71FBK0IP",
        "outputId": "2bb2a860-29d0-4ed9-c57f-19962b81e83b"
      },
      "execution_count": 35,
      "outputs": [
        {
          "output_type": "stream",
          "name": "stdout",
          "text": [
            "cat\n"
          ]
        }
      ]
    },
    {
      "cell_type": "code",
      "source": [
        "help(type)"
      ],
      "metadata": {
        "colab": {
          "base_uri": "https://localhost:8080/"
        },
        "id": "0ZaAWQVuLU4W",
        "outputId": "979e549a-580a-45c6-bd40-00c68d9f3aae"
      },
      "execution_count": 36,
      "outputs": [
        {
          "output_type": "stream",
          "name": "stdout",
          "text": [
            "Help on class type in module builtins:\n",
            "\n",
            "class type(object)\n",
            " |  type(object) -> the object's type\n",
            " |  type(name, bases, dict, **kwds) -> a new type\n",
            " |  \n",
            " |  Methods defined here:\n",
            " |  \n",
            " |  __call__(self, /, *args, **kwargs)\n",
            " |      Call self as a function.\n",
            " |  \n",
            " |  __delattr__(self, name, /)\n",
            " |      Implement delattr(self, name).\n",
            " |  \n",
            " |  __dir__(self, /)\n",
            " |      Specialized __dir__ implementation for types.\n",
            " |  \n",
            " |  __getattribute__(self, name, /)\n",
            " |      Return getattr(self, name).\n",
            " |  \n",
            " |  __init__(self, /, *args, **kwargs)\n",
            " |      Initialize self.  See help(type(self)) for accurate signature.\n",
            " |  \n",
            " |  __instancecheck__(self, instance, /)\n",
            " |      Check if an object is an instance.\n",
            " |  \n",
            " |  __or__(self, value, /)\n",
            " |      Return self|value.\n",
            " |  \n",
            " |  __repr__(self, /)\n",
            " |      Return repr(self).\n",
            " |  \n",
            " |  __ror__(self, value, /)\n",
            " |      Return value|self.\n",
            " |  \n",
            " |  __setattr__(self, name, value, /)\n",
            " |      Implement setattr(self, name, value).\n",
            " |  \n",
            " |  __sizeof__(self, /)\n",
            " |      Return memory consumption of the type object.\n",
            " |  \n",
            " |  __subclasscheck__(self, subclass, /)\n",
            " |      Check if a class is a subclass.\n",
            " |  \n",
            " |  __subclasses__(self, /)\n",
            " |      Return a list of immediate subclasses.\n",
            " |  \n",
            " |  mro(self, /)\n",
            " |      Return a type's method resolution order.\n",
            " |  \n",
            " |  ----------------------------------------------------------------------\n",
            " |  Class methods defined here:\n",
            " |  \n",
            " |  __prepare__(...)\n",
            " |      __prepare__() -> dict\n",
            " |      used to create the namespace for the class statement\n",
            " |  \n",
            " |  ----------------------------------------------------------------------\n",
            " |  Static methods defined here:\n",
            " |  \n",
            " |  __new__(*args, **kwargs)\n",
            " |      Create and return a new object.  See help(type) for accurate signature.\n",
            " |  \n",
            " |  ----------------------------------------------------------------------\n",
            " |  Data descriptors defined here:\n",
            " |  \n",
            " |  __abstractmethods__\n",
            " |  \n",
            " |  __annotations__\n",
            " |  \n",
            " |  __dict__\n",
            " |  \n",
            " |  __text_signature__\n",
            " |  \n",
            " |  ----------------------------------------------------------------------\n",
            " |  Data and other attributes defined here:\n",
            " |  \n",
            " |  __base__ = <class 'object'>\n",
            " |      The base class of the class hierarchy.\n",
            " |      \n",
            " |      When called, it accepts no arguments and returns a new featureless\n",
            " |      instance that has no instance attributes and cannot be given any.\n",
            " |  \n",
            " |  \n",
            " |  __bases__ = (<class 'object'>,)\n",
            " |  \n",
            " |  __basicsize__ = 888\n",
            " |  \n",
            " |  __dictoffset__ = 264\n",
            " |  \n",
            " |  __flags__ = 2148031744\n",
            " |  \n",
            " |  __itemsize__ = 40\n",
            " |  \n",
            " |  __mro__ = (<class 'type'>, <class 'object'>)\n",
            " |  \n",
            " |  __weakrefoffset__ = 368\n",
            "\n"
          ]
        }
      ]
    },
    {
      "cell_type": "code",
      "source": [
        "help(\"keywords\")"
      ],
      "metadata": {
        "colab": {
          "base_uri": "https://localhost:8080/"
        },
        "id": "6VWioonpLiAL",
        "outputId": "e0675474-cae1-4304-b18d-0f5e3907e167"
      },
      "execution_count": 37,
      "outputs": [
        {
          "output_type": "stream",
          "name": "stdout",
          "text": [
            "\n",
            "Here is a list of the Python keywords.  Enter any keyword to get more help.\n",
            "\n",
            "False               class               from                or\n",
            "None                continue            global              pass\n",
            "True                def                 if                  raise\n",
            "and                 del                 import              return\n",
            "as                  elif                in                  try\n",
            "assert              else                is                  while\n",
            "async               except              lambda              with\n",
            "await               finally             nonlocal            yield\n",
            "break               for                 not                 \n",
            "\n"
          ]
        }
      ]
    },
    {
      "cell_type": "markdown",
      "source": [
        "# 5. User input"
      ],
      "metadata": {
        "id": "mDJ_lsiS7TX_"
      }
    },
    {
      "cell_type": "code",
      "source": [
        "a = input(\"Please give me your age: \")\n",
        "print(\"Your age is\", a)"
      ],
      "metadata": {
        "colab": {
          "base_uri": "https://localhost:8080/"
        },
        "id": "4Uo5asEU7Vk5",
        "outputId": "4d1d6502-7597-4188-cb7a-0ff8904becaa"
      },
      "execution_count": 42,
      "outputs": [
        {
          "output_type": "stream",
          "name": "stdout",
          "text": [
            "Please give me your age: 39\n",
            "Your age is 39\n"
          ]
        }
      ]
    },
    {
      "cell_type": "code",
      "source": [
        "# write a program to accept 2 numbers and print the sum\n",
        "a = int(input(\"Enter first num:\"))\n",
        "b = int(input(\"Enter second num:\"))\n",
        "print(type(a))\n",
        "print(type(b))\n",
        "print(a+b)"
      ],
      "metadata": {
        "colab": {
          "base_uri": "https://localhost:8080/"
        },
        "id": "k9vKqKRENDNB",
        "outputId": "bc01d32d-ea23-40a5-a61d-481dcb443d6b"
      },
      "execution_count": 46,
      "outputs": [
        {
          "output_type": "stream",
          "name": "stdout",
          "text": [
            "Enter first num:12\n",
            "Enter second num:13\n",
            "<class 'int'>\n",
            "<class 'int'>\n",
            "25\n"
          ]
        }
      ]
    },
    {
      "cell_type": "code",
      "source": [
        "\"abc\" + \"zyx\""
      ],
      "metadata": {
        "colab": {
          "base_uri": "https://localhost:8080/",
          "height": 36
        },
        "id": "ba1Ti9HqNtzj",
        "outputId": "f2918f60-b148-46e2-b973-1b7cc9d9251f"
      },
      "execution_count": 45,
      "outputs": [
        {
          "output_type": "execute_result",
          "data": {
            "text/plain": [
              "'abczyx'"
            ],
            "application/vnd.google.colaboratory.intrinsic+json": {
              "type": "string"
            }
          },
          "metadata": {},
          "execution_count": 45
        }
      ]
    },
    {
      "cell_type": "markdown",
      "source": [
        "# 6. Type conversion"
      ],
      "metadata": {
        "id": "syx8Ke1k7hQp"
      }
    },
    {
      "cell_type": "code",
      "source": [],
      "metadata": {
        "id": "HewrplNt7ak7"
      },
      "execution_count": 1,
      "outputs": []
    },
    {
      "cell_type": "code",
      "source": [],
      "metadata": {
        "id": "22W7nhQB7dOd"
      },
      "execution_count": null,
      "outputs": []
    }
  ]
}