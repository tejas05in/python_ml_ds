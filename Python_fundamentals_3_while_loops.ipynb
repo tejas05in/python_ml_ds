{
  "nbformat": 4,
  "nbformat_minor": 0,
  "metadata": {
    "colab": {
      "provenance": [],
      "authorship_tag": "ABX9TyMMgvqJVI/YHzxLg3Rx+xxe",
      "include_colab_link": true
    },
    "kernelspec": {
      "name": "python3",
      "display_name": "Python 3"
    },
    "language_info": {
      "name": "python"
    }
  },
  "cells": [
    {
      "cell_type": "markdown",
      "metadata": {
        "id": "view-in-github",
        "colab_type": "text"
      },
      "source": [
        "<a href=\"https://colab.research.google.com/github/tejas05in/python_ml_ds/blob/main/Python_fundamentals_3_while_loops.ipynb\" target=\"_parent\"><img src=\"https://colab.research.google.com/assets/colab-badge.svg\" alt=\"Open In Colab\"/></a>"
      ]
    },
    {
      "cell_type": "markdown",
      "source": [
        "## Assigmnet discussion"
      ],
      "metadata": {
        "id": "5dgalodjec2b"
      }
    },
    {
      "cell_type": "markdown",
      "source": [
        "### prime number\n",
        "#### 1. Number is only divisible by itself\n",
        "#### 2. Number is only divisible by 1"
      ],
      "metadata": {
        "id": "gYzb2W2iE-TZ"
      }
    },
    {
      "cell_type": "code",
      "source": [
        "num = int(input(\"Enter a number to check prime status\"))\n",
        "for i in range(1,num):\n",
        "  if i==1 or i==2:\n",
        "    print(i)\n",
        "  else:\n",
        "    flag = True\n",
        "    for k in range(2,i):\n",
        "      if i%k==0:\n",
        "        flag = False\n",
        "    if flag:\n",
        "      print(i)"
      ],
      "metadata": {
        "colab": {
          "base_uri": "https://localhost:8080/"
        },
        "id": "RNdOJuo7EwCN",
        "outputId": "9d82015c-aaa3-4355-aac5-22209c62f955"
      },
      "execution_count": 25,
      "outputs": [
        {
          "output_type": "stream",
          "name": "stdout",
          "text": [
            "Enter a number to check prime status12\n",
            "1\n",
            "2\n",
            "3\n",
            "5\n",
            "7\n",
            "11\n"
          ]
        }
      ]
    },
    {
      "cell_type": "markdown",
      "source": [
        "# WHILE LOOP"
      ],
      "metadata": {
        "id": "8FhLAg7rKQqS"
      }
    },
    {
      "cell_type": "markdown",
      "source": [
        "```python\n",
        "while condition:\n",
        "    # code to be executed\n",
        "```"
      ],
      "metadata": {
        "id": "GMHOmbkcOmbK"
      }
    },
    {
      "cell_type": "code",
      "execution_count": null,
      "metadata": {
        "id": "JpOsd1o6OKtD",
        "colab": {
          "base_uri": "https://localhost:8080/"
        },
        "outputId": "6a2a1fec-7659-4927-9021-759e2f5fc3f4"
      },
      "outputs": [
        {
          "output_type": "stream",
          "name": "stdout",
          "text": [
            "Hello\n",
            "Hello\n",
            "Hello\n"
          ]
        }
      ],
      "source": [
        "# simple while loop\n",
        "i = 3\n",
        "while i !=0:\n",
        "  print(\"Hello\")\n",
        "  i = i - 1"
      ]
    },
    {
      "cell_type": "markdown",
      "source": [
        "#### Print number tables\n",
        "user gives input == int\n",
        "output:\n",
        "```\n",
        "2 x 1 = 2\n",
        "2 x 2 = 4\n",
        "2 x 3 = 6\n",
        ".\n",
        ".\n",
        ".\n",
        ".\n",
        "2 X 10 = 20\n",
        "```"
      ],
      "metadata": {
        "id": "HPO6h5DtLhpI"
      }
    },
    {
      "cell_type": "code",
      "source": [
        "a = int(input(\"Enter a number \"))\n",
        "for i in range(1,11):\n",
        "  print(a*i)"
      ],
      "metadata": {
        "colab": {
          "base_uri": "https://localhost:8080/"
        },
        "id": "QInvyaNkL7gZ",
        "outputId": "f0106eb7-5eb4-4e7d-c89d-6d96c188f72c"
      },
      "execution_count": null,
      "outputs": [
        {
          "output_type": "stream",
          "name": "stdout",
          "text": [
            "Enter a number 20\n",
            "20\n",
            "40\n",
            "60\n",
            "80\n",
            "100\n",
            "120\n",
            "140\n",
            "160\n",
            "180\n",
            "200\n"
          ]
        }
      ]
    },
    {
      "cell_type": "code",
      "source": [
        "# while loop\n",
        "a = int(input(\"Enter a number \"))\n",
        "t = 1\n",
        "while t<=10:\n",
        "  print(f\"{a} x {t} = {a*t}\")\n",
        "  t+=1\n"
      ],
      "metadata": {
        "colab": {
          "base_uri": "https://localhost:8080/"
        },
        "id": "LDj5iYctM-ao",
        "outputId": "1d34cf6a-c2bb-4f87-9e7c-62d0e72b78e5"
      },
      "execution_count": null,
      "outputs": [
        {
          "output_type": "stream",
          "name": "stdout",
          "text": [
            "Enter a number 20\n",
            "20 x 1 = 20\n",
            "20 x 2 = 40\n",
            "20 x 3 = 60\n",
            "20 x 4 = 80\n",
            "20 x 5 = 100\n",
            "20 x 6 = 120\n",
            "20 x 7 = 140\n",
            "20 x 8 = 160\n",
            "20 x 9 = 180\n",
            "20 x 10 = 200\n"
          ]
        }
      ]
    },
    {
      "cell_type": "code",
      "source": [
        "# while loop with else\n",
        "i = 3\n",
        "while i !=0:\n",
        "  print(\"Hello\")\n",
        "  i = i - 1\n",
        "  if i == 1:\n",
        "    break\n",
        "else:\n",
        "  print(\"loop completed successfully\")"
      ],
      "metadata": {
        "id": "SKUQhO2XPntp",
        "colab": {
          "base_uri": "https://localhost:8080/"
        },
        "outputId": "9c6b0fc6-a005-4e6a-a697-8cc0e3a8ca46"
      },
      "execution_count": null,
      "outputs": [
        {
          "output_type": "stream",
          "name": "stdout",
          "text": [
            "Hello\n",
            "Hello\n"
          ]
        }
      ]
    },
    {
      "cell_type": "markdown",
      "source": [
        "### Else block in while loop\n",
        " - Else block is executed only when the while loop completes successfully\n",
        " - If the while loop breaks then the else block is not executed"
      ],
      "metadata": {
        "id": "QVqYFldmQO7f"
      }
    },
    {
      "cell_type": "code",
      "source": [
        "import random"
      ],
      "metadata": {
        "id": "zgBQXdVnQRcM"
      },
      "execution_count": null,
      "outputs": []
    },
    {
      "cell_type": "code",
      "source": [
        "# Guessing game\n",
        "comp = random.randint(1,100)\n",
        "user = int(input(\"Enter a numeber between 1 to 100: \"))\n",
        "while True:\n",
        "  if user==comp:\n",
        "    print(\"You guessed successfully\")\n",
        "    print(\"Computer guessed value: \", comp)\n",
        "    break\n",
        "  elif user>comp:\n",
        "    print(\"Guess lower\")\n",
        "    user = int(input(\"Enter the value: \"))\n",
        "    continue\n",
        "  elif user<comp:\n",
        "    print(\"Guess higher\")\n",
        "    user = int(input(\"Enter the value: \"))\n",
        "    continue\n"
      ],
      "metadata": {
        "id": "-PbiQgWlQSYE",
        "colab": {
          "base_uri": "https://localhost:8080/"
        },
        "outputId": "562709b5-ef1f-44e7-caf1-8685db9d9df6"
      },
      "execution_count": 24,
      "outputs": [
        {
          "output_type": "stream",
          "name": "stdout",
          "text": [
            "Enter a numeber between 1 to 100: 23\n",
            "Guess higher\n",
            "Enter the value: 44\n",
            "Guess higher\n",
            "Enter the value: 77\n",
            "Guess lower\n",
            "Enter the value: 66\n",
            "Guess lower\n",
            "Enter the value: 55\n",
            "Guess lower\n",
            "Enter the value: 53\n",
            "Guess lower\n",
            "Enter the value: 50\n",
            "Guess lower\n",
            "Enter the value: 48\n",
            "Guess lower\n",
            "Enter the value: 46\n",
            "Guess higher\n",
            "Enter the value: 47\n",
            "You guessed successfully\n",
            "Computer guessed value:  47\n"
          ]
        }
      ]
    },
    {
      "cell_type": "markdown",
      "source": [
        "Infinite Loops"
      ],
      "metadata": {
        "id": "6LlpKrLKRuGd"
      }
    },
    {
      "cell_type": "code",
      "source": [
        "# while True:\n",
        "#     print(\"Hello, world!\")"
      ],
      "metadata": {
        "id": "Nde2azz8Q7jo"
      },
      "execution_count": null,
      "outputs": []
    },
    {
      "cell_type": "markdown",
      "source": [
        "### Best Practices for Using While Loops\n",
        "1. Use Meaningful Variable Names\n",
        "  ```python\n",
        "  while current_attempt < max_attempts:\n",
        "        # code to be executed\n",
        "  ```\n",
        "1. Avoid Infinite Loops\n",
        "1. Use Break and Continue Statements\n",
        "  ```python\n",
        "  while True:\n",
        "    user_input = input(\"Enter a number: \")\n",
        "    if user_input == \"quit\":\n",
        "        break\n",
        "    elif user_input == \"skip\":\n",
        "        continue\n",
        "    else:\n",
        "        print(\"You entered:\", user_input)\n",
        "  ```"
      ],
      "metadata": {
        "id": "MoN7r5ZeR52M"
      }
    }
  ]
}