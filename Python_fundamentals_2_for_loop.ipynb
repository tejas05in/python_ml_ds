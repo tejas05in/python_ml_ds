{
  "nbformat": 4,
  "nbformat_minor": 0,
  "metadata": {
    "colab": {
      "provenance": []
    },
    "kernelspec": {
      "name": "python3",
      "display_name": "Python 3"
    },
    "language_info": {
      "name": "python"
    }
  },
  "cells": [
    {
      "cell_type": "code",
      "execution_count": 3,
      "metadata": {
        "colab": {
          "base_uri": "https://localhost:8080/"
        },
        "id": "kxoPFHJucZQ1",
        "outputId": "94622c39-f51d-4aab-98b8-250268edc69d"
      },
      "outputs": [
        {
          "output_type": "stream",
          "name": "stdout",
          "text": [
            "Enter your gross salary3000000\n",
            "Take home salary is:  2100000.0\n"
          ]
        }
      ],
      "source": [
        "gross_salary = int(input(\"Enter your gross salary\"))\n",
        "tax = 0\n",
        "if gross_salary < 500000:\n",
        "  print(\"No tax\")\n",
        "elif gross_salary > 500000 and gross_salary < 1000000:\n",
        "  tax = 0.1\n",
        "elif gross_salary > 1000000 and gross_salary < 2000000:\n",
        "  tax = 0.2\n",
        "else:\n",
        "  tax = 0.3\n",
        "take_home_salary = gross_salary - (tax*gross_salary)\n",
        "print(\"Take home salary is: \", int(take_home_salary))"
      ]
    },
    {
      "cell_type": "markdown",
      "source": [
        "# Loops\n",
        "1. for loops\n",
        "2. nested loops\n",
        "3. while loops\n",
        "4. loop conditions"
      ],
      "metadata": {
        "id": "gWVm2budge4_"
      }
    },
    {
      "cell_type": "markdown",
      "source": [
        "## For loop"
      ],
      "metadata": {
        "id": "drs45zxyh3et"
      }
    },
    {
      "cell_type": "code",
      "source": [
        "l = [1,2,3,4,5,6,7,8,9]\n",
        "for i in l:\n",
        "  print(i)\n"
      ],
      "metadata": {
        "colab": {
          "base_uri": "https://localhost:8080/"
        },
        "id": "-m6TLaADgAYI",
        "outputId": "936525cb-a7e3-4e1f-a1a4-0b1b851ab5a9"
      },
      "execution_count": 5,
      "outputs": [
        {
          "output_type": "stream",
          "name": "stdout",
          "text": [
            "1\n",
            "2\n",
            "3\n",
            "4\n",
            "5\n",
            "6\n",
            "7\n",
            "8\n",
            "9\n"
          ]
        }
      ]
    },
    {
      "cell_type": "code",
      "source": [
        "for num in l:\n",
        "  print(num)"
      ],
      "metadata": {
        "colab": {
          "base_uri": "https://localhost:8080/"
        },
        "id": "JUkrWPDdiRRa",
        "outputId": "93156c27-cfdd-4187-de52-447edec698fd"
      },
      "execution_count": 6,
      "outputs": [
        {
          "output_type": "stream",
          "name": "stdout",
          "text": [
            "1\n",
            "2\n",
            "3\n",
            "4\n",
            "5\n",
            "6\n",
            "7\n",
            "8\n",
            "9\n"
          ]
        }
      ]
    },
    {
      "cell_type": "code",
      "source": [
        "for num in l:\n",
        "  if num%2==0:\n",
        "    print(num)"
      ],
      "metadata": {
        "colab": {
          "base_uri": "https://localhost:8080/"
        },
        "id": "U0dvYceWjAdU",
        "outputId": "569f84b5-d80a-45a1-cb8b-f3f18ea5a096"
      },
      "execution_count": 8,
      "outputs": [
        {
          "output_type": "stream",
          "name": "stdout",
          "text": [
            "2\n",
            "4\n",
            "6\n",
            "8\n"
          ]
        }
      ]
    },
    {
      "cell_type": "code",
      "source": [
        "for string in \"Tejas\":\n",
        "  print(string)"
      ],
      "metadata": {
        "colab": {
          "base_uri": "https://localhost:8080/"
        },
        "id": "N6BzgmPDj6-A",
        "outputId": "a3716c76-c765-433a-dcf1-107aa0b3e3e9"
      },
      "execution_count": 9,
      "outputs": [
        {
          "output_type": "stream",
          "name": "stdout",
          "text": [
            "T\n",
            "e\n",
            "j\n",
            "a\n",
            "s\n"
          ]
        }
      ]
    },
    {
      "cell_type": "code",
      "source": [
        "l = [\"apple\",\"orange\",\"banana\", \"mango\"]\n",
        "for i in l:\n",
        "  print(i)\n",
        "  if i == \"apple\":\n",
        "    print(\"Found apple\")"
      ],
      "metadata": {
        "colab": {
          "base_uri": "https://localhost:8080/"
        },
        "id": "CwMHE5UqkLDf",
        "outputId": "01fc5c63-1133-407d-842f-e7adb59c6751"
      },
      "execution_count": 12,
      "outputs": [
        {
          "output_type": "stream",
          "name": "stdout",
          "text": [
            "apple\n",
            "Found apple\n",
            "orange\n",
            "banana\n",
            "mango\n"
          ]
        }
      ]
    },
    {
      "cell_type": "code",
      "source": [
        "# Fizzbuzz\n",
        "# list has elements from 1 to 100\n",
        "# if a number is divisible by 3 print Fizz\n",
        "# if a number is divisible by 5 print Buzz\n",
        "# if a number is divisible by 3 and 5 print FizzBuzz\n",
        "\n",
        "l = [i for i in range(101)]\n",
        "for i in l:\n",
        "  if (i%3==0) and (i%5==0):\n",
        "    print(\"FizzBuzz\")\n",
        "  elif i%5==0:\n",
        "    print(\"Buzz\")\n",
        "  elif i%3==0:\n",
        "    print(\"Fizz\")\n",
        "  else:\n",
        "    print(i)"
      ],
      "metadata": {
        "colab": {
          "base_uri": "https://localhost:8080/"
        },
        "id": "TWSAM8BtlJvK",
        "outputId": "62f3cbde-e644-4dff-8b52-e2089e221e7f"
      },
      "execution_count": 20,
      "outputs": [
        {
          "output_type": "stream",
          "name": "stdout",
          "text": [
            "FizzBuzz\n",
            "1\n",
            "2\n",
            "Fizz\n",
            "4\n",
            "Buzz\n",
            "Fizz\n",
            "7\n",
            "8\n",
            "Fizz\n",
            "Buzz\n",
            "11\n",
            "Fizz\n",
            "13\n",
            "14\n",
            "FizzBuzz\n",
            "16\n",
            "17\n",
            "Fizz\n",
            "19\n",
            "Buzz\n",
            "Fizz\n",
            "22\n",
            "23\n",
            "Fizz\n",
            "Buzz\n",
            "26\n",
            "Fizz\n",
            "28\n",
            "29\n",
            "FizzBuzz\n",
            "31\n",
            "32\n",
            "Fizz\n",
            "34\n",
            "Buzz\n",
            "Fizz\n",
            "37\n",
            "38\n",
            "Fizz\n",
            "Buzz\n",
            "41\n",
            "Fizz\n",
            "43\n",
            "44\n",
            "FizzBuzz\n",
            "46\n",
            "47\n",
            "Fizz\n",
            "49\n",
            "Buzz\n",
            "Fizz\n",
            "52\n",
            "53\n",
            "Fizz\n",
            "Buzz\n",
            "56\n",
            "Fizz\n",
            "58\n",
            "59\n",
            "FizzBuzz\n",
            "61\n",
            "62\n",
            "Fizz\n",
            "64\n",
            "Buzz\n",
            "Fizz\n",
            "67\n",
            "68\n",
            "Fizz\n",
            "Buzz\n",
            "71\n",
            "Fizz\n",
            "73\n",
            "74\n",
            "FizzBuzz\n",
            "76\n",
            "77\n",
            "Fizz\n",
            "79\n",
            "Buzz\n",
            "Fizz\n",
            "82\n",
            "83\n",
            "Fizz\n",
            "Buzz\n",
            "86\n",
            "Fizz\n",
            "88\n",
            "89\n",
            "FizzBuzz\n",
            "91\n",
            "92\n",
            "Fizz\n",
            "94\n",
            "Buzz\n",
            "Fizz\n",
            "97\n",
            "98\n",
            "Fizz\n",
            "Buzz\n"
          ]
        }
      ]
    },
    {
      "cell_type": "code",
      "source": [
        "# loop control\n",
        "# break, continue , pass\n",
        "\n",
        "for i in l:\n",
        "  pass"
      ],
      "metadata": {
        "id": "4ojqA5Gdp6r_"
      },
      "execution_count": 23,
      "outputs": []
    },
    {
      "cell_type": "code",
      "source": [
        "# break\n",
        "for i in l:\n",
        "  if i==50:\n",
        "    print(i)\n",
        "    break\n",
        "  if i==49:\n",
        "    print(i)"
      ],
      "metadata": {
        "colab": {
          "base_uri": "https://localhost:8080/"
        },
        "id": "tyNmvJBDqdNk",
        "outputId": "04f42c1a-4575-458d-f877-000a7779ee89"
      },
      "execution_count": 26,
      "outputs": [
        {
          "output_type": "stream",
          "name": "stdout",
          "text": [
            "49\n",
            "50\n"
          ]
        }
      ]
    },
    {
      "cell_type": "code",
      "source": [
        "l = [1,2,3,4,5,6,7,8,9,10]\n",
        "\n",
        "for i in l:\n",
        "  if i%3==0:\n",
        "    continue\n",
        "  else:\n",
        "    print(i)"
      ],
      "metadata": {
        "colab": {
          "base_uri": "https://localhost:8080/"
        },
        "id": "8T_uaelWrYcc",
        "outputId": "f46115a3-bd5b-4cd2-9f0b-fce70227b978"
      },
      "execution_count": 27,
      "outputs": [
        {
          "output_type": "stream",
          "name": "stdout",
          "text": [
            "1\n",
            "2\n",
            "4\n",
            "5\n",
            "7\n",
            "8\n",
            "10\n"
          ]
        }
      ]
    },
    {
      "cell_type": "markdown",
      "source": [
        "## Nested loop"
      ],
      "metadata": {
        "id": "V369-bvbtEzg"
      }
    },
    {
      "cell_type": "code",
      "source": [
        "l= [1,2,3,4,5,6,7,8,9,10]\n",
        "m = [\"a\",\"b\",\"c\"]\n",
        "for num in l:\n",
        "  for letter in m:\n",
        "    print(num,letter)"
      ],
      "metadata": {
        "colab": {
          "base_uri": "https://localhost:8080/"
        },
        "id": "8JiQNiwctEe_",
        "outputId": "43330ee5-dde1-4814-a740-2dc16535834f"
      },
      "execution_count": 28,
      "outputs": [
        {
          "output_type": "stream",
          "name": "stdout",
          "text": [
            "1 a\n",
            "1 b\n",
            "1 c\n",
            "2 a\n",
            "2 b\n",
            "2 c\n",
            "3 a\n",
            "3 b\n",
            "3 c\n",
            "4 a\n",
            "4 b\n",
            "4 c\n",
            "5 a\n",
            "5 b\n",
            "5 c\n",
            "6 a\n",
            "6 b\n",
            "6 c\n",
            "7 a\n",
            "7 b\n",
            "7 c\n",
            "8 a\n",
            "8 b\n",
            "8 c\n",
            "9 a\n",
            "9 b\n",
            "9 c\n",
            "10 a\n",
            "10 b\n",
            "10 c\n"
          ]
        }
      ]
    },
    {
      "cell_type": "code",
      "source": [
        "a = \"\"\" Catherine went to chruch and it was raning heavily\n",
        "so catherine was late to class and the class had already started\n",
        "\"\"\"\n",
        "l = a.split()\n",
        "for i in l:\n",
        "  for j in i:\n",
        "    if j==\"c\" or j==\"t\":\n",
        "      print(i)\n",
        "      break\n"
      ],
      "metadata": {
        "colab": {
          "base_uri": "https://localhost:8080/"
        },
        "id": "oOSGv_JtuBFD",
        "outputId": "bee996b9-6eec-4390-c436-9af9a3bf1bdd"
      },
      "execution_count": 39,
      "outputs": [
        {
          "output_type": "stream",
          "name": "stdout",
          "text": [
            "Catherine\n",
            "went\n",
            "to\n",
            "chruch\n",
            "it\n",
            "catherine\n",
            "late\n",
            "to\n",
            "class\n",
            "the\n",
            "class\n",
            "started\n"
          ]
        }
      ]
    },
    {
      "cell_type": "code",
      "source": [
        "\"catherine\" == \"c\""
      ],
      "metadata": {
        "colab": {
          "base_uri": "https://localhost:8080/"
        },
        "id": "uVqlUlmuvrwD",
        "outputId": "d73f4314-d38c-442b-abd3-cbc9a5f4e3ea"
      },
      "execution_count": 33,
      "outputs": [
        {
          "output_type": "execute_result",
          "data": {
            "text/plain": [
              "False"
            ]
          },
          "metadata": {},
          "execution_count": 33
        }
      ]
    }
  ]
}