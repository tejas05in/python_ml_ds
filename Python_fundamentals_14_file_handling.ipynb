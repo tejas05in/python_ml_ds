{
 "cells": [
  {
   "cell_type": "markdown",
   "metadata": {},
   "source": [
    "# **Python fundamentals 14 - File handling**"
   ]
  },
  {
   "cell_type": "code",
   "metadata": {
    "ExecuteTime": {
     "end_time": "2025-02-06T20:47:04.081320Z",
     "start_time": "2025-02-06T20:47:04.070789Z"
    }
   },
   "source": "f = open(\"my_text.txt\", \"r\")",
   "outputs": [],
   "execution_count": 32
  },
  {
   "cell_type": "code",
   "metadata": {
    "ExecuteTime": {
     "end_time": "2025-02-06T20:47:04.137977Z",
     "start_time": "2025-02-06T20:47:04.127143Z"
    }
   },
   "source": [
    "# f.readlines()"
   ],
   "outputs": [],
   "execution_count": 33
  },
  {
   "cell_type": "code",
   "metadata": {
    "ExecuteTime": {
     "end_time": "2025-02-06T20:47:04.159009Z",
     "start_time": "2025-02-06T20:47:04.146062Z"
    }
   },
   "source": [
    "# f.read()"
   ],
   "outputs": [],
   "execution_count": 34
  },
  {
   "cell_type": "markdown",
   "metadata": {},
   "source": [
    "## part of the file"
   ]
  },
  {
   "cell_type": "code",
   "metadata": {
    "ExecuteTime": {
     "end_time": "2025-02-06T20:47:04.183925Z",
     "start_time": "2025-02-06T20:47:04.176163Z"
    }
   },
   "source": [
    "# print(f.read(50))"
   ],
   "outputs": [],
   "execution_count": 35
  },
  {
   "cell_type": "markdown",
   "metadata": {},
   "source": [
    "## Individual lines"
   ]
  },
  {
   "cell_type": "code",
   "metadata": {
    "ExecuteTime": {
     "end_time": "2025-02-06T20:47:04.201780Z",
     "start_time": "2025-02-06T20:47:04.193264Z"
    }
   },
   "source": [
    "f.readline()"
   ],
   "outputs": [
    {
     "data": {
      "text/plain": [
       "'this is with open writingThis is my mutiple line info\\n'"
      ]
     },
     "execution_count": 36,
     "metadata": {},
     "output_type": "execute_result"
    }
   ],
   "execution_count": 36
  },
  {
   "cell_type": "code",
   "metadata": {
    "ExecuteTime": {
     "end_time": "2025-02-06T20:47:04.258438Z",
     "start_time": "2025-02-06T20:47:04.250651Z"
    }
   },
   "source": [
    "f.readline()"
   ],
   "outputs": [
    {
     "data": {
      "text/plain": [
       "'    i am using this for first time\\n'"
      ]
     },
     "execution_count": 37,
     "metadata": {},
     "output_type": "execute_result"
    }
   ],
   "execution_count": 37
  },
  {
   "cell_type": "code",
   "metadata": {
    "ExecuteTime": {
     "end_time": "2025-02-06T20:47:04.314049Z",
     "start_time": "2025-02-06T20:47:04.307455Z"
    }
   },
   "source": [
    "f.readlines()"
   ],
   "outputs": [
    {
     "data": {
      "text/plain": [
       "['    i really like python\\n', '    ']"
      ]
     },
     "execution_count": 38,
     "metadata": {},
     "output_type": "execute_result"
    }
   ],
   "execution_count": 38
  },
  {
   "cell_type": "code",
   "metadata": {
    "ExecuteTime": {
     "end_time": "2025-02-06T20:47:04.357522Z",
     "start_time": "2025-02-06T20:47:04.350452Z"
    }
   },
   "source": [
    "for char in f:\n",
    "    print(char)"
   ],
   "outputs": [],
   "execution_count": 39
  },
  {
   "cell_type": "code",
   "metadata": {
    "ExecuteTime": {
     "end_time": "2025-02-06T20:47:04.395160Z",
     "start_time": "2025-02-06T20:47:04.388855Z"
    }
   },
   "source": [
    "f.close()"
   ],
   "outputs": [],
   "execution_count": 40
  },
  {
   "cell_type": "markdown",
   "metadata": {},
   "source": [
    "## Writing into file"
   ]
  },
  {
   "cell_type": "code",
   "metadata": {
    "ExecuteTime": {
     "end_time": "2025-02-06T20:47:04.406196Z",
     "start_time": "2025-02-06T20:47:04.399870Z"
    }
   },
   "source": [
    "f = open(\"my_text.txt\", \"w\")"
   ],
   "outputs": [],
   "execution_count": 41
  },
  {
   "cell_type": "code",
   "metadata": {
    "ExecuteTime": {
     "end_time": "2025-02-06T20:47:04.426493Z",
     "start_time": "2025-02-06T20:47:04.415908Z"
    }
   },
   "source": [
    "f.write(\"This is my new text\")"
   ],
   "outputs": [
    {
     "data": {
      "text/plain": [
       "19"
      ]
     },
     "execution_count": 42,
     "metadata": {},
     "output_type": "execute_result"
    }
   ],
   "execution_count": 42
  },
  {
   "cell_type": "code",
   "metadata": {
    "ExecuteTime": {
     "end_time": "2025-02-06T20:47:04.454003Z",
     "start_time": "2025-02-06T20:47:04.446705Z"
    }
   },
   "source": [
    "f.close()"
   ],
   "outputs": [],
   "execution_count": 43
  },
  {
   "cell_type": "markdown",
   "metadata": {},
   "source": [
    "## Append info"
   ]
  },
  {
   "cell_type": "code",
   "metadata": {
    "ExecuteTime": {
     "end_time": "2025-02-06T20:47:04.468326Z",
     "start_time": "2025-02-06T20:47:04.462734Z"
    }
   },
   "source": "f = open(\"my_text.txt\", \"a\")",
   "outputs": [],
   "execution_count": 44
  },
  {
   "cell_type": "code",
   "metadata": {
    "ExecuteTime": {
     "end_time": "2025-02-06T20:47:04.485095Z",
     "start_time": "2025-02-06T20:47:04.478855Z"
    }
   },
   "source": [
    "f.write(\n",
    "    \"\"\"This is my mutiple line info\n",
    "    i am using this for first time\n",
    "    i really like python\n",
    "    \"\"\"\n",
    ")"
   ],
   "outputs": [
    {
     "data": {
      "text/plain": [
       "93"
      ]
     },
     "execution_count": 45,
     "metadata": {},
     "output_type": "execute_result"
    }
   ],
   "execution_count": 45
  },
  {
   "cell_type": "code",
   "metadata": {
    "ExecuteTime": {
     "end_time": "2025-02-06T20:47:04.513839Z",
     "start_time": "2025-02-06T20:47:04.505412Z"
    }
   },
   "source": [
    "f.close()"
   ],
   "outputs": [],
   "execution_count": 46
  },
  {
   "cell_type": "markdown",
   "metadata": {},
   "source": [
    "### combined all in one"
   ]
  },
  {
   "cell_type": "code",
   "metadata": {
    "ExecuteTime": {
     "end_time": "2025-02-06T20:47:04.543137Z",
     "start_time": "2025-02-06T20:47:04.537774Z"
    }
   },
   "source": [
    "with open(\"my_text.txt\",\"w\") as file:\n",
    "    file.write(\"this is with open writing\")"
   ],
   "outputs": [],
   "execution_count": 47
  },
  {
   "cell_type": "code",
   "metadata": {
    "ExecuteTime": {
     "end_time": "2025-02-06T20:47:04.557659Z",
     "start_time": "2025-02-06T20:47:04.550716Z"
    }
   },
   "source": [
    "with open(\"my_text.txt\") as f:\n",
    "    x = f.read()\n",
    "    a = \"\"\n",
    "    for i in x:\n",
    "        if i != \" \":\n",
    "            a += i\n",
    "        else:\n",
    "            print(a)\n",
    "            a = \"\"\n",
    "    else:\n",
    "        print(a)\n",
    "        "
   ],
   "outputs": [
    {
     "name": "stdout",
     "output_type": "stream",
     "text": [
      "this\n",
      "is\n",
      "with\n",
      "open\n",
      "writing\n"
     ]
    }
   ],
   "execution_count": 48
  },
  {
   "cell_type": "code",
   "metadata": {
    "ExecuteTime": {
     "end_time": "2025-02-06T20:47:04.587125Z",
     "start_time": "2025-02-06T20:47:04.582512Z"
    }
   },
   "source": [],
   "outputs": [],
   "execution_count": null
  }
 ],
 "metadata": {
  "kernelspec": {
   "display_name": "Python 3",
   "language": "python",
   "name": "python3"
  },
  "language_info": {
   "codemirror_mode": {
    "name": "ipython",
    "version": 3
   },
   "file_extension": ".py",
   "mimetype": "text/x-python",
   "name": "python",
   "nbconvert_exporter": "python",
   "pygments_lexer": "ipython3",
   "version": "3.12.0"
  }
 },
 "nbformat": 4,
 "nbformat_minor": 2
}
