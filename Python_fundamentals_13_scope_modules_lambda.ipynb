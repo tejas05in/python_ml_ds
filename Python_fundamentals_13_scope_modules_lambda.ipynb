{
 "cells": [
  {
   "cell_type": "markdown",
   "id": "f4e5d0eb-215a-49b4-900c-a8a5a3dae744",
   "metadata": {},
   "source": [
    "# Python Scope"
   ]
  },
  {
   "cell_type": "markdown",
   "id": "7af9e37e-4a7d-4fa9-98f3-e3039d40785d",
   "metadata": {},
   "source": [
    "A variable is only available from inside the region it is created. This is called scope."
   ]
  },
  {
   "cell_type": "code",
   "execution_count": 1,
   "id": "c83fdf1c-7449-44ec-bff7-788a8c28bbf0",
   "metadata": {},
   "outputs": [],
   "source": [
    "a = 12"
   ]
  },
  {
   "cell_type": "code",
   "execution_count": 2,
   "id": "d89d4e7e-21c7-4856-80e5-aa1de11a3e7c",
   "metadata": {},
   "outputs": [
    {
     "name": "stdout",
     "output_type": "stream",
     "text": [
      "12\n"
     ]
    }
   ],
   "source": [
    "print(a)"
   ]
  },
  {
   "cell_type": "markdown",
   "id": "9b4f7e90-5bf4-424d-b149-3463a2767f04",
   "metadata": {},
   "source": [
    "## Local Scope\n",
    "A variable created inside a function belongs to the local scope of that function, and can only be used inside that function."
   ]
  },
  {
   "cell_type": "code",
   "execution_count": 3,
   "id": "775acc21-7442-4c25-9d49-24ce1fa9393f",
   "metadata": {},
   "outputs": [],
   "source": [
    "def fun1():\n",
    "    x = 100\n",
    "    print(x)"
   ]
  },
  {
   "cell_type": "code",
   "execution_count": 4,
   "id": "c93d9d42-621f-4bce-a39f-e0aea615582d",
   "metadata": {},
   "outputs": [
    {
     "name": "stdout",
     "output_type": "stream",
     "text": [
      "100\n"
     ]
    },
    {
     "ename": "NameError",
     "evalue": "name 'x' is not defined",
     "output_type": "error",
     "traceback": [
      "\u001b[1;31m---------------------------------------------------------------------------\u001b[0m",
      "\u001b[1;31mNameError\u001b[0m                                 Traceback (most recent call last)",
      "Cell \u001b[1;32mIn[4], line 2\u001b[0m\n\u001b[0;32m      1\u001b[0m fun1()\n\u001b[1;32m----> 2\u001b[0m \u001b[38;5;28mprint\u001b[39m(\u001b[43mx\u001b[49m)\n",
      "\u001b[1;31mNameError\u001b[0m: name 'x' is not defined"
     ]
    }
   ],
   "source": [
    "fun1()\n",
    "print(x)"
   ]
  },
  {
   "cell_type": "markdown",
   "id": "697694da-7582-4c6c-b82d-d787a9464396",
   "metadata": {},
   "source": [
    "## Function Inside Function\n",
    "As explained in the example above, the variable x is not available outside the function, but it is available for any function inside the function:"
   ]
  },
  {
   "cell_type": "code",
   "execution_count": 5,
   "id": "d159a17b-cbdd-47e1-90e6-c8cdb5c1cf6f",
   "metadata": {},
   "outputs": [],
   "source": [
    "def fun2():\n",
    "    x = 100\n",
    "    def myfunction():\n",
    "        print(x*2)\n",
    "    myfunction()"
   ]
  },
  {
   "cell_type": "code",
   "execution_count": 6,
   "id": "113d429b-3dfd-48e3-ad02-6c7783c51c61",
   "metadata": {},
   "outputs": [
    {
     "name": "stdout",
     "output_type": "stream",
     "text": [
      "200\n"
     ]
    }
   ],
   "source": [
    "fun2()"
   ]
  },
  {
   "cell_type": "markdown",
   "id": "38d54c1f-68e0-4326-8192-93acd1a31034",
   "metadata": {},
   "source": [
    "## Global Scope\n",
    "A variable created in the main body of the Python code is a global variable and belongs to the global scope.\n",
    "\n",
    "Global variables are available from within any scope, global and local."
   ]
  },
  {
   "cell_type": "code",
   "execution_count": 7,
   "id": "11ba488b-604c-4eb7-ab1c-f8862d07e46c",
   "metadata": {},
   "outputs": [
    {
     "name": "stdout",
     "output_type": "stream",
     "text": [
      "1000\n"
     ]
    }
   ],
   "source": [
    "x = 1000\n",
    "def fun3():\n",
    "    print(x)\n",
    "fun3()"
   ]
  },
  {
   "cell_type": "markdown",
   "id": "4640df7b-cba1-4a67-a50f-bd73227163d8",
   "metadata": {},
   "source": [
    "## Naming Variables\n",
    "If you operate with the same variable name inside and outside of a function, Python will treat them as two separate variables, one available in the global scope (outside the function) and one available in the local scope (inside the function):"
   ]
  },
  {
   "cell_type": "code",
   "execution_count": 8,
   "id": "869e07e3-be6a-48e3-977b-f352b9efd5bd",
   "metadata": {},
   "outputs": [
    {
     "name": "stdout",
     "output_type": "stream",
     "text": [
      "200\n",
      "300\n"
     ]
    }
   ],
   "source": [
    "x = 300\n",
    "\n",
    "def myfunc():\n",
    "  x = 200\n",
    "  print(x)\n",
    "\n",
    "myfunc()\n",
    "\n",
    "print(x)"
   ]
  },
  {
   "cell_type": "markdown",
   "id": "22b7aa1b-924c-4113-a498-1cd7a3d9c5d6",
   "metadata": {},
   "source": [
    "## Global Keyword\n",
    "If you need to create a global variable, but are stuck in the local scope, you can use the global keyword.\n",
    "\n",
    "The global keyword makes the variable global."
   ]
  },
  {
   "cell_type": "code",
   "execution_count": 12,
   "id": "d004e737-1c4e-45d2-b0c5-edababa612a3",
   "metadata": {},
   "outputs": [],
   "source": [
    "def fun4():\n",
    "    global y\n",
    "    y = 400\n",
    "    print(y)"
   ]
  },
  {
   "cell_type": "code",
   "execution_count": 13,
   "id": "e486b0f2-f0a0-4281-9274-04d2aebd6e2f",
   "metadata": {},
   "outputs": [
    {
     "name": "stdout",
     "output_type": "stream",
     "text": [
      "400\n",
      "400\n"
     ]
    }
   ],
   "source": [
    "fun4()\n",
    "print(y)"
   ]
  },
  {
   "cell_type": "markdown",
   "id": "c687e6de-a7df-40c3-85b6-9e006b3b36af",
   "metadata": {},
   "source": [
    "# Python Modules"
   ]
  },
  {
   "cell_type": "markdown",
   "id": "0c42f633-9dc0-4cca-845b-6fdd95de1e82",
   "metadata": {},
   "source": [
    "## What is a Module?\n",
    "Consider a module to be the same as a code library.\n",
    "\n",
    "A file containing a set of functions you want to include in your application.\n",
    "\n",
    "### Create a Module\n",
    "To create a module just save the code you want in a file with the file extension .py:"
   ]
  },
  {
   "cell_type": "code",
   "execution_count": 14,
   "id": "db849a6d-ed12-44ca-bef5-9b78aacd59ae",
   "metadata": {},
   "outputs": [],
   "source": [
    "import my_module"
   ]
  },
  {
   "cell_type": "code",
   "execution_count": 15,
   "id": "434fc02b-dc3f-4a7a-80cc-9b2d7dc0247b",
   "metadata": {},
   "outputs": [
    {
     "name": "stdout",
     "output_type": "stream",
     "text": [
      "Hello tejas\n"
     ]
    }
   ],
   "source": [
    "my_module.greeting(\"tejas\")"
   ]
  },
  {
   "cell_type": "markdown",
   "id": "29b7b130-d780-4323-aee7-22871355b945",
   "metadata": {},
   "source": [
    "## Variables in Module"
   ]
  },
  {
   "cell_type": "code",
   "execution_count": 1,
   "id": "c7a0f406-554f-423f-b6d1-144e44c6cfc6",
   "metadata": {},
   "outputs": [],
   "source": [
    "from my_module import my_dict"
   ]
  },
  {
   "cell_type": "code",
   "execution_count": 2,
   "id": "7261c750-4ef7-4025-b7ad-5a1295e46f93",
   "metadata": {},
   "outputs": [
    {
     "data": {
      "text/plain": [
       "200"
      ]
     },
     "execution_count": 2,
     "metadata": {},
     "output_type": "execute_result"
    }
   ],
   "source": [
    "my_dict[\"cat\"]"
   ]
  },
  {
   "cell_type": "markdown",
   "id": "81691eb3-1627-4cf5-84c1-7ab6c49b8f73",
   "metadata": {},
   "source": [
    "## Naming a Module\n",
    "You can name the module file whatever you like, but it must have the file extension .py\n",
    "\n",
    "## Re-naming a Module\n",
    "You can create an alias when you import a module, by using the as keyword"
   ]
  },
  {
   "cell_type": "code",
   "execution_count": 3,
   "id": "d28958ff-802b-4382-b2ab-78baf3d556d9",
   "metadata": {},
   "outputs": [],
   "source": [
    "import my_module as mm"
   ]
  },
  {
   "cell_type": "code",
   "execution_count": 4,
   "id": "12063351-6def-4eb3-a5c3-4bc8a863c504",
   "metadata": {},
   "outputs": [
    {
     "data": {
      "text/plain": [
       "{'cat': 200, 'bat': 300, 'rat': 400}"
      ]
     },
     "execution_count": 4,
     "metadata": {},
     "output_type": "execute_result"
    }
   ],
   "source": [
    "mm.my_dict"
   ]
  },
  {
   "cell_type": "markdown",
   "id": "0e763ada-c4d9-4f04-a89d-9bf58dedbf2b",
   "metadata": {},
   "source": [
    "## Built-in Modules\n",
    "There are several built-in modules in Python, which you can import whenever you like."
   ]
  },
  {
   "cell_type": "code",
   "execution_count": 5,
   "id": "7456ef6b-7672-402f-9a90-218b097de3b1",
   "metadata": {},
   "outputs": [],
   "source": [
    "import math"
   ]
  },
  {
   "cell_type": "code",
   "execution_count": 6,
   "id": "651b2dd9-187e-4788-8c69-52effe73beae",
   "metadata": {},
   "outputs": [
    {
     "data": {
      "text/plain": [
       "2.718281828459045"
      ]
     },
     "execution_count": 6,
     "metadata": {},
     "output_type": "execute_result"
    }
   ],
   "source": [
    "math.e"
   ]
  },
  {
   "cell_type": "markdown",
   "id": "41744641-8f53-4841-9f07-270de9c5f18e",
   "metadata": {},
   "source": [
    "## Using the dir() Function\n",
    "There is a built-in function to list all the function names (or variable names) in a module. The dir() function:"
   ]
  },
  {
   "cell_type": "code",
   "execution_count": 7,
   "id": "00279711-359e-4a60-b2a2-138fbf781b54",
   "metadata": {},
   "outputs": [
    {
     "data": {
      "text/plain": [
       "['__doc__',\n",
       " '__loader__',\n",
       " '__name__',\n",
       " '__package__',\n",
       " '__spec__',\n",
       " 'acos',\n",
       " 'acosh',\n",
       " 'asin',\n",
       " 'asinh',\n",
       " 'atan',\n",
       " 'atan2',\n",
       " 'atanh',\n",
       " 'cbrt',\n",
       " 'ceil',\n",
       " 'comb',\n",
       " 'copysign',\n",
       " 'cos',\n",
       " 'cosh',\n",
       " 'degrees',\n",
       " 'dist',\n",
       " 'e',\n",
       " 'erf',\n",
       " 'erfc',\n",
       " 'exp',\n",
       " 'exp2',\n",
       " 'expm1',\n",
       " 'fabs',\n",
       " 'factorial',\n",
       " 'floor',\n",
       " 'fmod',\n",
       " 'frexp',\n",
       " 'fsum',\n",
       " 'gamma',\n",
       " 'gcd',\n",
       " 'hypot',\n",
       " 'inf',\n",
       " 'isclose',\n",
       " 'isfinite',\n",
       " 'isinf',\n",
       " 'isnan',\n",
       " 'isqrt',\n",
       " 'lcm',\n",
       " 'ldexp',\n",
       " 'lgamma',\n",
       " 'log',\n",
       " 'log10',\n",
       " 'log1p',\n",
       " 'log2',\n",
       " 'modf',\n",
       " 'nan',\n",
       " 'nextafter',\n",
       " 'perm',\n",
       " 'pi',\n",
       " 'pow',\n",
       " 'prod',\n",
       " 'radians',\n",
       " 'remainder',\n",
       " 'sin',\n",
       " 'sinh',\n",
       " 'sqrt',\n",
       " 'tan',\n",
       " 'tanh',\n",
       " 'tau',\n",
       " 'trunc',\n",
       " 'ulp']"
      ]
     },
     "execution_count": 7,
     "metadata": {},
     "output_type": "execute_result"
    }
   ],
   "source": [
    "dir(math)"
   ]
  },
  {
   "cell_type": "code",
   "execution_count": 8,
   "id": "83ce89b2-5ccd-4f38-90ac-ebb8410f4abf",
   "metadata": {},
   "outputs": [
    {
     "data": {
      "text/plain": [
       "3.141592653589793"
      ]
     },
     "execution_count": 8,
     "metadata": {},
     "output_type": "execute_result"
    }
   ],
   "source": [
    "math.pi"
   ]
  },
  {
   "cell_type": "markdown",
   "id": "7a977b30-202c-41cd-b026-acef0b037e55",
   "metadata": {},
   "source": [
    "## Import From Module\n",
    "You can choose to import only parts from a module, by using the from keyword."
   ]
  },
  {
   "cell_type": "code",
   "execution_count": null,
   "id": "688b7c87-1512-472d-885f-49afe4ad1a5a",
   "metadata": {},
   "outputs": [],
   "source": []
  },
  {
   "cell_type": "code",
   "execution_count": null,
   "id": "90f6b41d-4c78-490c-b479-46af98884d8f",
   "metadata": {},
   "outputs": [],
   "source": []
  },
  {
   "cell_type": "markdown",
   "id": "b4a35e73-da25-468e-870d-6e7e4ecf46a5",
   "metadata": {},
   "source": [
    "# Python Lambda\n",
    "A lambda function is a small anonymous function.\n",
    "\n",
    "A lambda function can take any number of arguments, but can only have one expression.\n",
    "\n",
    "`Syntax`\n",
    "\n",
    "`lambda arguments : expression`"
   ]
  },
  {
   "cell_type": "code",
   "execution_count": 9,
   "id": "f198507b-1754-4388-b972-f4c08a4c972b",
   "metadata": {},
   "outputs": [],
   "source": [
    "a = lambda x : x**3"
   ]
  },
  {
   "cell_type": "code",
   "execution_count": 10,
   "id": "8af188e3-cc8f-496d-9ed1-32aa16032fef",
   "metadata": {},
   "outputs": [
    {
     "data": {
      "text/plain": [
       "125"
      ]
     },
     "execution_count": 10,
     "metadata": {},
     "output_type": "execute_result"
    }
   ],
   "source": [
    "a(5)"
   ]
  },
  {
   "cell_type": "code",
   "execution_count": 3,
   "id": "fff0b826-ffc2-49a7-b7a7-a65a3c03bb00",
   "metadata": {},
   "outputs": [
    {
     "name": "stdout",
     "output_type": "stream",
     "text": [
      "15\n"
     ]
    }
   ],
   "source": [
    "x = lambda a : a + 10\n",
    "print(x(5))"
   ]
  },
  {
   "cell_type": "markdown",
   "id": "b51e4f0e-9389-46a4-9ffa-d6d7433ed4e6",
   "metadata": {},
   "source": [
    "## Why Use Lambda Functions?\n",
    "The power of lambda is better shown when you use them as an anonymous function inside another function.\n",
    "\n",
    "Say you have a function definition that takes one argument, and that argument will be multiplied with an unknown number:"
   ]
  },
  {
   "cell_type": "code",
   "execution_count": 11,
   "id": "4f3f4e66-b850-45ea-8050-97e04977f232",
   "metadata": {},
   "outputs": [
    {
     "name": "stdout",
     "output_type": "stream",
     "text": [
      "22\n"
     ]
    }
   ],
   "source": [
    "def myfunc(n):\n",
    "  return lambda a : a * n\n",
    "\n",
    "mydoubler = myfunc(2)\n",
    "\n",
    "print(mydoubler(11))\n"
   ]
  },
  {
   "cell_type": "code",
   "execution_count": 12,
   "id": "e4e69bad-e8e6-4a24-adee-8c213b00af15",
   "metadata": {},
   "outputs": [
    {
     "data": {
      "text/plain": [
       "6"
      ]
     },
     "execution_count": 12,
     "metadata": {},
     "output_type": "execute_result"
    }
   ],
   "source": [
    "mytripler = myfunc(3)\n",
    "mytripler(2)"
   ]
  },
  {
   "cell_type": "code",
   "execution_count": 14,
   "id": "114a0729-7285-4766-9822-8b9363ca4c47",
   "metadata": {},
   "outputs": [
    {
     "data": {
      "text/plain": [
       "1.0"
      ]
     },
     "execution_count": 14,
     "metadata": {},
     "output_type": "execute_result"
    }
   ],
   "source": [
    "my_sqrt = myfunc(0.5)\n",
    "my_sqrt(2)"
   ]
  },
  {
   "cell_type": "code",
   "execution_count": null,
   "id": "8503cd8c-d352-4624-a3b9-2217b333166c",
   "metadata": {},
   "outputs": [],
   "source": []
  }
 ],
 "metadata": {
  "kernelspec": {
   "display_name": "Python 3 (ipykernel)",
   "language": "python",
   "name": "python3"
  },
  "language_info": {
   "codemirror_mode": {
    "name": "ipython",
    "version": 3
   },
   "file_extension": ".py",
   "mimetype": "text/x-python",
   "name": "python",
   "nbconvert_exporter": "python",
   "pygments_lexer": "ipython3",
   "version": "3.11.2"
  }
 },
 "nbformat": 4,
 "nbformat_minor": 5
}
