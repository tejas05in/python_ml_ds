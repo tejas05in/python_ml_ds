{
  "nbformat": 4,
  "nbformat_minor": 0,
  "metadata": {
    "colab": {
      "provenance": [],
      "authorship_tag": "ABX9TyN4m/BZNweSivv1xtVshewd",
      "include_colab_link": true
    },
    "kernelspec": {
      "name": "python3",
      "display_name": "Python 3"
    },
    "language_info": {
      "name": "python"
    }
  },
  "cells": [
    {
      "cell_type": "markdown",
      "metadata": {
        "id": "view-in-github",
        "colab_type": "text"
      },
      "source": [
        "<a href=\"https://colab.research.google.com/github/tejas05in/python_ml_ds/blob/main/Python_fundamentals_3_while_loop_tasks_answers.ipynb\" target=\"_parent\"><img src=\"https://colab.research.google.com/assets/colab-badge.svg\" alt=\"Open In Colab\"/></a>"
      ]
    },
    {
      "cell_type": "markdown",
      "source": [
        "# **`Python_fundamentals_3_while_loop_tasks_answers`**"
      ],
      "metadata": {
        "id": "P6JUkRnOqE2h"
      }
    },
    {
      "cell_type": "markdown",
      "source": [
        "**Q1.\tPrint the square of “n\" numbers using while loop. “n” is user input integer**"
      ],
      "metadata": {
        "id": "wT3YD8rEmoiw"
      }
    },
    {
      "cell_type": "code",
      "source": [
        "num = int(input(\"Enter a number: \"))\n",
        "start = 1\n",
        "while start <= num:\n",
        "  print(start**2)\n",
        "  start +=1"
      ],
      "metadata": {
        "colab": {
          "base_uri": "https://localhost:8080/"
        },
        "id": "IGn4HMLJmwb6",
        "outputId": "c8a1c8d1-2397-48cc-8006-c9679a525ee8"
      },
      "execution_count": 6,
      "outputs": [
        {
          "output_type": "stream",
          "name": "stdout",
          "text": [
            "Enter a number: 10\n",
            "1\n",
            "4\n",
            "9\n",
            "16\n",
            "25\n",
            "36\n",
            "49\n",
            "64\n",
            "81\n",
            "100\n"
          ]
        }
      ]
    },
    {
      "cell_type": "markdown",
      "source": [
        "**Q2.\tFinding the factorial of a given number using while loop.**\n",
        "\n",
        "  Write a program to use the loop to find the factorial of a given number.\n",
        "The factorial (!) means to multiply all whole numbers from the chosen number down to 1.\n",
        "\n",
        "  For example: calculate the factorial of 5\n",
        "\n",
        "  5! = 5 × 4 × 3 × 2 × 1 = 120\n",
        "\n",
        "  Output: 120\n"
      ],
      "metadata": {
        "id": "OaUufKRClS3L"
      }
    },
    {
      "cell_type": "code",
      "execution_count": 3,
      "metadata": {
        "colab": {
          "base_uri": "https://localhost:8080/"
        },
        "id": "blmOsTvMlLD1",
        "outputId": "cb003f05-93f8-4010-9718-340dc791c169"
      },
      "outputs": [
        {
          "output_type": "stream",
          "name": "stdout",
          "text": [
            "Enter a number to find its factorial: 5\n",
            "120\n"
          ]
        }
      ],
      "source": [
        "num = int(input(\"Enter a number to find its factorial: \"))\n",
        "factorial = 1\n",
        "while num > 0:\n",
        "  factorial *= num\n",
        "  num -=1\n",
        "print(factorial)"
      ]
    },
    {
      "cell_type": "markdown",
      "source": [
        "**Q3.\tFinding the average of 5 numbers. Take each number from the user separately using the while loop**"
      ],
      "metadata": {
        "id": "in7LPUmGnWPR"
      }
    },
    {
      "cell_type": "code",
      "source": [
        "# Average of 5 numbers with while loop\n",
        "sum_of_numbers = 0\n",
        "counter = 0\n",
        "while counter < 5:\n",
        "  counter +=1\n",
        "  num = int(input(f\"Enter a number {counter}: \"))\n",
        "  sum_of_numbers += num\n",
        "print(sum_of_numbers/counter)"
      ],
      "metadata": {
        "colab": {
          "base_uri": "https://localhost:8080/"
        },
        "id": "mA6_E7vLmUkI",
        "outputId": "5817d3b0-f33a-4438-812c-8fb41fda620e"
      },
      "execution_count": 9,
      "outputs": [
        {
          "output_type": "stream",
          "name": "stdout",
          "text": [
            "Enter a number 1: 10\n",
            "Enter a number 2: 20\n",
            "Enter a number 3: 30\n",
            "Enter a number 4: 40\n",
            "Enter a number 5: 50\n",
            "30.0\n"
          ]
        }
      ]
    },
    {
      "cell_type": "markdown",
      "source": [
        "**Q4.\tWrite a while loop to find the product of all the digits given together by the user:**\n",
        "\n",
        "  Example:\n",
        "\n",
        "  Input: 123\n",
        "\n",
        "  Output: 6\n",
        "\n",
        "  Explanation: 1+2+3 = 6"
      ],
      "metadata": {
        "id": "wCWBUz0woykK"
      }
    },
    {
      "cell_type": "code",
      "source": [
        "num = int(input(\"Enter a number: \"))\n",
        "ans = 0\n",
        "while num > 0:\n",
        "  last = num%10\n",
        "  ans += last\n",
        "  num = num//10\n",
        "print(\"The final answer is:\",ans)\n"
      ],
      "metadata": {
        "colab": {
          "base_uri": "https://localhost:8080/"
        },
        "id": "nJ_ewHnCoyNL",
        "outputId": "106da263-a3cb-4ba4-e08e-c5693903145a"
      },
      "execution_count": 13,
      "outputs": [
        {
          "output_type": "stream",
          "name": "stdout",
          "text": [
            "Enter a number: 1234\n",
            "The final answer is: 10\n"
          ]
        }
      ]
    },
    {
      "cell_type": "markdown",
      "source": [
        "**Q5.\tReverse a given integer number.**\n",
        "\n",
        "Example:\n",
        "\n",
        "Input:76542\n",
        "\n",
        "Output:24567\n"
      ],
      "metadata": {
        "id": "SXZkf0TfqT_W"
      }
    },
    {
      "cell_type": "code",
      "source": [
        "num = int(input(\"Enter a number: \"))\n",
        "ans = 0\n",
        "while num > 0:\n",
        "  last = num%10\n",
        "  ans = ans*10 + last\n",
        "  num = num//10\n",
        "print(\"The reversed sequence is:\",ans)"
      ],
      "metadata": {
        "colab": {
          "base_uri": "https://localhost:8080/"
        },
        "id": "XRR566kgqTpo",
        "outputId": "c6fb9b77-c436-44a7-81b5-4a87abff10d3"
      },
      "execution_count": 18,
      "outputs": [
        {
          "output_type": "stream",
          "name": "stdout",
          "text": [
            "Enter a number: 1230345\n",
            "The reversed sequence is: 5430321\n"
          ]
        }
      ]
    },
    {
      "cell_type": "markdown",
      "source": [
        "# **THANK YOU!! 🙏**"
      ],
      "metadata": {
        "id": "tgtMEvokrlua"
      }
    }
  ]
}