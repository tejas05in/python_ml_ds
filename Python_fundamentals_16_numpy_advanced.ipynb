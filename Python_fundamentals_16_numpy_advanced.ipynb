{
  "cells": [
    {
      "cell_type": "code",
      "execution_count": 1,
      "metadata": {},
      "outputs": [],
      "source": [
        "import numpy as np"
      ]
    },
    {
      "cell_type": "markdown",
      "metadata": {
        "id": "exouV4nxLocj"
      },
      "source": [
        "### Numpy array vs Python lists"
      ]
    },
    {
      "cell_type": "code",
      "execution_count": 4,
      "metadata": {
        "colab": {
          "base_uri": "https://localhost:8080/"
        },
        "id": "9ITuYx0tLnbc",
        "outputId": "3b2046b3-40a0-427d-d28a-27c0afa55bda"
      },
      "outputs": [
        {
          "name": "stdout",
          "output_type": "stream",
          "text": [
            "1.3717851638793945\n"
          ]
        }
      ],
      "source": [
        "# speed\n",
        "# list\n",
        "a = [i for i in range(10000000)]\n",
        "b = [i for i in range(10000000,20000000)]\n",
        "\n",
        "c = []\n",
        "import time \n",
        "\n",
        "start = time.time()\n",
        "for i in range(len(a)):\n",
        "  c.append(a[i] + b[i])\n",
        "print(time.time()-start)"
      ]
    },
    {
      "cell_type": "code",
      "execution_count": 5,
      "metadata": {
        "colab": {
          "base_uri": "https://localhost:8080/"
        },
        "id": "EW6ISYk6ZifP",
        "outputId": "16d22f74-8e1a-4533-e346-a109693f3874"
      },
      "outputs": [
        {
          "name": "stdout",
          "output_type": "stream",
          "text": [
            "0.12674880027770996\n"
          ]
        }
      ],
      "source": [
        "# numpy\n",
        "import numpy as np\n",
        "a = np.arange(10000000)\n",
        "b = np.arange(10000000,20000000)\n",
        "\n",
        "start = time.time()\n",
        "c = a + b\n",
        "print(time.time()-start)"
      ]
    },
    {
      "cell_type": "code",
      "execution_count": 6,
      "metadata": {
        "colab": {
          "base_uri": "https://localhost:8080/"
        },
        "id": "D0rcBlxZB5tb",
        "outputId": "e459d12e-5aac-46b9-b8ea-81a151a386fb"
      },
      "outputs": [
        {
          "data": {
            "text/plain": [
              "11.416666666666668"
            ]
          },
          "execution_count": 6,
          "metadata": {},
          "output_type": "execute_result"
        }
      ],
      "source": [
        "1.37/0.12"
      ]
    },
    {
      "cell_type": "code",
      "execution_count": 7,
      "metadata": {
        "colab": {
          "base_uri": "https://localhost:8080/"
        },
        "id": "PSC79592SIZz",
        "outputId": "bfd06baa-daaf-47a4-b0e9-1d1d555dadc6"
      },
      "outputs": [
        {
          "data": {
            "text/plain": [
              "89095160"
            ]
          },
          "execution_count": 7,
          "metadata": {},
          "output_type": "execute_result"
        }
      ],
      "source": [
        "# memory\n",
        "a = [i for i in range(10000000)]\n",
        "import sys\n",
        "\n",
        "sys.getsizeof(a)"
      ]
    },
    {
      "cell_type": "code",
      "execution_count": 8,
      "metadata": {
        "colab": {
          "base_uri": "https://localhost:8080/"
        },
        "id": "mk_U1oHuaOSo",
        "outputId": "0c3cc1a7-6dbc-4185-cb06-b66f41fb0d25"
      },
      "outputs": [
        {
          "data": {
            "text/plain": [
              "10000112"
            ]
          },
          "execution_count": 8,
          "metadata": {},
          "output_type": "execute_result"
        }
      ],
      "source": [
        "a = np.arange(10000000,dtype=np.int8)\n",
        "sys.getsizeof(a)"
      ]
    },
    {
      "cell_type": "code",
      "execution_count": null,
      "metadata": {
        "id": "MiDnJvwBSJUt"
      },
      "outputs": [],
      "source": [
        "# convenience"
      ]
    },
    {
      "cell_type": "markdown",
      "metadata": {
        "id": "G7gJ1-8fLLEI"
      },
      "source": [
        "### Advanced Indexing"
      ]
    },
    {
      "cell_type": "code",
      "execution_count": 12,
      "metadata": {
        "colab": {
          "base_uri": "https://localhost:8080/"
        },
        "id": "vTt8xIaa1I1Y",
        "outputId": "63fe04d0-cd7f-41e8-91a5-b05cda245de5"
      },
      "outputs": [
        {
          "data": {
            "text/plain": [
              "array([[ 0,  1,  2,  3],\n",
              "       [ 4,  5,  6,  7],\n",
              "       [ 8,  9, 10, 11],\n",
              "       [12, 13, 14, 15],\n",
              "       [16, 17, 18, 19],\n",
              "       [20, 21, 22, 23]])"
            ]
          },
          "execution_count": 12,
          "metadata": {},
          "output_type": "execute_result"
        }
      ],
      "source": [
        "# Normal Indexing and slicing\n",
        "\n",
        "a = np.arange(24).reshape(6,4)\n",
        "a"
      ]
    },
    {
      "cell_type": "code",
      "execution_count": 13,
      "metadata": {
        "colab": {
          "base_uri": "https://localhost:8080/"
        },
        "id": "cl0vYVxEEOLs",
        "outputId": "2b844b3a-0088-4738-ec37-d8df0f1a4ce3"
      },
      "outputs": [
        {
          "data": {
            "text/plain": [
              "np.int64(6)"
            ]
          },
          "execution_count": 13,
          "metadata": {},
          "output_type": "execute_result"
        }
      ],
      "source": [
        "a[1,2]"
      ]
    },
    {
      "cell_type": "code",
      "execution_count": 15,
      "metadata": {
        "colab": {
          "base_uri": "https://localhost:8080/"
        },
        "id": "-4fMAMjwET20",
        "outputId": "ddad44f8-263a-49b4-ce88-227d7d394c17"
      },
      "outputs": [
        {
          "data": {
            "text/plain": [
              "array([[ 5,  6],\n",
              "       [ 9, 10]])"
            ]
          },
          "execution_count": 15,
          "metadata": {},
          "output_type": "execute_result"
        }
      ],
      "source": [
        "a[1:3,1:3]"
      ]
    },
    {
      "cell_type": "code",
      "execution_count": 17,
      "metadata": {
        "colab": {
          "base_uri": "https://localhost:8080/"
        },
        "id": "qxCgXTRo1Lk8",
        "outputId": "1ae760a1-1478-4986-fa7d-ecd11cef5155"
      },
      "outputs": [
        {
          "data": {
            "text/plain": [
              "array([[ 0,  2,  3],\n",
              "       [ 4,  6,  7],\n",
              "       [ 8, 10, 11],\n",
              "       [12, 14, 15],\n",
              "       [16, 18, 19],\n",
              "       [20, 22, 23]])"
            ]
          },
          "execution_count": 17,
          "metadata": {},
          "output_type": "execute_result"
        }
      ],
      "source": [
        "# Fancy Indexing\n",
        "a[:,[0,2,3]]"
      ]
    },
    {
      "cell_type": "code",
      "execution_count": 18,
      "metadata": {
        "colab": {
          "base_uri": "https://localhost:8080/"
        },
        "id": "3hrTxRuy1Noi",
        "outputId": "e3e508a9-bac1-4164-a840-58b0181d86d8"
      },
      "outputs": [
        {
          "data": {
            "text/plain": [
              "array([[28, 57, 86,  5],\n",
              "       [69, 56, 47, 16],\n",
              "       [17, 28,  5, 77],\n",
              "       [49, 43, 60, 45],\n",
              "       [57, 13, 59, 37],\n",
              "       [18,  6, 68, 26]], dtype=int32)"
            ]
          },
          "execution_count": 18,
          "metadata": {},
          "output_type": "execute_result"
        }
      ],
      "source": [
        "# Boolean Indexing\n",
        "import numpy as np\n",
        "a = np.random.randint(1,100,24).reshape(6,4)\n",
        "a"
      ]
    },
    {
      "cell_type": "code",
      "execution_count": 21,
      "metadata": {
        "colab": {
          "base_uri": "https://localhost:8080/"
        },
        "id": "zMvMQcm01mcG",
        "outputId": "84f3d478-774b-4c65-b45e-892bf27d9120"
      },
      "outputs": [
        {
          "data": {
            "text/plain": [
              "array([57, 86, 69, 56, 77, 60, 57, 59, 68], dtype=int32)"
            ]
          },
          "execution_count": 21,
          "metadata": {},
          "output_type": "execute_result"
        }
      ],
      "source": [
        "# find all numbers greater than 50\n",
        "a[a > 50]"
      ]
    },
    {
      "cell_type": "code",
      "execution_count": 22,
      "metadata": {
        "colab": {
          "base_uri": "https://localhost:8080/"
        },
        "id": "4-DCCCymG9HO",
        "outputId": "0d5f1dbc-0ff3-41d5-f5e1-b04b4c5083cb"
      },
      "outputs": [
        {
          "data": {
            "text/plain": [
              "array([28, 86, 56, 16, 28, 60, 18,  6, 68, 26], dtype=int32)"
            ]
          },
          "execution_count": 22,
          "metadata": {},
          "output_type": "execute_result"
        }
      ],
      "source": [
        "#find out even numbers\n",
        "a[a%2 == 0]"
      ]
    },
    {
      "cell_type": "code",
      "execution_count": 23,
      "metadata": {
        "colab": {
          "base_uri": "https://localhost:8080/"
        },
        "id": "MIk_GnwQ1sS2",
        "outputId": "71ffb141-5e93-44b2-b670-e1738c20a573"
      },
      "outputs": [
        {
          "data": {
            "text/plain": [
              "array([86, 56, 60, 68], dtype=int32)"
            ]
          },
          "execution_count": 23,
          "metadata": {},
          "output_type": "execute_result"
        }
      ],
      "source": [
        "# find all numbers greater than 50 and are even . & -> \"bitwise and\" and its used in boolean operations whereas 'and' is a logical operator and not used here\n",
        "a[(a > 50) & (a%2==0)]"
      ]
    },
    {
      "cell_type": "code",
      "execution_count": 24,
      "metadata": {
        "colab": {
          "base_uri": "https://localhost:8080/"
        },
        "id": "rhGQtwkl6W7k",
        "outputId": "6ae39bf0-040d-4d03-8ae8-7dfffc9af2cd"
      },
      "outputs": [
        {
          "data": {
            "text/plain": [
              "array([57, 86,  5, 69, 47, 16, 17,  5, 43, 60, 45, 57, 13, 59, 37, 18,  6,\n",
              "       68, 26], dtype=int32)"
            ]
          },
          "execution_count": 24,
          "metadata": {},
          "output_type": "execute_result"
        }
      ],
      "source": [
        "# find all numbers not divisible by 7. ~ -> invert operator and turns True to False and vise versa\n",
        "a[~(a%7==0)]"
      ]
    },
    {
      "cell_type": "markdown",
      "metadata": {
        "id": "n2UP2iZTLPR5"
      },
      "source": [
        "### Broadcasting\n",
        "\n",
        "The term broadcasting describes how NumPy treats arrays with different shapes during arithmetic operations.\n",
        "\n",
        "The smaller array is “broadcast” across the larger array so that they have compatible shapes."
      ]
    },
    {
      "cell_type": "code",
      "execution_count": 25,
      "metadata": {
        "colab": {
          "base_uri": "https://localhost:8080/"
        },
        "id": "tJTrjKxoCYhT",
        "outputId": "32722690-be7b-4dc5-84ac-7f6d8ab9b5a2"
      },
      "outputs": [
        {
          "name": "stdout",
          "output_type": "stream",
          "text": [
            "[[0 1 2]\n",
            " [3 4 5]]\n",
            "[[ 6  7  8]\n",
            " [ 9 10 11]]\n",
            "[[ 6  8 10]\n",
            " [12 14 16]]\n"
          ]
        }
      ],
      "source": [
        "# same shape\n",
        "a = np.arange(6).reshape(2,3)\n",
        "b = np.arange(6,12).reshape(2,3)\n",
        "print(a)\n",
        "print(b)\n",
        "print(a+b)"
      ]
    },
    {
      "cell_type": "code",
      "execution_count": 27,
      "metadata": {
        "colab": {
          "base_uri": "https://localhost:8080/"
        },
        "id": "f-mVhFT-N3jF",
        "outputId": "934a019b-c37a-4371-85aa-b04e3aac8877"
      },
      "outputs": [
        {
          "name": "stdout",
          "output_type": "stream",
          "text": [
            "[[0 1 2]\n",
            " [3 4 5]]\n",
            "[[0 1 2]]\n",
            "[[0 2 4]\n",
            " [3 5 7]]\n"
          ]
        }
      ],
      "source": [
        "# diff shape\n",
        "a = np.arange(6).reshape(2,3)\n",
        "b = np.arange(3).reshape(1,3)\n",
        "print(a)\n",
        "print(b)\n",
        "print(a+b)"
      ]
    },
    {
      "cell_type": "markdown",
      "metadata": {
        "id": "XXzDHsndO70t"
      },
      "source": [
        "#### Broadcasting Rules\n",
        "\n",
        "**1. Make the two arrays have the same number of dimensions.**<br>\n",
        "- If the numbers of dimensions of the two arrays are different, add new dimensions with size 1 to the head of the array with the smaller dimension.<br>"
      ]
    },
    {
      "cell_type": "markdown",
      "metadata": {
        "id": "M_ZI1gpEPdwi"
      },
      "source": [
        "**2. Make each dimension of the two arrays the same size.**<br>\n",
        "- If the sizes of each dimension of the two arrays do not match, dimensions with size 1 are stretched to the size of the other array.\n",
        "- If there is a dimension whose size is not 1 in either of the two arrays, it cannot be broadcasted, and an error is raised."
      ]
    },
    {
      "cell_type": "markdown",
      "metadata": {
        "id": "6YxVl8iZVLEh"
      },
      "source": [
        "<img src = \"https://jakevdp.github.io/PythonDataScienceHandbook/figures/02.05-broadcasting.png\">"
      ]
    },
    {
      "cell_type": "code",
      "execution_count": 31,
      "metadata": {
        "colab": {
          "base_uri": "https://localhost:8080/"
        },
        "id": "0WKia_sDRaNm",
        "outputId": "12fdda72-6287-4bea-d03d-d2dda9a44d57"
      },
      "outputs": [
        {
          "name": "stdout",
          "output_type": "stream",
          "text": [
            "[[ 0  1  2]\n",
            " [ 3  4  5]\n",
            " [ 6  7  8]\n",
            " [ 9 10 11]]\n",
            "[0 1 2]\n",
            "[[ 0  2  4]\n",
            " [ 3  5  7]\n",
            " [ 6  8 10]\n",
            " [ 9 11 13]]\n"
          ]
        }
      ],
      "source": [
        "# More examples\n",
        "\n",
        "a = np.arange(12).reshape(4,3)\n",
        "b = np.arange(3)\n",
        "\n",
        "print(a)\n",
        "print(b)\n",
        "\n",
        "print(a+b)"
      ]
    },
    {
      "cell_type": "code",
      "execution_count": 32,
      "metadata": {
        "colab": {
          "base_uri": "https://localhost:8080/",
          "height": 269
        },
        "id": "SqtTHUngRhss",
        "outputId": "92a8e488-dfe2-4714-d05c-9359b060343d"
      },
      "outputs": [
        {
          "name": "stdout",
          "output_type": "stream",
          "text": [
            "[[ 0  1  2  3]\n",
            " [ 4  5  6  7]\n",
            " [ 8  9 10 11]]\n",
            "[0 1 2]\n"
          ]
        },
        {
          "ename": "ValueError",
          "evalue": "operands could not be broadcast together with shapes (3,4) (3,) ",
          "output_type": "error",
          "traceback": [
            "\u001b[31m---------------------------------------------------------------------------\u001b[39m",
            "\u001b[31mValueError\u001b[39m                                Traceback (most recent call last)",
            "\u001b[36mCell\u001b[39m\u001b[36m \u001b[39m\u001b[32mIn[32]\u001b[39m\u001b[32m, line 7\u001b[39m\n\u001b[32m      4\u001b[39m \u001b[38;5;28mprint\u001b[39m(a)\n\u001b[32m      5\u001b[39m \u001b[38;5;28mprint\u001b[39m(b)\n\u001b[32m----> \u001b[39m\u001b[32m7\u001b[39m \u001b[38;5;28mprint\u001b[39m(\u001b[43ma\u001b[49m\u001b[43m+\u001b[49m\u001b[43mb\u001b[49m)\n",
            "\u001b[31mValueError\u001b[39m: operands could not be broadcast together with shapes (3,4) (3,) "
          ]
        }
      ],
      "source": [
        "a = np.arange(12).reshape(3,4)\n",
        "b = np.arange(3)\n",
        "\n",
        "print(a)\n",
        "print(b)\n",
        "\n",
        "print(a+b)"
      ]
    },
    {
      "cell_type": "code",
      "execution_count": 34,
      "metadata": {
        "colab": {
          "base_uri": "https://localhost:8080/"
        },
        "id": "5hQ269ncQedR",
        "outputId": "3e380bb1-6727-4dfd-99cc-b2ec4ee780bb"
      },
      "outputs": [
        {
          "name": "stdout",
          "output_type": "stream",
          "text": [
            "[[0 1 2]]\n",
            "[[0]\n",
            " [1]\n",
            " [2]]\n",
            "[[0 1 2]\n",
            " [1 2 3]\n",
            " [2 3 4]]\n"
          ]
        }
      ],
      "source": [
        "a = np.arange(3).reshape(1,3)\n",
        "b = np.arange(3).reshape(3,1)\n",
        "\n",
        "print(a)\n",
        "print(b)\n",
        "\n",
        "print(a+b)"
      ]
    },
    {
      "cell_type": "code",
      "execution_count": 36,
      "metadata": {
        "colab": {
          "base_uri": "https://localhost:8080/"
        },
        "id": "sc4X7IQVRujU",
        "outputId": "2c46321a-266d-4a4f-db58-c9bf8e6b1714"
      },
      "outputs": [
        {
          "name": "stdout",
          "output_type": "stream",
          "text": [
            "[[0 1 2]]\n",
            "[[0]\n",
            " [1]\n",
            " [2]\n",
            " [3]]\n",
            "[[0 1 2]\n",
            " [1 2 3]\n",
            " [2 3 4]\n",
            " [3 4 5]]\n"
          ]
        }
      ],
      "source": [
        "a = np.arange(3).reshape(1,3)\n",
        "b = np.arange(4).reshape(4,1)\n",
        "\n",
        "print(a)\n",
        "print(b)\n",
        "\n",
        "print(a+b)"
      ]
    },
    {
      "cell_type": "code",
      "execution_count": null,
      "metadata": {
        "colab": {
          "base_uri": "https://localhost:8080/"
        },
        "id": "v6EwwULkQuvs",
        "outputId": "d94dba9a-126f-4d1a-df5c-800f95b3f24c"
      },
      "outputs": [],
      "source": [
        "a = np.array([1])\n",
        "# shape -> (1,1)\n",
        "b = np.arange(4).reshape(2,2)\n",
        "# shape -> (2,2)\n",
        "\n",
        "print(a)\n",
        "print(b)\n",
        "\n",
        "print(a+b)"
      ]
    },
    {
      "cell_type": "code",
      "execution_count": 37,
      "metadata": {
        "colab": {
          "base_uri": "https://localhost:8080/",
          "height": 321
        },
        "id": "nEgUi7tnRGI4",
        "outputId": "8c244189-28dd-4307-e935-22cf87bb384f"
      },
      "outputs": [
        {
          "name": "stdout",
          "output_type": "stream",
          "text": [
            "[[ 0  1  2  3]\n",
            " [ 4  5  6  7]\n",
            " [ 8  9 10 11]]\n",
            "[[ 0  1  2]\n",
            " [ 3  4  5]\n",
            " [ 6  7  8]\n",
            " [ 9 10 11]]\n"
          ]
        },
        {
          "ename": "ValueError",
          "evalue": "operands could not be broadcast together with shapes (3,4) (4,3) ",
          "output_type": "error",
          "traceback": [
            "\u001b[31m---------------------------------------------------------------------------\u001b[39m",
            "\u001b[31mValueError\u001b[39m                                Traceback (most recent call last)",
            "\u001b[36mCell\u001b[39m\u001b[36m \u001b[39m\u001b[32mIn[37]\u001b[39m\u001b[32m, line 7\u001b[39m\n\u001b[32m      4\u001b[39m \u001b[38;5;28mprint\u001b[39m(a)\n\u001b[32m      5\u001b[39m \u001b[38;5;28mprint\u001b[39m(b)\n\u001b[32m----> \u001b[39m\u001b[32m7\u001b[39m \u001b[38;5;28mprint\u001b[39m(\u001b[43ma\u001b[49m\u001b[43m+\u001b[49m\u001b[43mb\u001b[49m) \u001b[38;5;66;03m#error because brodcasting occurs only if there is 1 in either arrays\u001b[39;00m\n",
            "\u001b[31mValueError\u001b[39m: operands could not be broadcast together with shapes (3,4) (4,3) "
          ]
        }
      ],
      "source": [
        "a = np.arange(12).reshape(3,4)\n",
        "b = np.arange(12).reshape(4,3)\n",
        "\n",
        "print(a)\n",
        "print(b)\n",
        "\n",
        "print(a+b) #error because brodcasting occurs only if there is 1 in either arrays"
      ]
    },
    {
      "cell_type": "code",
      "execution_count": null,
      "metadata": {
        "colab": {
          "base_uri": "https://localhost:8080/",
          "height": 304
        },
        "id": "kelF0GRBR3--",
        "outputId": "04758cdd-fe06-4136-dae2-073f257e0d0c"
      },
      "outputs": [],
      "source": [
        "a = np.arange(16).reshape(4,4)\n",
        "b = np.arange(4).reshape(2,2)\n",
        "\n",
        "print(a)\n",
        "print(b)\n",
        "\n",
        "print(a+b)"
      ]
    },
    {
      "cell_type": "markdown",
      "metadata": {
        "id": "UNqpEw03LSl6"
      },
      "source": [
        "### Working with mathematical formulas"
      ]
    },
    {
      "cell_type": "code",
      "execution_count": 38,
      "metadata": {
        "colab": {
          "base_uri": "https://localhost:8080/"
        },
        "id": "YtkRSvjtOBXU",
        "outputId": "8060df6d-0126-49de-9c05-658bb78d3f69"
      },
      "outputs": [
        {
          "data": {
            "text/plain": [
              "array([ 0.        ,  0.84147098,  0.90929743,  0.14112001, -0.7568025 ,\n",
              "       -0.95892427, -0.2794155 ,  0.6569866 ,  0.98935825,  0.41211849])"
            ]
          },
          "execution_count": 38,
          "metadata": {},
          "output_type": "execute_result"
        }
      ],
      "source": [
        "a = np.arange(10)\n",
        "np.sin(a)"
      ]
    },
    {
      "cell_type": "code",
      "execution_count": 39,
      "metadata": {
        "id": "Sf6T8s8VCZum"
      },
      "outputs": [],
      "source": [
        "# sigmoid\n",
        "def sigmoid(array):\n",
        "  return 1 /(1 + np.exp(-(array)))\n"
      ]
    },
    {
      "cell_type": "code",
      "execution_count": 41,
      "metadata": {},
      "outputs": [
        {
          "data": {
            "text/plain": [
              "array([0, 1, 2, 3, 4, 5, 6, 7, 8, 9])"
            ]
          },
          "execution_count": 41,
          "metadata": {},
          "output_type": "execute_result"
        }
      ],
      "source": [
        "a"
      ]
    },
    {
      "cell_type": "code",
      "execution_count": 40,
      "metadata": {},
      "outputs": [
        {
          "data": {
            "text/plain": [
              "array([0.5       , 0.73105858, 0.88079708, 0.95257413, 0.98201379,\n",
              "       0.99330715, 0.99752738, 0.99908895, 0.99966465, 0.99987661])"
            ]
          },
          "execution_count": 40,
          "metadata": {},
          "output_type": "execute_result"
        }
      ],
      "source": [
        "sigmoid(a)"
      ]
    },
    {
      "cell_type": "code",
      "execution_count": 42,
      "metadata": {
        "colab": {
          "base_uri": "https://localhost:8080/"
        },
        "id": "J7UWwdZnOedj",
        "outputId": "8f0cb51a-2ff2-45fe-e1fa-58884bebf406"
      },
      "outputs": [
        {
          "data": {
            "text/plain": [
              "array([0.5       , 0.73105858, 0.88079708, 0.95257413, 0.98201379,\n",
              "       0.99330715, 0.99752738, 0.99908895, 0.99966465, 0.99987661,\n",
              "       0.9999546 , 0.9999833 , 0.99999386, 0.99999774, 0.99999917,\n",
              "       0.99999969, 0.99999989, 0.99999996, 0.99999998, 0.99999999,\n",
              "       1.        , 1.        , 1.        , 1.        , 1.        ,\n",
              "       1.        , 1.        , 1.        , 1.        , 1.        ,\n",
              "       1.        , 1.        , 1.        , 1.        , 1.        ,\n",
              "       1.        , 1.        , 1.        , 1.        , 1.        ,\n",
              "       1.        , 1.        , 1.        , 1.        , 1.        ,\n",
              "       1.        , 1.        , 1.        , 1.        , 1.        ,\n",
              "       1.        , 1.        , 1.        , 1.        , 1.        ,\n",
              "       1.        , 1.        , 1.        , 1.        , 1.        ,\n",
              "       1.        , 1.        , 1.        , 1.        , 1.        ,\n",
              "       1.        , 1.        , 1.        , 1.        , 1.        ,\n",
              "       1.        , 1.        , 1.        , 1.        , 1.        ,\n",
              "       1.        , 1.        , 1.        , 1.        , 1.        ,\n",
              "       1.        , 1.        , 1.        , 1.        , 1.        ,\n",
              "       1.        , 1.        , 1.        , 1.        , 1.        ,\n",
              "       1.        , 1.        , 1.        , 1.        , 1.        ,\n",
              "       1.        , 1.        , 1.        , 1.        , 1.        ])"
            ]
          },
          "execution_count": 42,
          "metadata": {},
          "output_type": "execute_result"
        }
      ],
      "source": [
        "a = np.arange(100)\n",
        "sigmoid(a)"
      ]
    },
    {
      "cell_type": "code",
      "execution_count": 43,
      "metadata": {
        "id": "J166XKv8PumT"
      },
      "outputs": [],
      "source": [
        "# mean squared error\n",
        "actual = np.random.randint(1,50,25)\n",
        "predicted = np.random.randint(1,50,25)"
      ]
    },
    {
      "cell_type": "code",
      "execution_count": 44,
      "metadata": {},
      "outputs": [
        {
          "name": "stdout",
          "output_type": "stream",
          "text": [
            "[33 49 29  8 44 38 31  2 15 38  1 35 36 41  2 26  3 36  8 26 28 15 35 11\n",
            " 43]\n",
            "[19 10 40 17 39 42 24  5 43 32 43 22 38  9 13 26 43 45 25  9 31 17  4 23\n",
            " 17]\n"
          ]
        }
      ],
      "source": [
        "print(actual)\n",
        "print(predicted)"
      ]
    },
    {
      "cell_type": "code",
      "execution_count": 45,
      "metadata": {
        "colab": {
          "base_uri": "https://localhost:8080/"
        },
        "id": "PTMr95zzQ1ig",
        "outputId": "f91b617c-e8a2-4e4c-bb2f-9de5a5560f4b"
      },
      "outputs": [
        {
          "data": {
            "text/plain": [
              "np.float64(398.92)"
            ]
          },
          "execution_count": 45,
          "metadata": {},
          "output_type": "execute_result"
        }
      ],
      "source": [
        "def mse(actual,predicted):\n",
        "  return np.mean((actual-predicted)**2)\n",
        "\n",
        "mse(actual,predicted)"
      ]
    },
    {
      "cell_type": "code",
      "execution_count": null,
      "metadata": {
        "id": "pq9g7uHPPudL"
      },
      "outputs": [],
      "source": [
        "# binary cross entropy (log loss) -> for logistic regression"
      ]
    },
    {
      "cell_type": "markdown",
      "metadata": {
        "id": "d9olU9IoLX8P"
      },
      "source": [
        "### Working with missing values"
      ]
    },
    {
      "cell_type": "code",
      "execution_count": 47,
      "metadata": {},
      "outputs": [
        {
          "data": {
            "text/plain": [
              "nan"
            ]
          },
          "execution_count": 47,
          "metadata": {},
          "output_type": "execute_result"
        }
      ],
      "source": [
        "np.nan"
      ]
    },
    {
      "cell_type": "code",
      "execution_count": 50,
      "metadata": {
        "colab": {
          "base_uri": "https://localhost:8080/"
        },
        "id": "LhrsmaIfChjL",
        "outputId": "f6f4dc02-6d8d-4519-e839-8074000d12f6"
      },
      "outputs": [
        {
          "data": {
            "text/plain": [
              "array([ 1.,  2.,  3.,  4., nan,  6.])"
            ]
          },
          "execution_count": 50,
          "metadata": {},
          "output_type": "execute_result"
        }
      ],
      "source": [
        "# Working with missing values -> np.nan\n",
        "a = np.array([1,2,3,4,np.nan,6])\n",
        "a"
      ]
    },
    {
      "cell_type": "code",
      "execution_count": 52,
      "metadata": {},
      "outputs": [
        {
          "data": {
            "text/plain": [
              "array([False, False, False, False,  True, False])"
            ]
          },
          "execution_count": 52,
          "metadata": {},
          "output_type": "execute_result"
        }
      ],
      "source": [
        "np.isnan(a)"
      ]
    },
    {
      "cell_type": "code",
      "execution_count": 53,
      "metadata": {
        "colab": {
          "base_uri": "https://localhost:8080/"
        },
        "id": "i6ih2fZ7TDDl",
        "outputId": "29348aff-1b59-4efc-c7d3-eade07195f74"
      },
      "outputs": [
        {
          "data": {
            "text/plain": [
              "array([1., 2., 3., 4., 6.])"
            ]
          },
          "execution_count": 53,
          "metadata": {},
          "output_type": "execute_result"
        }
      ],
      "source": [
        "a[~np.isnan(a)]"
      ]
    },
    {
      "cell_type": "markdown",
      "metadata": {
        "id": "LdVWeHyeLdw5"
      },
      "source": [
        "### Plotting Graphs"
      ]
    },
    {
      "cell_type": "code",
      "execution_count": null,
      "metadata": {
        "colab": {
          "base_uri": "https://localhost:8080/",
          "height": 282
        },
        "id": "2XjXkt9JCm9q",
        "outputId": "468a8f37-292a-4569-9351-ab16a6ef6de0"
      },
      "outputs": [],
      "source": [
        "# plotting a 2D plot\n",
        "# x = y\n",
        "import matplotlib.pyplot as plt\n",
        "\n",
        "x = np.linspace(-10,10,100)\n",
        "y = x\n",
        "plt.plot(x,y)"
      ]
    },
    {
      "cell_type": "code",
      "execution_count": null,
      "metadata": {
        "colab": {
          "base_uri": "https://localhost:8080/",
          "height": 282
        },
        "id": "SyYCKM--V7Uw",
        "outputId": "b75593e5-13d8-4cde-ff52-4276dbde4821"
      },
      "outputs": [],
      "source": [
        "# y = x^2\n",
        "x = np.linspace(-10,10,100)\n",
        "y = x**2\n",
        "plt.plot(x,y)"
      ]
    },
    {
      "cell_type": "code",
      "execution_count": null,
      "metadata": {
        "colab": {
          "base_uri": "https://localhost:8080/",
          "height": 282
        },
        "id": "lG-QRoWdWHxp",
        "outputId": "cac808cc-9e26-4e28-811f-19e3c701ee18"
      },
      "outputs": [],
      "source": [
        "# y = sin(x)\n",
        "x = np.linspace(-10,10,100)\n",
        "y = np.sin(x)\n",
        "plt.plot(x,y)"
      ]
    },
    {
      "cell_type": "code",
      "execution_count": null,
      "metadata": {
        "colab": {
          "base_uri": "https://localhost:8080/",
          "height": 317
        },
        "id": "EpuzrF8YWUqD",
        "outputId": "e85c5be1-5076-418a-eca1-dba45c8ab0e3"
      },
      "outputs": [],
      "source": [
        "# y = xlog(x)\n",
        "x = np.linspace(-10,10,100)\n",
        "y = x*(np.log(x))\n",
        "plt.plot(x,y)"
      ]
    },
    {
      "cell_type": "code",
      "execution_count": null,
      "metadata": {
        "colab": {
          "base_uri": "https://localhost:8080/",
          "height": 282
        },
        "id": "_4Equ-orVcQW",
        "outputId": "f368c874-b484-4fee-c239-057ccf08d3b4"
      },
      "outputs": [],
      "source": [
        "#sigmoid \n",
        "x = np.linspace(-10,10,100)\n",
        "\n",
        "y = 1/(1+np.exp(-x))\n",
        "\n",
        "plt.plot(x,y)"
      ]
    },
    {
      "cell_type": "code",
      "execution_count": null,
      "metadata": {
        "id": "LidUuDKVW5De"
      },
      "outputs": [],
      "source": [
        "# plotting a scatter plot"
      ]
    },
    {
      "cell_type": "markdown",
      "metadata": {
        "id": "1sw0TeY7LiGK"
      },
      "source": [
        "### Meshgrids"
      ]
    },
    {
      "cell_type": "code",
      "execution_count": null,
      "metadata": {
        "id": "xQP6c_ISE75r"
      },
      "outputs": [],
      "source": [
        "# Meshgrids"
      ]
    },
    {
      "cell_type": "code",
      "execution_count": null,
      "metadata": {
        "id": "QPEQuuof8xmJ"
      },
      "outputs": [],
      "source": []
    }
  ],
  "metadata": {
    "colab": {
      "provenance": []
    },
    "kernelspec": {
      "display_name": "Python 3",
      "name": "python3"
    },
    "language_info": {
      "codemirror_mode": {
        "name": "ipython",
        "version": 3
      },
      "file_extension": ".py",
      "mimetype": "text/x-python",
      "name": "python",
      "nbconvert_exporter": "python",
      "pygments_lexer": "ipython3",
      "version": "3.11.2"
    }
  },
  "nbformat": 4,
  "nbformat_minor": 0
}
