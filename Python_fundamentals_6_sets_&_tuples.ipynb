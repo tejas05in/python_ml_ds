{
  "nbformat": 4,
  "nbformat_minor": 0,
  "metadata": {
    "colab": {
      "provenance": [],
      "collapsed_sections": [
        "rvM3r3r8OSAd",
        "kfsNfw0vRWOz"
      ]
    },
    "kernelspec": {
      "name": "python3",
      "display_name": "Python 3"
    },
    "language_info": {
      "name": "python"
    }
  },
  "cells": [
    {
      "cell_type": "markdown",
      "source": [
        "# **SETS**"
      ],
      "metadata": {
        "id": "rvM3r3r8OSAd"
      }
    },
    {
      "cell_type": "markdown",
      "source": [
        "A Set in Python is used to store a collection of items with the following properties.\n",
        "\n",
        "- **No duplicate elements**. If try to insert the same item again, it overwrites previous one.\n",
        "- **An unordered collection**. When we access all items, they are accessed without any specific order and we cannot access items using indexes as we do in lists.\n",
        "- **Internally use hashing** that makes set efficient for search, insert and delete operations. It gives a major advantage over a list for problems with these operations.\n",
        "- **Mutable**, meaning we can add or remove elements after their creation, the individual elements within the set cannot be changed directly."
      ],
      "metadata": {
        "id": "PfuqGKlvN5e-"
      }
    },
    {
      "cell_type": "code",
      "execution_count": 2,
      "metadata": {
        "id": "h9Bpf_0ONwAf",
        "colab": {
          "base_uri": "https://localhost:8080/"
        },
        "outputId": "6aab0770-bef4-41c9-d47a-ef39e6cf3e30"
      },
      "outputs": [
        {
          "output_type": "execute_result",
          "data": {
            "text/plain": [
              "set"
            ]
          },
          "metadata": {},
          "execution_count": 2
        }
      ],
      "source": [
        "a = set((1,2,3,4))\n",
        "type(a)"
      ]
    },
    {
      "cell_type": "code",
      "source": [
        "a = {1,2,3,4,5}\n",
        "type(a)"
      ],
      "metadata": {
        "colab": {
          "base_uri": "https://localhost:8080/"
        },
        "id": "HHMFgL0cfDvN",
        "outputId": "4d3e770b-04cc-4015-a7c6-8a04c918e489"
      },
      "execution_count": 9,
      "outputs": [
        {
          "output_type": "execute_result",
          "data": {
            "text/plain": [
              "set"
            ]
          },
          "metadata": {},
          "execution_count": 9
        }
      ]
    },
    {
      "cell_type": "code",
      "source": [
        "# typecasting list to set\n",
        "l = [1,2,3,4,5,6,67,7,7,8,8,89,9]\n",
        "set(l)"
      ],
      "metadata": {
        "id": "pE_Wp9J7OfcL",
        "colab": {
          "base_uri": "https://localhost:8080/"
        },
        "outputId": "d250c0d4-3e4f-4be5-e17a-a68b512e59f9"
      },
      "execution_count": 4,
      "outputs": [
        {
          "output_type": "execute_result",
          "data": {
            "text/plain": [
              "{1, 2, 3, 4, 5, 6, 7, 8, 9, 67, 89}"
            ]
          },
          "metadata": {},
          "execution_count": 4
        }
      ]
    },
    {
      "cell_type": "code",
      "source": [
        "# Adding element to the set .add()\n",
        "a.add(7)\n",
        "print(a)"
      ],
      "metadata": {
        "id": "VffJfZRBOgN-",
        "colab": {
          "base_uri": "https://localhost:8080/"
        },
        "outputId": "6ad26dbf-84ed-44bb-ed44-f5f0f773e3ab"
      },
      "execution_count": 16,
      "outputs": [
        {
          "output_type": "stream",
          "name": "stdout",
          "text": [
            "{1, 2, 3, 4, 5, 6, 7}\n"
          ]
        }
      ]
    },
    {
      "cell_type": "code",
      "source": [
        "a[1]"
      ],
      "metadata": {
        "colab": {
          "base_uri": "https://localhost:8080/",
          "height": 144
        },
        "id": "HYTT66GKip42",
        "outputId": "4429afca-d44d-4eb1-ce74-108d3786d299"
      },
      "execution_count": 19,
      "outputs": [
        {
          "output_type": "error",
          "ename": "TypeError",
          "evalue": "'set' object is not subscriptable",
          "traceback": [
            "\u001b[0;31m---------------------------------------------------------------------------\u001b[0m",
            "\u001b[0;31mTypeError\u001b[0m                                 Traceback (most recent call last)",
            "\u001b[0;32m<ipython-input-19-8bc71255a22e>\u001b[0m in \u001b[0;36m<cell line: 1>\u001b[0;34m()\u001b[0m\n\u001b[0;32m----> 1\u001b[0;31m \u001b[0ma\u001b[0m\u001b[0;34m[\u001b[0m\u001b[0;36m1\u001b[0m\u001b[0;34m]\u001b[0m\u001b[0;34m\u001b[0m\u001b[0;34m\u001b[0m\u001b[0m\n\u001b[0m",
            "\u001b[0;31mTypeError\u001b[0m: 'set' object is not subscriptable"
          ]
        }
      ]
    },
    {
      "cell_type": "code",
      "source": [
        "# a set cannot have duplicate values\n",
        "s = {\"Geeks\", \"for\", \"Geeks\"}\n",
        "print(s)"
      ],
      "metadata": {
        "id": "AKI8_mkROjvS",
        "colab": {
          "base_uri": "https://localhost:8080/"
        },
        "outputId": "465234c2-4c8d-4a2c-bbcd-31c769aac9a3"
      },
      "execution_count": 17,
      "outputs": [
        {
          "output_type": "stream",
          "name": "stdout",
          "text": [
            "{'Geeks', 'for'}\n"
          ]
        }
      ]
    },
    {
      "cell_type": "code",
      "source": [
        "# values of a set cannot be changed\n",
        "s[1] = \"Hello\"\n",
        "print(s)"
      ],
      "metadata": {
        "id": "iEcFRYvBOtsX",
        "colab": {
          "base_uri": "https://localhost:8080/",
          "height": 179
        },
        "outputId": "31335288-a878-46d0-c915-32d22fcad498"
      },
      "execution_count": 20,
      "outputs": [
        {
          "output_type": "error",
          "ename": "TypeError",
          "evalue": "'set' object does not support item assignment",
          "traceback": [
            "\u001b[0;31m---------------------------------------------------------------------------\u001b[0m",
            "\u001b[0;31mTypeError\u001b[0m                                 Traceback (most recent call last)",
            "\u001b[0;32m<ipython-input-20-329162e5b03f>\u001b[0m in \u001b[0;36m<cell line: 2>\u001b[0;34m()\u001b[0m\n\u001b[1;32m      1\u001b[0m \u001b[0;31m# values of a set cannot be changed\u001b[0m\u001b[0;34m\u001b[0m\u001b[0;34m\u001b[0m\u001b[0m\n\u001b[0;32m----> 2\u001b[0;31m \u001b[0ms\u001b[0m\u001b[0;34m[\u001b[0m\u001b[0;36m1\u001b[0m\u001b[0;34m]\u001b[0m \u001b[0;34m=\u001b[0m \u001b[0;34m\"Hello\"\u001b[0m\u001b[0;34m\u001b[0m\u001b[0;34m\u001b[0m\u001b[0m\n\u001b[0m\u001b[1;32m      3\u001b[0m \u001b[0mprint\u001b[0m\u001b[0;34m(\u001b[0m\u001b[0ms\u001b[0m\u001b[0;34m)\u001b[0m\u001b[0;34m\u001b[0m\u001b[0;34m\u001b[0m\u001b[0m\n",
            "\u001b[0;31mTypeError\u001b[0m: 'set' object does not support item assignment"
          ]
        }
      ]
    },
    {
      "cell_type": "code",
      "source": [
        "# can store heterogeneous elements\n",
        "a = {\"string\", 23, 23.4, True, 32+4j}\n",
        "print(a)"
      ],
      "metadata": {
        "id": "wx9NsM0HOwmC",
        "colab": {
          "base_uri": "https://localhost:8080/"
        },
        "outputId": "744b9b48-5bdc-4b2d-b580-a1b3d3fdf0c1"
      },
      "execution_count": 21,
      "outputs": [
        {
          "output_type": "stream",
          "name": "stdout",
          "text": [
            "{True, 'string', 23.4, 23, (32+4j)}\n"
          ]
        }
      ]
    },
    {
      "cell_type": "markdown",
      "source": [
        "## Python Frozen Sets\n",
        "Frozen sets in Python are ***immutable*** objects that only support methods and operators that produce a result without affecting the frozen set or sets to which they are applied. It can be done with frozenset() method in Python.\n",
        "\n",
        "While elements of a set can be modified at any time, elements of the frozen set remain the same after creation.\n",
        "\n",
        "If no parameters are passed, it returns an empty frozenset."
      ],
      "metadata": {
        "id": "YhD5b-b0PAaZ"
      }
    },
    {
      "cell_type": "code",
      "source": [
        "# frozenset()\n",
        "b = frozenset((1,2,3,4,5))\n",
        "print(b)"
      ],
      "metadata": {
        "id": "uwooFy1wOxFI",
        "colab": {
          "base_uri": "https://localhost:8080/"
        },
        "outputId": "b8f1561e-d6b7-4bfc-898b-a7e9a811278e"
      },
      "execution_count": 22,
      "outputs": [
        {
          "output_type": "stream",
          "name": "stdout",
          "text": [
            "frozenset({1, 2, 3, 4, 5})\n"
          ]
        }
      ]
    },
    {
      "cell_type": "code",
      "source": [
        "frozenset(l)"
      ],
      "metadata": {
        "colab": {
          "base_uri": "https://localhost:8080/"
        },
        "id": "w_YLNE4GklSF",
        "outputId": "3b36780b-8eff-4ecd-e044-2e1d996161e8"
      },
      "execution_count": 25,
      "outputs": [
        {
          "output_type": "execute_result",
          "data": {
            "text/plain": [
              "frozenset({1, 2, 3, 4, 5, 6, 7, 8, 9, 67, 89})"
            ]
          },
          "metadata": {},
          "execution_count": 25
        }
      ]
    },
    {
      "cell_type": "code",
      "source": [
        "b.add(6)\n",
        "print(b)"
      ],
      "metadata": {
        "colab": {
          "base_uri": "https://localhost:8080/",
          "height": 161
        },
        "id": "XqAlOVkkkNcp",
        "outputId": "b44a6426-31bc-4899-9b45-ff9cb88ca77d"
      },
      "execution_count": 23,
      "outputs": [
        {
          "output_type": "error",
          "ename": "AttributeError",
          "evalue": "'frozenset' object has no attribute 'add'",
          "traceback": [
            "\u001b[0;31m---------------------------------------------------------------------------\u001b[0m",
            "\u001b[0;31mAttributeError\u001b[0m                            Traceback (most recent call last)",
            "\u001b[0;32m<ipython-input-23-02d3cca4680a>\u001b[0m in \u001b[0;36m<cell line: 1>\u001b[0;34m()\u001b[0m\n\u001b[0;32m----> 1\u001b[0;31m \u001b[0mb\u001b[0m\u001b[0;34m.\u001b[0m\u001b[0madd\u001b[0m\u001b[0;34m(\u001b[0m\u001b[0;36m6\u001b[0m\u001b[0;34m)\u001b[0m\u001b[0;34m\u001b[0m\u001b[0;34m\u001b[0m\u001b[0m\n\u001b[0m\u001b[1;32m      2\u001b[0m \u001b[0mprint\u001b[0m\u001b[0;34m(\u001b[0m\u001b[0mb\u001b[0m\u001b[0;34m)\u001b[0m\u001b[0;34m\u001b[0m\u001b[0;34m\u001b[0m\u001b[0m\n",
            "\u001b[0;31mAttributeError\u001b[0m: 'frozenset' object has no attribute 'add'"
          ]
        }
      ]
    },
    {
      "cell_type": "code",
      "source": [
        "a.remove(True)"
      ],
      "metadata": {
        "id": "hUp_sxwKk2w8"
      },
      "execution_count": 27,
      "outputs": []
    },
    {
      "cell_type": "code",
      "source": [
        "a"
      ],
      "metadata": {
        "colab": {
          "base_uri": "https://localhost:8080/"
        },
        "id": "9BR_aDVOk_Bl",
        "outputId": "0f280bc6-e147-46f4-e752-0edba9a9f409"
      },
      "execution_count": 28,
      "outputs": [
        {
          "output_type": "execute_result",
          "data": {
            "text/plain": [
              "{(32+4j), 23, 23.4, 'string'}"
            ]
          },
          "metadata": {},
          "execution_count": 28
        }
      ]
    },
    {
      "cell_type": "code",
      "source": [
        "a.pop()\n",
        "print(a)"
      ],
      "metadata": {
        "colab": {
          "base_uri": "https://localhost:8080/"
        },
        "id": "FPDri7iTlBcF",
        "outputId": "ca7c852f-5438-4d48-9d72-eb91479f28fe"
      },
      "execution_count": 29,
      "outputs": [
        {
          "output_type": "stream",
          "name": "stdout",
          "text": [
            "{23.4, 23, (32+4j)}\n"
          ]
        }
      ]
    },
    {
      "cell_type": "markdown",
      "source": [
        "## Internal working of Set\n",
        "This is based on a data structure known as a hash table.  If Multiple values are present at the same index position, then the value is appended to that index position, to form a Linked List.\n",
        "\n",
        "![image.png](data:image/png;base64,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)"
      ],
      "metadata": {
        "id": "1PkYNs6iPn5r"
      }
    },
    {
      "cell_type": "markdown",
      "source": [
        "## Methods for Sets"
      ],
      "metadata": {
        "id": "ccDtqoFzP7_W"
      }
    },
    {
      "cell_type": "code",
      "source": [
        "# add values\n",
        "m = set(l)\n",
        "type(m)"
      ],
      "metadata": {
        "id": "WLGjMRKHPTRL",
        "colab": {
          "base_uri": "https://localhost:8080/"
        },
        "outputId": "885af48c-b71d-48e4-f838-c8bfac4e3abf"
      },
      "execution_count": 31,
      "outputs": [
        {
          "output_type": "execute_result",
          "data": {
            "text/plain": [
              "set"
            ]
          },
          "metadata": {},
          "execution_count": 31
        }
      ]
    },
    {
      "cell_type": "code",
      "source": [
        "m"
      ],
      "metadata": {
        "colab": {
          "base_uri": "https://localhost:8080/"
        },
        "id": "zKHLOaL8llSF",
        "outputId": "1b9fd218-5b62-4972-d7e6-7fe4ca5114a9"
      },
      "execution_count": 33,
      "outputs": [
        {
          "output_type": "execute_result",
          "data": {
            "text/plain": [
              "{1, 2, 3, 4, 5, 6, 7, 8, 9, 67, 89}"
            ]
          },
          "metadata": {},
          "execution_count": 33
        }
      ]
    },
    {
      "cell_type": "code",
      "source": [
        "m.add(False)\n",
        "print(m)"
      ],
      "metadata": {
        "colab": {
          "base_uri": "https://localhost:8080/"
        },
        "id": "wYGrNzdRldtb",
        "outputId": "a50a1060-6fef-4439-a5f2-c8b981c81f5b"
      },
      "execution_count": 38,
      "outputs": [
        {
          "output_type": "stream",
          "name": "stdout",
          "text": [
            "{False, 1, 2, 3, 4, 5, 6, 67, 7, 8, 9, (23+4j), 'catherine', 89, 90}\n"
          ]
        }
      ]
    },
    {
      "cell_type": "code",
      "source": [
        "# loop through set\n",
        "for i in m:\n",
        "  print(i)"
      ],
      "metadata": {
        "id": "sd2SiLD5QFWV",
        "colab": {
          "base_uri": "https://localhost:8080/"
        },
        "outputId": "f5c03530-e52e-4708-91d0-e3fc9d8824a9"
      },
      "execution_count": 39,
      "outputs": [
        {
          "output_type": "stream",
          "name": "stdout",
          "text": [
            "False\n",
            "1\n",
            "2\n",
            "3\n",
            "4\n",
            "5\n",
            "6\n",
            "67\n",
            "7\n",
            "8\n",
            "9\n",
            "(23+4j)\n",
            "catherine\n",
            "89\n",
            "90\n"
          ]
        }
      ]
    },
    {
      "cell_type": "markdown",
      "source": [
        "### Union operation on Python Sets\n",
        "Two sets can be merged using union() function or | operator. Both Hash Table values are accessed and traversed with merge operation perform on them to combine the elements, at the same time duplicates are removed."
      ],
      "metadata": {
        "id": "kqed8Y2sQWHT"
      }
    },
    {
      "cell_type": "code",
      "source": [
        "a = {1,2,3,4,5,6,7,8}\n",
        "b = {5,6,7,8,9,10,11,12}"
      ],
      "metadata": {
        "id": "r8DyoBrzm7Bu"
      },
      "execution_count": 40,
      "outputs": []
    },
    {
      "cell_type": "code",
      "source": [
        "# Union using union() or |\n",
        "# print(a.union(b))\n",
        "print(a | b)"
      ],
      "metadata": {
        "id": "ekVzYamRQfoQ",
        "colab": {
          "base_uri": "https://localhost:8080/"
        },
        "outputId": "e5f5fc91-82fe-4d61-cb71-cede05e0ee1a"
      },
      "execution_count": 41,
      "outputs": [
        {
          "output_type": "stream",
          "name": "stdout",
          "text": [
            "{1, 2, 3, 4, 5, 6, 7, 8, 9, 10, 11, 12}\n"
          ]
        }
      ]
    },
    {
      "cell_type": "markdown",
      "source": [
        "### Intersection operation on Python Sets\n",
        "This can be done through intersection() or & operator. Common Elements are selected."
      ],
      "metadata": {
        "id": "d_S11zWJQl65"
      }
    },
    {
      "cell_type": "code",
      "source": [
        "# # Intersection using intersection() function or &\n",
        "# print(a.intersection(b))\n",
        "print(a & b)"
      ],
      "metadata": {
        "id": "lkcjvhopQvoN",
        "colab": {
          "base_uri": "https://localhost:8080/"
        },
        "outputId": "97c73512-15e3-48c5-e0de-998669dc94ab"
      },
      "execution_count": 43,
      "outputs": [
        {
          "output_type": "stream",
          "name": "stdout",
          "text": [
            "{8, 5, 6, 7}\n"
          ]
        }
      ]
    },
    {
      "cell_type": "markdown",
      "source": [
        "### Finding Differences of Sets in Python\n",
        "To find differences between sets. Similar to finding differences in the linked list. This is done through difference() or – operator"
      ],
      "metadata": {
        "id": "42r3z5-jQuQb"
      }
    },
    {
      "cell_type": "code",
      "source": [
        "a - b"
      ],
      "metadata": {
        "id": "RzNXqXowQiBk",
        "colab": {
          "base_uri": "https://localhost:8080/"
        },
        "outputId": "d84629ae-31e6-45ac-a287-6666ac0b776d"
      },
      "execution_count": 44,
      "outputs": [
        {
          "output_type": "execute_result",
          "data": {
            "text/plain": [
              "{1, 2, 3, 4}"
            ]
          },
          "metadata": {},
          "execution_count": 44
        }
      ]
    },
    {
      "cell_type": "code",
      "source": [
        "b - a"
      ],
      "metadata": {
        "colab": {
          "base_uri": "https://localhost:8080/"
        },
        "id": "FnK0CP3KnbGd",
        "outputId": "affd1f29-4dbd-49ed-b38d-a5bc286d844f"
      },
      "execution_count": 45,
      "outputs": [
        {
          "output_type": "execute_result",
          "data": {
            "text/plain": [
              "{9, 10, 11, 12}"
            ]
          },
          "metadata": {},
          "execution_count": 45
        }
      ]
    },
    {
      "cell_type": "markdown",
      "source": [
        "# **Tuples**"
      ],
      "metadata": {
        "id": "kfsNfw0vRWOz"
      }
    },
    {
      "cell_type": "markdown",
      "source": [
        "Python Tuple is a collection of objects separated by commas. A tuple is similar to a Python list in terms of indexing, nested objects, and repetition but the main difference between both is Python tuple is **immutable**, unlike the Python list which is mutable."
      ],
      "metadata": {
        "id": "gbENkfcORfU_"
      }
    },
    {
      "cell_type": "code",
      "source": [
        "type((1,2,3))"
      ],
      "metadata": {
        "colab": {
          "base_uri": "https://localhost:8080/"
        },
        "id": "ymZ2LkmOn7yd",
        "outputId": "9ae4c96a-a791-4a71-954e-7a452950b022"
      },
      "execution_count": 46,
      "outputs": [
        {
          "output_type": "execute_result",
          "data": {
            "text/plain": [
              "tuple"
            ]
          },
          "metadata": {},
          "execution_count": 46
        }
      ]
    },
    {
      "cell_type": "code",
      "source": [
        "a = (1,2,3,4,3,4,6,7,9,1,2,3)"
      ],
      "metadata": {
        "id": "KI4B1OGdoilk"
      },
      "execution_count": 48,
      "outputs": []
    },
    {
      "cell_type": "code",
      "source": [
        "# Note : In case of list, we use square\n",
        "# brackets []. Here we use round brackets ()\n",
        "t = (10, 20, 30)\n",
        "print(t)\n",
        "print(type(t))"
      ],
      "metadata": {
        "id": "3es_MmfnRYFH",
        "colab": {
          "base_uri": "https://localhost:8080/"
        },
        "outputId": "a3923854-aef8-4de6-86f2-5d1035e6a4cf"
      },
      "execution_count": 47,
      "outputs": [
        {
          "output_type": "stream",
          "name": "stdout",
          "text": [
            "(10, 20, 30)\n",
            "<class 'tuple'>\n"
          ]
        }
      ]
    },
    {
      "cell_type": "code",
      "source": [
        "print(a)"
      ],
      "metadata": {
        "colab": {
          "base_uri": "https://localhost:8080/"
        },
        "id": "-T7fe4Tcor0R",
        "outputId": "41c51d10-d0b1-4331-bf1f-2f5063ce2a64"
      },
      "execution_count": 50,
      "outputs": [
        {
          "output_type": "stream",
          "name": "stdout",
          "text": [
            "(1, 2, 3, 4, 3, 4, 6, 7, 9, 1, 2, 3)\n"
          ]
        }
      ]
    },
    {
      "cell_type": "code",
      "source": [
        "# tuples are indexed\n",
        "a[0:4]"
      ],
      "metadata": {
        "id": "x1bpO0JDRol5",
        "colab": {
          "base_uri": "https://localhost:8080/"
        },
        "outputId": "b87e15ae-8013-498c-f1af-92f2c0e587df"
      },
      "execution_count": 53,
      "outputs": [
        {
          "output_type": "execute_result",
          "data": {
            "text/plain": [
              "(1, 2, 3, 4)"
            ]
          },
          "metadata": {},
          "execution_count": 53
        }
      ]
    },
    {
      "cell_type": "code",
      "source": [
        "# tuples contain duplicate elements\n",
        "(11,11,2,3,3,4,4)"
      ],
      "metadata": {
        "id": "P9J4HQ8qRrlb",
        "colab": {
          "base_uri": "https://localhost:8080/"
        },
        "outputId": "2e085b8b-9418-45a3-a9c6-8f59cdbad408"
      },
      "execution_count": 54,
      "outputs": [
        {
          "output_type": "execute_result",
          "data": {
            "text/plain": [
              "(11, 11, 2, 3, 3, 4, 4)"
            ]
          },
          "metadata": {},
          "execution_count": 54
        }
      ]
    },
    {
      "cell_type": "code",
      "source": [
        "# updating an element -- gives error\n",
        "a[-5] = 6"
      ],
      "metadata": {
        "id": "yGqTNlFERtXX",
        "colab": {
          "base_uri": "https://localhost:8080/",
          "height": 158
        },
        "outputId": "bdcc89d2-72f0-4fac-c9e3-df658557c2b4"
      },
      "execution_count": 60,
      "outputs": [
        {
          "output_type": "error",
          "ename": "TypeError",
          "evalue": "'tuple' object does not support item assignment",
          "traceback": [
            "\u001b[0;31m---------------------------------------------------------------------------\u001b[0m",
            "\u001b[0;31mTypeError\u001b[0m                                 Traceback (most recent call last)",
            "\u001b[0;32m<ipython-input-60-d31c845a53f3>\u001b[0m in \u001b[0;36m<cell line: 2>\u001b[0;34m()\u001b[0m\n\u001b[1;32m      1\u001b[0m \u001b[0;31m# updating an element -- gives error\u001b[0m\u001b[0;34m\u001b[0m\u001b[0;34m\u001b[0m\u001b[0m\n\u001b[0;32m----> 2\u001b[0;31m \u001b[0ma\u001b[0m\u001b[0;34m[\u001b[0m\u001b[0;34m-\u001b[0m\u001b[0;36m5\u001b[0m\u001b[0;34m]\u001b[0m \u001b[0;34m=\u001b[0m \u001b[0;36m6\u001b[0m\u001b[0;34m\u001b[0m\u001b[0;34m\u001b[0m\u001b[0m\n\u001b[0m",
            "\u001b[0;31mTypeError\u001b[0m: 'tuple' object does not support item assignment"
          ]
        }
      ]
    },
    {
      "cell_type": "code",
      "source": [
        "# Accessing Values in Python Tuples - just like list\n",
        "a[0:6]"
      ],
      "metadata": {
        "id": "RCJmZ-UfRxO3",
        "colab": {
          "base_uri": "https://localhost:8080/"
        },
        "outputId": "1bb904d7-7120-4d06-c431-08b1de233541"
      },
      "execution_count": 62,
      "outputs": [
        {
          "output_type": "execute_result",
          "data": {
            "text/plain": [
              "(1, 2, 3, 4, 3, 4)"
            ]
          },
          "metadata": {},
          "execution_count": 62
        }
      ]
    },
    {
      "cell_type": "markdown",
      "source": [
        "## Tuple operations"
      ],
      "metadata": {
        "id": "s1xJuT9ISDmT"
      }
    },
    {
      "cell_type": "code",
      "source": [
        "# Traversing Items of Python Tuples - loops\n",
        "for i in a:\n",
        "  print(i)"
      ],
      "metadata": {
        "id": "GWaFgz2ESFG7",
        "colab": {
          "base_uri": "https://localhost:8080/"
        },
        "outputId": "93d894ab-d4fd-49cb-fa1d-323c0274da24"
      },
      "execution_count": 63,
      "outputs": [
        {
          "output_type": "stream",
          "name": "stdout",
          "text": [
            "1\n",
            "2\n",
            "3\n",
            "4\n",
            "3\n",
            "4\n",
            "6\n",
            "7\n",
            "9\n",
            "1\n",
            "2\n",
            "3\n"
          ]
        }
      ]
    },
    {
      "cell_type": "code",
      "source": [
        "# Concatenation of Python Tuples using + operator\n",
        "a = (1,2,3)\n",
        "b = (4,5,6)\n",
        "print(id(a))\n",
        "print(id(b))\n",
        "print(id(a+b))"
      ],
      "metadata": {
        "id": "NZB7TkTSSKhO",
        "colab": {
          "base_uri": "https://localhost:8080/"
        },
        "outputId": "dcfe3458-a758-48c6-8582-ded5666f8e72"
      },
      "execution_count": 67,
      "outputs": [
        {
          "output_type": "stream",
          "name": "stdout",
          "text": [
            "137558573076224\n",
            "137558163604672\n",
            "137558164955360\n"
          ]
        }
      ]
    },
    {
      "cell_type": "code",
      "source": [
        "c = (\"string\" , True , 123)\n",
        "a + c"
      ],
      "metadata": {
        "colab": {
          "base_uri": "https://localhost:8080/"
        },
        "id": "JA5T4VKerCId",
        "outputId": "c0e1f435-2f9f-460d-edb3-43b1e5348b36"
      },
      "execution_count": 72,
      "outputs": [
        {
          "output_type": "execute_result",
          "data": {
            "text/plain": [
              "(1, 2, 3, 'string', True, 123)"
            ]
          },
          "metadata": {},
          "execution_count": 72
        }
      ]
    },
    {
      "cell_type": "code",
      "source": [
        "# Nesting of Python Tuples - tuple inside tuple\n",
        "d = (1,2,3,(2,3,4,(5,6,7)))\n",
        "print(d)"
      ],
      "metadata": {
        "id": "VfhDXCGJSQ7r",
        "colab": {
          "base_uri": "https://localhost:8080/"
        },
        "outputId": "71959677-31af-46bd-da8e-cb515b2c84ac"
      },
      "execution_count": 74,
      "outputs": [
        {
          "output_type": "stream",
          "name": "stdout",
          "text": [
            "(1, 2, 3, (2, 3, 4, (5, 6, 7)))\n"
          ]
        }
      ]
    },
    {
      "cell_type": "code",
      "source": [
        "# Repetition Python Tuples\n",
        "# We can create a tuple of multiple same elements from a single element in that tuple.\n",
        "t = ('python',)*3\n",
        "print(t)"
      ],
      "metadata": {
        "id": "qWzTzMDCSUzr",
        "colab": {
          "base_uri": "https://localhost:8080/"
        },
        "outputId": "16a060a1-a586-4011-ca09-fc14f3b2c8ae"
      },
      "execution_count": 75,
      "outputs": [
        {
          "output_type": "stream",
          "name": "stdout",
          "text": [
            "('python', 'python', 'python')\n"
          ]
        }
      ]
    },
    {
      "cell_type": "code",
      "source": [
        "# Slicing Tuples in Python"
      ],
      "metadata": {
        "id": "2N9xIW9OShak"
      },
      "execution_count": null,
      "outputs": []
    },
    {
      "cell_type": "code",
      "source": [
        "# Code for deleting a tuple - del command\n",
        "del a\n",
        "print(a)"
      ],
      "metadata": {
        "id": "Eyq1Dt2kSl-N",
        "colab": {
          "base_uri": "https://localhost:8080/",
          "height": 176
        },
        "outputId": "383b956f-6e7e-4154-d23f-b7d2ddb60c2a"
      },
      "execution_count": 77,
      "outputs": [
        {
          "output_type": "error",
          "ename": "NameError",
          "evalue": "name 'a' is not defined",
          "traceback": [
            "\u001b[0;31m---------------------------------------------------------------------------\u001b[0m",
            "\u001b[0;31mNameError\u001b[0m                                 Traceback (most recent call last)",
            "\u001b[0;32m<ipython-input-77-fc46657e3421>\u001b[0m in \u001b[0;36m<cell line: 3>\u001b[0;34m()\u001b[0m\n\u001b[1;32m      1\u001b[0m \u001b[0;31m# Code for deleting a tuple - del command\u001b[0m\u001b[0;34m\u001b[0m\u001b[0;34m\u001b[0m\u001b[0m\n\u001b[1;32m      2\u001b[0m \u001b[0;32mdel\u001b[0m \u001b[0ma\u001b[0m\u001b[0;34m\u001b[0m\u001b[0;34m\u001b[0m\u001b[0m\n\u001b[0;32m----> 3\u001b[0;31m \u001b[0mprint\u001b[0m\u001b[0;34m(\u001b[0m\u001b[0ma\u001b[0m\u001b[0;34m)\u001b[0m\u001b[0;34m\u001b[0m\u001b[0;34m\u001b[0m\u001b[0m\n\u001b[0m",
            "\u001b[0;31mNameError\u001b[0m: name 'a' is not defined"
          ]
        }
      ]
    },
    {
      "cell_type": "code",
      "source": [
        "# Length of a Python Tuple\n",
        "# len(d)\n",
        "# len(d[3])\n",
        "d[3][3]"
      ],
      "metadata": {
        "id": "-WQTJSDHSqrt",
        "colab": {
          "base_uri": "https://localhost:8080/"
        },
        "outputId": "4a6f82a8-590d-4efa-ad8e-40d788a07ff6"
      },
      "execution_count": 88,
      "outputs": [
        {
          "output_type": "execute_result",
          "data": {
            "text/plain": [
              "(5, 6, 7)"
            ]
          },
          "metadata": {},
          "execution_count": 88
        }
      ]
    },
    {
      "cell_type": "code",
      "source": [
        "# Multiple Data Types With Tuple\n",
        "t = (12,12.4,True,23+1j,\"strings\")\n",
        "print(t)"
      ],
      "metadata": {
        "id": "jJ4hDPKWSrz1",
        "colab": {
          "base_uri": "https://localhost:8080/"
        },
        "outputId": "c9a32aa6-78aa-4593-c0c1-92a0f2712451"
      },
      "execution_count": 90,
      "outputs": [
        {
          "output_type": "stream",
          "name": "stdout",
          "text": [
            "(12, 12.4, True, (23+1j), 'strings')\n"
          ]
        }
      ]
    },
    {
      "cell_type": "code",
      "source": [
        "# Converting a List to a Tuple\n",
        "tuple(m)"
      ],
      "metadata": {
        "id": "eRTGMHeESvyz",
        "colab": {
          "base_uri": "https://localhost:8080/"
        },
        "outputId": "7d5520fd-65f8-495f-8a37-fd1d48bc192a"
      },
      "execution_count": 93,
      "outputs": [
        {
          "output_type": "execute_result",
          "data": {
            "text/plain": [
              "(False, 1, 2, 3, 4, 5, 6, 67, 7, 8, 9, (23+4j), 'catherine', 89, 90)"
            ]
          },
          "metadata": {},
          "execution_count": 93
        }
      ]
    },
    {
      "cell_type": "code",
      "source": [
        "# Single Element Tuple\n",
        "t = (10, ) # Comma is important here\n",
        "print(t)  # Output: (10,)\n",
        "print(type(t))\n",
        "\n",
        "# What if we do not use comma\n",
        "t = (10) # This an integer (not a tuple)\n",
        "print(t)\n",
        "print(type(t))"
      ],
      "metadata": {
        "id": "F8wg-VtoS2Hb",
        "colab": {
          "base_uri": "https://localhost:8080/"
        },
        "outputId": "36f83151-02b6-4862-a8dd-f8b3ac6a5aad"
      },
      "execution_count": 99,
      "outputs": [
        {
          "output_type": "stream",
          "name": "stdout",
          "text": [
            "(10,)\n",
            "<class 'tuple'>\n",
            "10\n",
            "<class 'int'>\n"
          ]
        }
      ]
    },
    {
      "cell_type": "code",
      "source": [
        "# Tuple Packing\n",
        "a, b, c = 11, 12, 13\n",
        "t = (a, b, c)\n",
        "print(t)"
      ],
      "metadata": {
        "id": "LlLdATQYTSMt"
      },
      "execution_count": null,
      "outputs": []
    },
    {
      "cell_type": "code",
      "source": [
        "type((1,))"
      ],
      "metadata": {
        "colab": {
          "base_uri": "https://localhost:8080/"
        },
        "id": "ah7Cdy3puwEp",
        "outputId": "38c1c264-82a8-4b46-bf8e-f45ef0c3582b"
      },
      "execution_count": 95,
      "outputs": [
        {
          "output_type": "execute_result",
          "data": {
            "text/plain": [
              "tuple"
            ]
          },
          "metadata": {},
          "execution_count": 95
        }
      ]
    },
    {
      "cell_type": "code",
      "source": [
        "type((12233,))"
      ],
      "metadata": {
        "colab": {
          "base_uri": "https://localhost:8080/"
        },
        "id": "rXMMmqWQuz6Y",
        "outputId": "5ac347b3-bf21-4608-bc21-8439bf109065"
      },
      "execution_count": 98,
      "outputs": [
        {
          "output_type": "execute_result",
          "data": {
            "text/plain": [
              "tuple"
            ]
          },
          "metadata": {},
          "execution_count": 98
        }
      ]
    },
    {
      "cell_type": "code",
      "source": [
        "a , b , c = 11 ,12, 13\n",
        "print(a,b,c)"
      ],
      "metadata": {
        "colab": {
          "base_uri": "https://localhost:8080/"
        },
        "id": "oV-wxT00u7CF",
        "outputId": "86cd965a-21ab-44b4-828c-2f41ad17e429"
      },
      "execution_count": 105,
      "outputs": [
        {
          "output_type": "stream",
          "name": "stdout",
          "text": [
            "11 12 13\n"
          ]
        }
      ]
    },
    {
      "cell_type": "code",
      "source": [
        "(a,b,c) = (12,13,14)"
      ],
      "metadata": {
        "id": "mrHC5kAtvPW6"
      },
      "execution_count": 101,
      "outputs": []
    }
  ]
}