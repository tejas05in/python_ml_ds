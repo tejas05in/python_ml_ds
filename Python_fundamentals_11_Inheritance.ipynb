{
 "cells": [
  {
   "cell_type": "markdown",
   "id": "ea2e6b9a-3df9-4997-8d15-91d45203c977",
   "metadata": {},
   "source": [
    "# Python Funadamentals 11: Inheritance"
   ]
  },
  {
   "cell_type": "markdown",
   "id": "ad69431c-f419-4749-997c-d006325934be",
   "metadata": {
    "id": "draIV48EI1ZP"
   },
   "source": [
    "# **Python Inheritance**\n",
    "Python Inheritance\n",
    "Inheritance allows us to define a class that inherits all the methods and properties from another class.\n",
    "\n",
    "Parent class is the class being inherited from, also called base class.\n",
    "\n",
    "Child class is the class that inherits from another class, also called derived class.\n",
    "\n"
   ]
  },
  {
   "cell_type": "markdown",
   "id": "425e12fe-68ab-41ef-a25f-2ffa627d29b7",
   "metadata": {
    "id": "OVXHiDQ2JEld"
   },
   "source": [
    "## **Create a Parent Class**\n",
    "\n",
    "Any class can be a parent class, so the syntax is the same as creating any other class:"
   ]
  },
  {
   "cell_type": "code",
   "execution_count": 4,
   "id": "72a28b4d-fb12-4638-8918-6be9436d3767",
   "metadata": {},
   "outputs": [],
   "source": [
    "class Person:\n",
    "  def __init__(self, fname, lname):\n",
    "    self.firstname = fname\n",
    "    self.lastname = lname\n",
    "  def __str__(self):\n",
    "      return f\"{self.firstname} , {self.lastname}\""
   ]
  },
  {
   "cell_type": "code",
   "execution_count": 5,
   "id": "eacc016c-2cf8-4fb2-8ed2-8747208bae7c",
   "metadata": {},
   "outputs": [],
   "source": [
    "obj1_1 = Person(\"tejas\",\"naidu\")"
   ]
  },
  {
   "cell_type": "code",
   "execution_count": 6,
   "id": "28afea57-d377-4c57-84ee-d3cdcec2fd34",
   "metadata": {},
   "outputs": [
    {
     "name": "stdout",
     "output_type": "stream",
     "text": [
      "tejas , naidu\n"
     ]
    }
   ],
   "source": [
    "print(obj1_1)"
   ]
  },
  {
   "cell_type": "markdown",
   "id": "f20a0596-809a-4376-9617-d217166cf85d",
   "metadata": {
    "id": "-j7HZ2YnJRaB"
   },
   "source": [
    "## **Create a Child Class**\n",
    "To create a class that inherits the functionality from another class, send the parent class as a parameter when creating the child class:"
   ]
  },
  {
   "cell_type": "markdown",
   "id": "46d38f44-5ab2-4f7f-90ed-c1466e548b88",
   "metadata": {
    "id": "UzXF45r8Jn03"
   },
   "source": [
    "## **Add the __init__() Function**\n",
    "So far we have created a child class that inherits the properties and methods from its parent.\n",
    "\n",
    "We want to add the __init__() function to the child class (instead of the pass keyword)."
   ]
  },
  {
   "cell_type": "markdown",
   "id": "6b7f8252-b107-4517-b9b2-ca075191e37a",
   "metadata": {
    "id": "UywvhwpMJxI9"
   },
   "source": [
    "**Note**: The __init__() function in the parent class is called automatically every time the class is being used to create a new object."
   ]
  },
  {
   "cell_type": "markdown",
   "id": "80e189cf-7d32-41d1-baca-aacdf0388130",
   "metadata": {
    "id": "9dlYLh_0KAEP"
   },
   "source": [
    "When you add the __init__() function, the child class will no longer inherit the parent's __init__() function.\n",
    "\n",
    "\n",
    "### **Note**: The child's __init__() function overrides the inheritance of the parent's __init__() function.\n",
    "\n",
    "To keep the inheritance of the parent's __init__() function, add a call to the parent's __init__() function:\n",
    "\n"
   ]
  },
  {
   "cell_type": "code",
   "execution_count": 15,
   "id": "80413893-e629-428f-abd2-1afbbf1db47f",
   "metadata": {},
   "outputs": [],
   "source": [
    "class Student(Person):\n",
    "    def __init__(self, fname, lname):\n",
    "        Person.__init__(self, fname, lname)"
   ]
  },
  {
   "cell_type": "code",
   "execution_count": 16,
   "id": "cead7d84-08fc-4f4d-a6a8-d04214a78a95",
   "metadata": {},
   "outputs": [],
   "source": [
    "obj_2 = Student(\"cat\",\"muthu\")"
   ]
  },
  {
   "cell_type": "code",
   "execution_count": 17,
   "id": "588ce1e5-4e5b-4e2e-868c-0d718190992a",
   "metadata": {},
   "outputs": [
    {
     "name": "stdout",
     "output_type": "stream",
     "text": [
      "cat , muthu\n"
     ]
    }
   ],
   "source": [
    "print(obj_2)"
   ]
  },
  {
   "cell_type": "code",
   "execution_count": 18,
   "id": "bc4e50fa-6df2-46f4-8950-40a4719b4400",
   "metadata": {},
   "outputs": [],
   "source": [
    "obj_3 = Student(\"abc\",\"zyx\")"
   ]
  },
  {
   "cell_type": "code",
   "execution_count": 19,
   "id": "b89b8de0-12c1-406d-866f-d5881e6a5ffa",
   "metadata": {},
   "outputs": [
    {
     "name": "stdout",
     "output_type": "stream",
     "text": [
      "abc , zyx\n"
     ]
    }
   ],
   "source": [
    "print(obj_3)"
   ]
  },
  {
   "cell_type": "code",
   "execution_count": 20,
   "id": "acc394bb-26ff-4609-a75b-1a124dc3d829",
   "metadata": {},
   "outputs": [],
   "source": [
    "class Car:\n",
    "    def __init__(self):\n",
    "        self.doors = 4\n",
    "        self.wheels = 4"
   ]
  },
  {
   "cell_type": "code",
   "execution_count": 21,
   "id": "cd5b1239-00a8-4cb4-8545-040d513fb88a",
   "metadata": {},
   "outputs": [],
   "source": [
    "car1 = Car()"
   ]
  },
  {
   "cell_type": "code",
   "execution_count": 22,
   "id": "76d216c5-515c-4f77-8e50-c1f704b3cb68",
   "metadata": {
    "scrolled": true
   },
   "outputs": [
    {
     "data": {
      "text/plain": [
       "4"
      ]
     },
     "execution_count": 22,
     "metadata": {},
     "output_type": "execute_result"
    }
   ],
   "source": [
    "car1.wheels"
   ]
  },
  {
   "cell_type": "markdown",
   "id": "cf70c2f7-c4b7-4373-9c45-77ab619dd820",
   "metadata": {
    "id": "JeZNu9JtKUTx"
   },
   "source": [
    "### **Use the super() Function**\n",
    "Python also has a super() function that will make the child class inherit all the methods and properties from its parent:"
   ]
  },
  {
   "cell_type": "code",
   "execution_count": 35,
   "id": "ff843c97-91f0-4c58-b7e8-153b8149fb15",
   "metadata": {},
   "outputs": [],
   "source": [
    "class Benz(Car):\n",
    "    def __init__(self):\n",
    "        super().__init__()\n",
    "        self.mirrors = 2\n",
    "    def door_opening(self):\n",
    "        print(\"Opens sideways\")\n",
    "    def steering_control(self):\n",
    "        print(\"Power Steering\")"
   ]
  },
  {
   "cell_type": "code",
   "execution_count": 36,
   "id": "cbcaa45a-ea3e-487c-8458-d24af76ddf73",
   "metadata": {},
   "outputs": [],
   "source": [
    "car2 = Benz()"
   ]
  },
  {
   "cell_type": "code",
   "execution_count": 37,
   "id": "063616ea-5484-48ca-aa10-3b96df84eebc",
   "metadata": {},
   "outputs": [
    {
     "data": {
      "text/plain": [
       "4"
      ]
     },
     "execution_count": 37,
     "metadata": {},
     "output_type": "execute_result"
    }
   ],
   "source": [
    "car2.doors"
   ]
  },
  {
   "cell_type": "markdown",
   "id": "100986f4-a5f3-40ea-9154-6a330cae5b10",
   "metadata": {
    "id": "Bb0x_1C2Kc3Z"
   },
   "source": [
    "By using the super() function, you do not have to use the name of the parent element, it will automatically inherit the methods and properties from its parent.\n",
    "\n"
   ]
  },
  {
   "cell_type": "code",
   "execution_count": 38,
   "id": "cc135753-d94d-4081-bdda-bbdb964e26f4",
   "metadata": {},
   "outputs": [
    {
     "name": "stdout",
     "output_type": "stream",
     "text": [
      "Opens sideways\n"
     ]
    }
   ],
   "source": [
    "car2.door_opening()"
   ]
  },
  {
   "cell_type": "code",
   "execution_count": 39,
   "id": "015325b7-84c6-43a2-9492-6ccb41ce8286",
   "metadata": {},
   "outputs": [
    {
     "name": "stdout",
     "output_type": "stream",
     "text": [
      "Power Steering\n"
     ]
    }
   ],
   "source": [
    "car2.steering_control()\n"
   ]
  },
  {
   "cell_type": "code",
   "execution_count": 40,
   "id": "f29e2aec-21ad-4a2c-b727-999cf5fefd84",
   "metadata": {},
   "outputs": [
    {
     "data": {
      "text/plain": [
       "2"
      ]
     },
     "execution_count": 40,
     "metadata": {},
     "output_type": "execute_result"
    }
   ],
   "source": [
    "car2.mirrors"
   ]
  },
  {
   "cell_type": "markdown",
   "id": "8b265320-b7b0-4f5d-8ae3-d358ec35abf3",
   "metadata": {
    "id": "Cjz2I3kKKsDF"
   },
   "source": [
    "If you add a method in the child class with the same name as a function in the parent class, the inheritance of the parent method will be overridden."
   ]
  },
  {
   "cell_type": "code",
   "execution_count": null,
   "id": "5d7682e9-afb2-4c64-8ad4-6b8440fd0312",
   "metadata": {},
   "outputs": [],
   "source": []
  }
 ],
 "metadata": {
  "kernelspec": {
   "display_name": "Python 3 (ipykernel)",
   "language": "python",
   "name": "python3"
  },
  "language_info": {
   "codemirror_mode": {
    "name": "ipython",
    "version": 3
   },
   "file_extension": ".py",
   "mimetype": "text/x-python",
   "name": "python",
   "nbconvert_exporter": "python",
   "pygments_lexer": "ipython3",
   "version": "3.11.0"
  }
 },
 "nbformat": 4,
 "nbformat_minor": 5
}
