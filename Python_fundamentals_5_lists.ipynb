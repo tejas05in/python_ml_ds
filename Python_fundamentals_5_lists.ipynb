{
  "nbformat": 4,
  "nbformat_minor": 0,
  "metadata": {
    "colab": {
      "provenance": [],
      "authorship_tag": "ABX9TyN4ZQMHKfSYNoHlE1xVxW1T",
      "include_colab_link": true
    },
    "kernelspec": {
      "name": "python3",
      "display_name": "Python 3"
    },
    "language_info": {
      "name": "python"
    }
  },
  "cells": [
    {
      "cell_type": "markdown",
      "metadata": {
        "id": "view-in-github",
        "colab_type": "text"
      },
      "source": [
        "<a href=\"https://colab.research.google.com/github/tejas05in/python_ml_ds/blob/main/Python_fundamentals_5_lists.ipynb\" target=\"_parent\"><img src=\"https://colab.research.google.com/assets/colab-badge.svg\" alt=\"Open In Colab\"/></a>"
      ]
    },
    {
      "cell_type": "markdown",
      "source": [
        "# **Strings..contd**"
      ],
      "metadata": {
        "id": "AZfO7Fy_nSbl"
      }
    },
    {
      "cell_type": "code",
      "source": [
        "a = \"python\"\n",
        "print(a[::-1])"
      ],
      "metadata": {
        "id": "GkowMb4DnR2N",
        "colab": {
          "base_uri": "https://localhost:8080/"
        },
        "outputId": "95458f3f-92b2-4634-9074-a31a2912ff47"
      },
      "execution_count": null,
      "outputs": [
        {
          "output_type": "stream",
          "name": "stdout",
          "text": [
            "nohtyp\n"
          ]
        }
      ]
    },
    {
      "cell_type": "code",
      "source": [
        "age = 38\n",
        "print(f\"This person is aged {age} years\")"
      ],
      "metadata": {
        "id": "BYglRDwynYBC",
        "colab": {
          "base_uri": "https://localhost:8080/"
        },
        "outputId": "1310cb52-30b0-4cbe-eabe-153d3fafdb27"
      },
      "execution_count": null,
      "outputs": [
        {
          "output_type": "stream",
          "name": "stdout",
          "text": [
            "This person is aged 38 years\n"
          ]
        }
      ]
    },
    {
      "cell_type": "code",
      "source": [
        "print(\"This person is aged {} years\".format(age))"
      ],
      "metadata": {
        "id": "OGVOaJk2nX77",
        "colab": {
          "base_uri": "https://localhost:8080/"
        },
        "outputId": "4be2df60-3b43-4f86-c66e-6b97d4ed496c"
      },
      "execution_count": null,
      "outputs": [
        {
          "output_type": "stream",
          "name": "stdout",
          "text": [
            "This person is aged 38 years\n"
          ]
        }
      ]
    },
    {
      "cell_type": "code",
      "source": [
        "salary = 100\n",
        "print(\"This person is aged {a} and his salary is {b}\".format(b = salary,a = age))"
      ],
      "metadata": {
        "id": "wdof3M-vnX1K",
        "colab": {
          "base_uri": "https://localhost:8080/"
        },
        "outputId": "830e6c82-b8e0-4c09-fb0b-1804e434d288"
      },
      "execution_count": null,
      "outputs": [
        {
          "output_type": "stream",
          "name": "stdout",
          "text": [
            "This person is aged 38 and his salary is 100\n"
          ]
        }
      ]
    },
    {
      "cell_type": "markdown",
      "source": [
        "Python Collections (Arrays)\n",
        "\n",
        "There are four collection data types in the Python programming language:\n",
        "\n",
        "1. List is a collection which is ordered and changeable. Allows duplicate members.\n",
        "1. Tuple is a collection which is ordered and unchangeable. Allows duplicate members.\n",
        "1. Set is a collection which is unordered, unchangeable*, and unindexed. No duplicate members.\n",
        "1. Dictionary is a collection which is ordered** and changeable. No duplicate members."
      ],
      "metadata": {
        "id": "xgQuFa4Sy2lA"
      }
    },
    {
      "cell_type": "markdown",
      "source": [
        "# **`LISTS`**\n",
        "\n",
        "They store multiple types of data in one variable."
      ],
      "metadata": {
        "id": "Lj9p2200x6oF"
      }
    },
    {
      "cell_type": "markdown",
      "source": [
        "List is defined by using [ ] or list( )"
      ],
      "metadata": {
        "id": "cfGo8PVUyPiQ"
      }
    },
    {
      "cell_type": "code",
      "execution_count": null,
      "metadata": {
        "id": "9hCPbs5BxxEU",
        "colab": {
          "base_uri": "https://localhost:8080/"
        },
        "outputId": "dffcb37d-ab98-46ca-cda0-fd4fa553d797"
      },
      "outputs": [
        {
          "output_type": "stream",
          "name": "stdout",
          "text": [
            "['You', 1, 1.2, True, (4+3j)]\n",
            "<class 'list'>\n"
          ]
        }
      ],
      "source": [
        "a = [\"You\",1,1.2,True,3j+4]\n",
        "print(a)\n",
        "print(type(a))"
      ]
    },
    {
      "cell_type": "code",
      "source": [
        "b = list((\"you\",\"me\",1, True))"
      ],
      "metadata": {
        "id": "vxSpRXofxIY9"
      },
      "execution_count": null,
      "outputs": []
    },
    {
      "cell_type": "code",
      "source": [
        "type(b)"
      ],
      "metadata": {
        "colab": {
          "base_uri": "https://localhost:8080/"
        },
        "id": "zHY1kcIyxP9q",
        "outputId": "6598695c-55c3-47c0-a0ed-08f425c38e2e"
      },
      "execution_count": null,
      "outputs": [
        {
          "output_type": "execute_result",
          "data": {
            "text/plain": [
              "list"
            ]
          },
          "metadata": {},
          "execution_count": 12
        }
      ]
    },
    {
      "cell_type": "markdown",
      "source": [
        "List items are ordered, changeable, and allow duplicate values."
      ],
      "metadata": {
        "id": "IiHhs_1ayX29"
      }
    },
    {
      "cell_type": "code",
      "source": [
        "# List Length\n",
        "len(a)"
      ],
      "metadata": {
        "id": "t4URD6nnyd-3",
        "colab": {
          "base_uri": "https://localhost:8080/"
        },
        "outputId": "a805cf42-07fb-4101-e580-22bb1e23be06"
      },
      "execution_count": null,
      "outputs": [
        {
          "output_type": "execute_result",
          "data": {
            "text/plain": [
              "5"
            ]
          },
          "metadata": {},
          "execution_count": 13
        }
      ]
    },
    {
      "cell_type": "markdown",
      "source": [
        "## Access Items"
      ],
      "metadata": {
        "id": "PFrRmv5ZzYEm"
      }
    },
    {
      "cell_type": "code",
      "source": [
        "# using positive / negative index\n",
        "a[3]\n",
        "print(a[:4])"
      ],
      "metadata": {
        "id": "LMmlYK1CzWna",
        "colab": {
          "base_uri": "https://localhost:8080/"
        },
        "outputId": "14496b43-1423-4412-cf20-3eac81152431"
      },
      "execution_count": null,
      "outputs": [
        {
          "output_type": "stream",
          "name": "stdout",
          "text": [
            "['You', 1, 1.2, True]\n"
          ]
        }
      ]
    },
    {
      "cell_type": "code",
      "source": [
        "# using index range\n",
        "range(len(a))"
      ],
      "metadata": {
        "id": "p5VGM6LXym-C"
      },
      "execution_count": null,
      "outputs": []
    },
    {
      "cell_type": "code",
      "source": [
        "for i in range(0,5):\n",
        "  print(a[i])"
      ],
      "metadata": {
        "colab": {
          "base_uri": "https://localhost:8080/"
        },
        "id": "VPuy7uO1x5_H",
        "outputId": "70ba3e99-54a5-4126-a012-49e3cd2eaffb"
      },
      "execution_count": null,
      "outputs": [
        {
          "output_type": "stream",
          "name": "stdout",
          "text": [
            "You\n",
            "1\n",
            "1.2\n",
            "True\n",
            "(4+3j)\n"
          ]
        }
      ]
    },
    {
      "cell_type": "code",
      "source": [
        "print(a)"
      ],
      "metadata": {
        "colab": {
          "base_uri": "https://localhost:8080/"
        },
        "id": "Yhl1RHdGyR_w",
        "outputId": "e01ccafe-7a1c-4c7a-f37d-b3064f23bc3c"
      },
      "execution_count": null,
      "outputs": [
        {
          "output_type": "stream",
          "name": "stdout",
          "text": [
            "['You', 1, 1.2, True, (4+3j)]\n"
          ]
        }
      ]
    },
    {
      "cell_type": "code",
      "source": [
        "# Check if Item Exists\n",
        "\"us\" in a"
      ],
      "metadata": {
        "id": "q1XNCVQYzeKz",
        "colab": {
          "base_uri": "https://localhost:8080/"
        },
        "outputId": "606c6369-0f77-4b6f-fc54-5830660b2dff"
      },
      "execution_count": null,
      "outputs": [
        {
          "output_type": "execute_result",
          "data": {
            "text/plain": [
              "False"
            ]
          },
          "metadata": {},
          "execution_count": 21
        }
      ]
    },
    {
      "cell_type": "markdown",
      "source": [
        "## Change List Items"
      ],
      "metadata": {
        "id": "zSJ55w9JzjwX"
      }
    },
    {
      "cell_type": "code",
      "source": [
        "# Change single item\n",
        "a[2] = 3.4\n",
        "print(a)"
      ],
      "metadata": {
        "id": "tWptZttHznLY",
        "colab": {
          "base_uri": "https://localhost:8080/"
        },
        "outputId": "a933914c-eb8a-4168-8192-1cc30b88edb8"
      },
      "execution_count": null,
      "outputs": [
        {
          "output_type": "stream",
          "name": "stdout",
          "text": [
            "['You', 1, 3.4, True, (4+3j)]\n"
          ]
        }
      ]
    },
    {
      "cell_type": "code",
      "source": [
        "# Change a range of values\n",
        "a[:2] = \"me\",\"us\"\n",
        "print(a)"
      ],
      "metadata": {
        "id": "-TDK86uTzvOP",
        "colab": {
          "base_uri": "https://localhost:8080/"
        },
        "outputId": "065266d1-7744-4354-9e84-66ec03cbc519"
      },
      "execution_count": null,
      "outputs": [
        {
          "output_type": "stream",
          "name": "stdout",
          "text": [
            "['me', 'us', 3.4, True, (4+3j)]\n"
          ]
        }
      ]
    },
    {
      "cell_type": "code",
      "source": [
        "# list.insert(pos, val)\n",
        "b.insert(2,3)\n",
        "print(b)"
      ],
      "metadata": {
        "id": "3Go2KAPBz1BS",
        "colab": {
          "base_uri": "https://localhost:8080/"
        },
        "outputId": "93766a7e-7862-45d3-b302-e2c300700853"
      },
      "execution_count": null,
      "outputs": [
        {
          "output_type": "stream",
          "name": "stdout",
          "text": [
            "['you', 'me', 3, 1, True]\n"
          ]
        }
      ]
    },
    {
      "cell_type": "markdown",
      "source": [
        "## Add List Items"
      ],
      "metadata": {
        "id": "Go_qQ09jz9TR"
      }
    },
    {
      "cell_type": "code",
      "source": [
        "# append\n",
        "a.append(\"good\")\n",
        "print(a)"
      ],
      "metadata": {
        "id": "MbNCw6ujz-CL",
        "colab": {
          "base_uri": "https://localhost:8080/"
        },
        "outputId": "3ba93fec-e8f6-4087-e9f4-91e590fb86c3"
      },
      "execution_count": null,
      "outputs": [
        {
          "output_type": "stream",
          "name": "stdout",
          "text": [
            "['me', 'us', 3.4, True, (4+3j), 'good']\n"
          ]
        }
      ]
    },
    {
      "cell_type": "code",
      "source": [
        "# insert using list.insert(pos,val)"
      ],
      "metadata": {
        "id": "XSaa01Gh0FQw"
      },
      "execution_count": null,
      "outputs": []
    },
    {
      "cell_type": "code",
      "source": [
        "# Extend List - works for any iterable Eg. tuples\n",
        "print(a)\n",
        "print(b)\n",
        "a.append(b)"
      ],
      "metadata": {
        "id": "fRKm54A10I9q",
        "colab": {
          "base_uri": "https://localhost:8080/"
        },
        "outputId": "fcc1e0db-d904-4ff8-ebf0-ce8d44b298d4"
      },
      "execution_count": null,
      "outputs": [
        {
          "output_type": "stream",
          "name": "stdout",
          "text": [
            "['me', 'us', 3.4, True, (4+3j), 'good']\n",
            "['you', 'me', 3, 1, True]\n"
          ]
        }
      ]
    },
    {
      "cell_type": "code",
      "source": [
        "print(a)\n",
        "a = ['me', 'us', 3.4, True, (4+3j), 'good']\n",
        "a.extend(b)\n"
      ],
      "metadata": {
        "colab": {
          "base_uri": "https://localhost:8080/"
        },
        "id": "g8dq0yBGzhqu",
        "outputId": "2a97f03c-012d-4469-e67c-419b0a379117"
      },
      "execution_count": null,
      "outputs": [
        {
          "output_type": "stream",
          "name": "stdout",
          "text": [
            "['me', 'us', 3.4, True, (4+3j), 'good', ['you', 'me', 3, 1, True]]\n"
          ]
        }
      ]
    },
    {
      "cell_type": "code",
      "source": [
        "print(a)"
      ],
      "metadata": {
        "colab": {
          "base_uri": "https://localhost:8080/"
        },
        "id": "gB7x0G3Qz0Va",
        "outputId": "e53b1032-480e-4e40-b7be-41a95c520548"
      },
      "execution_count": null,
      "outputs": [
        {
          "output_type": "stream",
          "name": "stdout",
          "text": [
            "['me', 'us', 3.4, True, (4+3j), 'good', 'you', 'me', 3, 1, True]\n"
          ]
        }
      ]
    },
    {
      "cell_type": "markdown",
      "source": [
        "## Remove List Items"
      ],
      "metadata": {
        "id": "O6fHXnGC0XEb"
      }
    },
    {
      "cell_type": "code",
      "source": [
        "# Specified Item - list.remove(val)\n",
        "a.remove(\"me\")\n",
        "print(a)"
      ],
      "metadata": {
        "id": "gymLD_9O0XyC",
        "colab": {
          "base_uri": "https://localhost:8080/"
        },
        "outputId": "053e2333-7daf-41d6-9778-0c26951dd232"
      },
      "execution_count": null,
      "outputs": [
        {
          "output_type": "stream",
          "name": "stdout",
          "text": [
            "['us', 3.4, True, (4+3j), 'good', 'you', 'me', 3, 1, True]\n"
          ]
        }
      ]
    },
    {
      "cell_type": "code",
      "source": [
        "a.remove(\"good\")\n",
        "print(a)"
      ],
      "metadata": {
        "colab": {
          "base_uri": "https://localhost:8080/"
        },
        "id": "cdl805Qg0L3F",
        "outputId": "4542125e-2051-4726-b687-4b5aa5614ada"
      },
      "execution_count": null,
      "outputs": [
        {
          "output_type": "stream",
          "name": "stdout",
          "text": [
            "['us', 3.4, True, (4+3j), 'you', 'me', 3, 1, True]\n"
          ]
        }
      ]
    },
    {
      "cell_type": "code",
      "source": [
        "# Remove Specified Index - pop(pos)\n",
        "a.pop()\n",
        "print(a)"
      ],
      "metadata": {
        "id": "FqrLEio90hAI",
        "colab": {
          "base_uri": "https://localhost:8080/"
        },
        "outputId": "d93a4295-b4c2-4326-cb55-d2db1a419ea3"
      },
      "execution_count": null,
      "outputs": [
        {
          "output_type": "stream",
          "name": "stdout",
          "text": [
            "['us', 3.4, True, (4+3j), 'you', 'me', 3, 1]\n"
          ]
        }
      ]
    },
    {
      "cell_type": "code",
      "source": [
        "a.pop(2)\n",
        "print(a)"
      ],
      "metadata": {
        "colab": {
          "base_uri": "https://localhost:8080/"
        },
        "id": "QcI7RGIC0ekh",
        "outputId": "31f923f5-fbf0-4507-9cf6-3220545b0f18"
      },
      "execution_count": null,
      "outputs": [
        {
          "output_type": "stream",
          "name": "stdout",
          "text": [
            "['us', 3.4, (4+3j), 'you', 'me', 3, 1]\n"
          ]
        }
      ]
    },
    {
      "cell_type": "code",
      "source": [
        "# del keyword also removes the specified index: Eg del list[0]\n",
        "del a[0]"
      ],
      "metadata": {
        "id": "yNy01Fx_0s6g"
      },
      "execution_count": null,
      "outputs": []
    },
    {
      "cell_type": "code",
      "source": [
        "a"
      ],
      "metadata": {
        "colab": {
          "base_uri": "https://localhost:8080/"
        },
        "id": "Va3jSCVk0r9i",
        "outputId": "4a723640-02e4-42ae-acc9-313b6b9541c7"
      },
      "execution_count": null,
      "outputs": [
        {
          "output_type": "execute_result",
          "data": {
            "text/plain": [
              "[3.4, (4+3j), 'you', 'me', 3, 1]"
            ]
          },
          "metadata": {},
          "execution_count": 41
        }
      ]
    },
    {
      "cell_type": "code",
      "source": [
        "# Clear the List\n",
        "a.clear()\n",
        "print(a)"
      ],
      "metadata": {
        "id": "0qx_e5Ch0yYZ",
        "colab": {
          "base_uri": "https://localhost:8080/"
        },
        "outputId": "3b557c36-d5b7-4e5b-ed62-7a3100302f8c"
      },
      "execution_count": null,
      "outputs": [
        {
          "output_type": "stream",
          "name": "stdout",
          "text": [
            "[]\n"
          ]
        }
      ]
    },
    {
      "cell_type": "markdown",
      "source": [
        "## Loop Lists"
      ],
      "metadata": {
        "id": "odNvu3FT07Za"
      }
    },
    {
      "cell_type": "code",
      "source": [
        "for element in b:\n",
        "  print(element)"
      ],
      "metadata": {
        "id": "ecor4xC208eC",
        "colab": {
          "base_uri": "https://localhost:8080/"
        },
        "outputId": "c4e78b39-fb97-45c2-b7c2-ef5e0755a71e"
      },
      "execution_count": null,
      "outputs": [
        {
          "output_type": "stream",
          "name": "stdout",
          "text": [
            "you\n",
            "me\n",
            "3\n",
            "1\n",
            "True\n"
          ]
        }
      ]
    },
    {
      "cell_type": "code",
      "source": [
        "# using list index numbers\n",
        "for ind in range(len(b)):\n",
        "  print(b[ind])"
      ],
      "metadata": {
        "id": "Dd5HR6cA1AA4",
        "colab": {
          "base_uri": "https://localhost:8080/"
        },
        "outputId": "02ea913a-b865-4f73-be1a-7672bf7891b6"
      },
      "execution_count": null,
      "outputs": [
        {
          "output_type": "stream",
          "name": "stdout",
          "text": [
            "you\n",
            "me\n",
            "3\n",
            "1\n",
            "True\n"
          ]
        }
      ]
    },
    {
      "cell_type": "markdown",
      "source": [
        "## List Comprehension"
      ],
      "metadata": {
        "id": "_yw0I6ob1LG8"
      }
    },
    {
      "cell_type": "code",
      "source": [
        "fruits = [\"apple\", \"banana\", \"cherry\", \"kiwi\", \"mango\"]\n",
        "newlist = []\n",
        "\n",
        "for x in fruits:\n",
        "  if \"a\" in x:\n",
        "    newlist.append(x)\n",
        "\n",
        "print(newlist)"
      ],
      "metadata": {
        "id": "Nry4Tlqf1L5G",
        "colab": {
          "base_uri": "https://localhost:8080/"
        },
        "outputId": "066b93a8-85c4-4868-eba4-1501fca4aae9"
      },
      "execution_count": null,
      "outputs": [
        {
          "output_type": "stream",
          "name": "stdout",
          "text": [
            "['apple', 'banana', 'mango']\n"
          ]
        }
      ]
    },
    {
      "cell_type": "code",
      "source": [
        "fruits = [\"apple\", \"banana\", \"cherry\", \"kiwi\", \"mango\"]\n",
        "\n",
        "newlist = [x for x in fruits if \"a\" in x]\n",
        "\n",
        "print(newlist)\n"
      ],
      "metadata": {
        "id": "pZBIVBWb1VAo",
        "colab": {
          "base_uri": "https://localhost:8080/"
        },
        "outputId": "89bdc575-ae88-476d-d4d0-64321f1e0cab"
      },
      "execution_count": null,
      "outputs": [
        {
          "output_type": "stream",
          "name": "stdout",
          "text": [
            "['apple', 'banana', 'mango']\n"
          ]
        }
      ]
    },
    {
      "cell_type": "markdown",
      "source": [
        "## Sort Lists"
      ],
      "metadata": {
        "id": "TWyE-5hj1qrh"
      }
    },
    {
      "cell_type": "code",
      "source": [
        "string = [\"bangle\",\"eagle\",\"kite\",\"aeroplane\"]\n",
        "string.sort()\n",
        "print(string)"
      ],
      "metadata": {
        "colab": {
          "base_uri": "https://localhost:8080/"
        },
        "id": "s3PiZJl62C82",
        "outputId": "ec2c64ce-e2f1-41ae-b868-b780f6a58a21"
      },
      "execution_count": null,
      "outputs": [
        {
          "output_type": "stream",
          "name": "stdout",
          "text": [
            "['aeroplane', 'bangle', 'eagle', 'kite']\n"
          ]
        }
      ]
    },
    {
      "cell_type": "code",
      "source": [
        "# with numbers\n",
        "a = [3,2,4,5,2,4,3]\n",
        "a.sort()\n",
        "print(a)"
      ],
      "metadata": {
        "id": "H5kd20xw1yx4",
        "colab": {
          "base_uri": "https://localhost:8080/"
        },
        "outputId": "a16808f0-4137-4ce0-d7c3-22e093637bac"
      },
      "execution_count": null,
      "outputs": [
        {
          "output_type": "stream",
          "name": "stdout",
          "text": [
            "[2, 2, 3, 3, 4, 4, 5]\n"
          ]
        }
      ]
    },
    {
      "cell_type": "code",
      "source": [
        "# Sort Descending - sort(reverse = True)\n",
        "a.sort(reverse=True)\n",
        "print(a)"
      ],
      "metadata": {
        "id": "c4C-qpJA13Kn",
        "colab": {
          "base_uri": "https://localhost:8080/"
        },
        "outputId": "abe14e5f-66a3-4530-ed6c-de1cc27a42dd"
      },
      "execution_count": null,
      "outputs": [
        {
          "output_type": "stream",
          "name": "stdout",
          "text": [
            "[5, 4, 4, 3, 3, 2, 2]\n"
          ]
        }
      ]
    },
    {
      "cell_type": "code",
      "source": [
        "# Reverse Order = list.reverse()\n",
        "# b = [2,3,4,2,17,4,7]\n",
        "# b.reverse()\n",
        "# print(b)"
      ],
      "metadata": {
        "id": "lBQc8-ii17rm",
        "colab": {
          "base_uri": "https://localhost:8080/"
        },
        "outputId": "3a6cec5e-ce79-4493-c9c8-1ef4a28a7a5d"
      },
      "execution_count": null,
      "outputs": [
        {
          "output_type": "stream",
          "name": "stdout",
          "text": [
            "[7, 4, 17, 2, 4, 3, 2]\n"
          ]
        }
      ]
    },
    {
      "cell_type": "markdown",
      "source": [
        "## List copy"
      ],
      "metadata": {
        "id": "Ku7eLxaB2QAl"
      }
    },
    {
      "cell_type": "code",
      "source": [
        "# .copy() , list() and slice operators\n",
        "n = list()\n",
        "n = a.copy()\n",
        "print(n)"
      ],
      "metadata": {
        "id": "Hr7AcDgE2UfY",
        "colab": {
          "base_uri": "https://localhost:8080/"
        },
        "outputId": "f6a57308-f58f-4b4c-97b0-5175a1a8f3d7"
      },
      "execution_count": null,
      "outputs": [
        {
          "output_type": "stream",
          "name": "stdout",
          "text": [
            "[5, 4, 4, 3, 3, 2, 2]\n"
          ]
        }
      ]
    },
    {
      "cell_type": "markdown",
      "source": [
        "## Join Lists"
      ],
      "metadata": {
        "id": "UsEmRrzR2eRg"
      }
    },
    {
      "cell_type": "code",
      "source": [
        "# +\n",
        "print(a)\n",
        "print(n)\n",
        "a+n"
      ],
      "metadata": {
        "id": "VGs4s5pR2mv-",
        "colab": {
          "base_uri": "https://localhost:8080/"
        },
        "outputId": "80e203a0-aac0-49a5-c729-4f6638adaefd"
      },
      "execution_count": null,
      "outputs": [
        {
          "output_type": "stream",
          "name": "stdout",
          "text": [
            "[5, 4, 4, 3, 3, 2, 2]\n",
            "[5, 4, 4, 3, 3, 2, 2]\n"
          ]
        },
        {
          "output_type": "execute_result",
          "data": {
            "text/plain": [
              "[5, 4, 4, 3, 3, 2, 2, 5, 4, 4, 3, 3, 2, 2]"
            ]
          },
          "metadata": {},
          "execution_count": 60
        }
      ]
    },
    {
      "cell_type": "markdown",
      "source": [
        "## List methods"
      ],
      "metadata": {
        "id": "apVpkKyA21LF"
      }
    },
    {
      "cell_type": "markdown",
      "source": [
        "![image.png](data:image/png;base64,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)"
      ],
      "metadata": {
        "id": "-UsRpEH02ymP"
      }
    },
    {
      "cell_type": "code",
      "source": [],
      "metadata": {
        "id": "8Quhyido2zdm"
      },
      "execution_count": null,
      "outputs": []
    }
  ]
}