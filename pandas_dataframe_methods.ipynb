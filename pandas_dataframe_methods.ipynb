{
 "cells": [
  {
   "cell_type": "markdown",
   "id": "c3ff5ba3",
   "metadata": {},
   "source": [
    "# Important Functions"
   ]
  },
  {
   "cell_type": "code",
   "execution_count": 1,
   "id": "203e91c9",
   "metadata": {},
   "outputs": [],
   "source": [
    "# value_counts\n",
    "# sort_values\n",
    "# rank\n",
    "# sort index\n",
    "# set index\n",
    "# rename index -> rename\n",
    "# reset index\n",
    "# unique & nunique\n",
    "# isnull/notnull/hasnans\n",
    "# dropna\n",
    "# fillna\n",
    "# drop_duplicates\n",
    "# drop\n",
    "# apply\n",
    "# isin\n",
    "# corr\n",
    "# nlargest -> nsmallest\n",
    "# insert\n",
    "# copy"
   ]
  },
  {
   "cell_type": "markdown",
   "id": "e6376e05",
   "metadata": {},
   "source": []
  }
 ],
 "metadata": {
  "kernelspec": {
   "display_name": "Python 3",
   "language": "python",
   "name": "python3"
  },
  "language_info": {
   "codemirror_mode": {
    "name": "ipython",
    "version": 3
   },
   "file_extension": ".py",
   "mimetype": "text/x-python",
   "name": "python",
   "nbconvert_exporter": "python",
   "pygments_lexer": "ipython3",
   "version": "3.12.2"
  }
 },
 "nbformat": 4,
 "nbformat_minor": 5
}
