{
  "nbformat": 4,
  "nbformat_minor": 0,
  "metadata": {
    "colab": {
      "provenance": []
    },
    "kernelspec": {
      "name": "python3",
      "display_name": "Python 3"
    },
    "language_info": {
      "name": "python"
    }
  },
  "cells": [
    {
      "cell_type": "markdown",
      "source": [
        "Python Collections (Arrays)\n",
        "\n",
        "There are four collection data types in the Python programming language:\n",
        "\n",
        "1. List is a collection which is ordered and changeable. Allows duplicate members.\n",
        "2. Tuple is a collection which is ordered and unchangeable. Allows duplicate members.\n",
        "3. Set is a collection which is unordered, unchangeable*, and unindexed. No duplicate members.\n",
        "4. Dictionary is a collection which is ordered** and changeable. No duplicate members.\n",
        "\n",
        "*Set items are unchangeable, but you can remove and/or add items whenever you like.\n",
        "\n",
        "**As of Python version 3.7, dictionaries are ordered. In Python 3.6 and earlier, dictionaries are unordered."
      ],
      "metadata": {
        "id": "8q5GAdhoCMC3"
      }
    },
    {
      "cell_type": "markdown",
      "source": [
        "# **Dictionaries**"
      ],
      "metadata": {
        "id": "9gsH_JfQB8y2"
      }
    },
    {
      "cell_type": "markdown",
      "source": [
        "Dictionaries are used to store data values in key:value pairs.\n",
        "\n",
        "A dictionary is a collection which is ordered*, changeable and do not allow duplicates."
      ],
      "metadata": {
        "id": "eeL8f8cRB69T"
      }
    },
    {
      "cell_type": "code",
      "execution_count": null,
      "metadata": {
        "id": "v9aXHJydBu5s",
        "colab": {
          "base_uri": "https://localhost:8080/"
        },
        "outputId": "ea017794-23f1-478d-bde5-5dfa8f873b0a"
      },
      "outputs": [
        {
          "output_type": "execute_result",
          "data": {
            "text/plain": [
              "dict"
            ]
          },
          "metadata": {},
          "execution_count": 4
        }
      ],
      "source": [
        "# Example\n",
        "a ={\"my_age\":40}\n",
        "type(a)"
      ]
    },
    {
      "cell_type": "code",
      "source": [
        "# Print the values using keys\n",
        "a[\"my_age\"]"
      ],
      "metadata": {
        "id": "GzGRlBTbChxi",
        "colab": {
          "base_uri": "https://localhost:8080/"
        },
        "outputId": "d913c24c-44df-48c0-c3e5-64bd1aa02971"
      },
      "execution_count": null,
      "outputs": [
        {
          "output_type": "execute_result",
          "data": {
            "text/plain": [
              "40"
            ]
          },
          "metadata": {},
          "execution_count": 5
        }
      ]
    },
    {
      "cell_type": "code",
      "source": [
        "a[\"my_age\"] = 50\n",
        "print(a[\"my_age\"])\n",
        "print(a)"
      ],
      "metadata": {
        "colab": {
          "base_uri": "https://localhost:8080/"
        },
        "id": "Hgv3ZZDVHdLY",
        "outputId": "7189ac8e-71f0-4817-8ad9-89fe0bfe67a1"
      },
      "execution_count": null,
      "outputs": [
        {
          "output_type": "stream",
          "name": "stdout",
          "text": [
            "50\n",
            "{'my_age': 50}\n"
          ]
        }
      ]
    },
    {
      "cell_type": "code",
      "source": [
        "a[\"my_age\"] = 100"
      ],
      "metadata": {
        "id": "2d2SYnHoHxSe"
      },
      "execution_count": null,
      "outputs": []
    },
    {
      "cell_type": "code",
      "source": [
        "a"
      ],
      "metadata": {
        "colab": {
          "base_uri": "https://localhost:8080/"
        },
        "id": "0QCPLhLdICMy",
        "outputId": "e1acaac1-f0ad-490d-ddff-f57cb5ad6f71"
      },
      "execution_count": null,
      "outputs": [
        {
          "output_type": "execute_result",
          "data": {
            "text/plain": [
              "{'my_age': 100}"
            ]
          },
          "metadata": {},
          "execution_count": 9
        }
      ]
    },
    {
      "cell_type": "markdown",
      "source": [
        "Duplicates Not Allowed\n",
        "\n",
        "Dictionaries cannot have two items with the same key:"
      ],
      "metadata": {
        "id": "6eiUoM9KCsp0"
      }
    },
    {
      "cell_type": "code",
      "source": [
        "my_dict = {\"my_name\": \"tejas\",\"my_age\":40, \"my_address\":\"chennai\"}"
      ],
      "metadata": {
        "id": "QGo2LG-eIGL5"
      },
      "execution_count": null,
      "outputs": []
    },
    {
      "cell_type": "code",
      "source": [
        "# Dictionary Length - len()\n",
        "len(my_dict)"
      ],
      "metadata": {
        "id": "Ifbode6nCsUk",
        "colab": {
          "base_uri": "https://localhost:8080/"
        },
        "outputId": "8e1c51e7-4007-4ad1-9aa8-c73cc5d89aa3"
      },
      "execution_count": null,
      "outputs": [
        {
          "output_type": "execute_result",
          "data": {
            "text/plain": [
              "3"
            ]
          },
          "metadata": {},
          "execution_count": 11
        }
      ]
    },
    {
      "cell_type": "code",
      "source": [
        "# Dictionary Items - Data Types\n",
        "dict_2 = {\n",
        "    \"int\": 34,\n",
        "    \"float\": 3.4,\n",
        "    \"bool\": True,\n",
        "    \"list\": [1,2,3],\n",
        "    \"set\": {3,4,5},\n",
        "    \"tuple\": (3,4,5),\n",
        "    \"dict\" : {\"a\":1,\"b\":2}\n",
        "}\n",
        "dict_2"
      ],
      "metadata": {
        "id": "fYGJ1PpfCnAg",
        "colab": {
          "base_uri": "https://localhost:8080/"
        },
        "outputId": "2d66d0a7-c97a-487b-c4e0-4d478b1e8466"
      },
      "execution_count": null,
      "outputs": [
        {
          "output_type": "execute_result",
          "data": {
            "text/plain": [
              "{'int': 34,\n",
              " 'float': 3.4,\n",
              " 'bool': True,\n",
              " 'list': [1, 2, 3],\n",
              " 'set': {3, 4, 5},\n",
              " 'tuple': (3, 4, 5),\n",
              " 'dict': {'a': 1, 'b': 2}}"
            ]
          },
          "metadata": {},
          "execution_count": 12
        }
      ]
    },
    {
      "cell_type": "code",
      "source": [
        "dict_2[\"dict\"]"
      ],
      "metadata": {
        "colab": {
          "base_uri": "https://localhost:8080/"
        },
        "id": "6pRADTtzI8D2",
        "outputId": "702bc7fa-38ba-4b71-d3b8-4265aeca4b69"
      },
      "execution_count": null,
      "outputs": [
        {
          "output_type": "execute_result",
          "data": {
            "text/plain": [
              "{'a': 1, 'b': 2}"
            ]
          },
          "metadata": {},
          "execution_count": 14
        }
      ]
    },
    {
      "cell_type": "code",
      "source": [
        "# The dict() Constructor\n",
        "dict(a=12,b=13)"
      ],
      "metadata": {
        "id": "mxofcvsQC8uC",
        "colab": {
          "base_uri": "https://localhost:8080/"
        },
        "outputId": "3bc01b92-ee0b-483f-8659-97e12af340e9"
      },
      "execution_count": null,
      "outputs": [
        {
          "output_type": "execute_result",
          "data": {
            "text/plain": [
              "{'a': 12, 'b': 13}"
            ]
          },
          "metadata": {},
          "execution_count": 18
        }
      ]
    },
    {
      "cell_type": "markdown",
      "source": [
        "##  Accessing Items"
      ],
      "metadata": {
        "id": "EPBQv44fDDuZ"
      }
    },
    {
      "cell_type": "code",
      "source": [
        "# Accessing Items\n",
        "dict_2[\"int\"]"
      ],
      "metadata": {
        "id": "osay6RWIC97O",
        "colab": {
          "base_uri": "https://localhost:8080/"
        },
        "outputId": "7afd8945-93af-4ac2-ab40-71483f3e7295"
      },
      "execution_count": null,
      "outputs": [
        {
          "output_type": "execute_result",
          "data": {
            "text/plain": [
              "34"
            ]
          },
          "metadata": {},
          "execution_count": 19
        }
      ]
    },
    {
      "cell_type": "code",
      "source": [
        "# get()\n",
        "dict_2.get(\"int\")"
      ],
      "metadata": {
        "id": "KT2d395XDIN8",
        "colab": {
          "base_uri": "https://localhost:8080/"
        },
        "outputId": "f288c964-a2de-4b63-d1f4-64c22625fee2"
      },
      "execution_count": null,
      "outputs": [
        {
          "output_type": "execute_result",
          "data": {
            "text/plain": [
              "34"
            ]
          },
          "metadata": {},
          "execution_count": 20
        }
      ]
    },
    {
      "cell_type": "code",
      "source": [
        "# keys()\n",
        "dict_2.keys()"
      ],
      "metadata": {
        "id": "cg60SH-aDI7q",
        "colab": {
          "base_uri": "https://localhost:8080/"
        },
        "outputId": "0cbf74af-2029-4152-8e5b-d069d9332528"
      },
      "execution_count": null,
      "outputs": [
        {
          "output_type": "execute_result",
          "data": {
            "text/plain": [
              "dict_keys(['int', 'float', 'bool', 'list', 'set', 'tuple', 'dict'])"
            ]
          },
          "metadata": {},
          "execution_count": 22
        }
      ]
    },
    {
      "cell_type": "code",
      "source": [
        "# Get Values\n",
        "dict_2.values()"
      ],
      "metadata": {
        "id": "bIimPQF6DLil",
        "colab": {
          "base_uri": "https://localhost:8080/"
        },
        "outputId": "369ab9f1-bfa0-431c-d237-ca1261275a6b"
      },
      "execution_count": null,
      "outputs": [
        {
          "output_type": "execute_result",
          "data": {
            "text/plain": [
              "dict_values([34, 3.4, True, [1, 2, 3], {3, 4, 5}, (3, 4, 5), {'a': 1, 'b': 2}])"
            ]
          },
          "metadata": {},
          "execution_count": 23
        }
      ]
    },
    {
      "cell_type": "code",
      "source": [
        "# Get Items\n",
        "for i,j  in dict_2.items():\n",
        "  print(\"key:\",i)\n",
        "  print(\"Value:\",j)\n"
      ],
      "metadata": {
        "id": "Yv9dOR37DR5w",
        "colab": {
          "base_uri": "https://localhost:8080/"
        },
        "outputId": "6b789032-eb0c-428d-f5ea-39b100a9edf5"
      },
      "execution_count": null,
      "outputs": [
        {
          "output_type": "stream",
          "name": "stdout",
          "text": [
            "key: int\n",
            "Value: 34\n",
            "key: float\n",
            "Value: 3.4\n",
            "key: bool\n",
            "Value: True\n",
            "key: list\n",
            "Value: [1, 2, 3]\n",
            "key: set\n",
            "Value: {3, 4, 5}\n",
            "key: tuple\n",
            "Value: (3, 4, 5)\n",
            "key: dict\n",
            "Value: {'a': 1, 'b': 2}\n"
          ]
        }
      ]
    },
    {
      "cell_type": "code",
      "source": [
        "dict_2.values()"
      ],
      "metadata": {
        "colab": {
          "base_uri": "https://localhost:8080/"
        },
        "id": "S3anwoVYKnUR",
        "outputId": "466079c2-1695-4682-9f04-829d8cbe3e0e"
      },
      "execution_count": null,
      "outputs": [
        {
          "output_type": "execute_result",
          "data": {
            "text/plain": [
              "dict_values([34, 3.4, True, [1, 2, 3], {3, 4, 5}, (3, 4, 5), {'a': 1, 'b': 2}])"
            ]
          },
          "metadata": {},
          "execution_count": 28
        }
      ]
    },
    {
      "cell_type": "code",
      "source": [
        "# Check if Key Exists - only for keys\n",
        "\"int\" in dict_2"
      ],
      "metadata": {
        "id": "dfTEa2X2DSjf",
        "colab": {
          "base_uri": "https://localhost:8080/"
        },
        "outputId": "4668b9ca-32ea-44d7-869d-f298da75f65d"
      },
      "execution_count": null,
      "outputs": [
        {
          "output_type": "execute_result",
          "data": {
            "text/plain": [
              "True"
            ]
          },
          "metadata": {},
          "execution_count": 29
        }
      ]
    },
    {
      "cell_type": "markdown",
      "source": [
        "## Change Dictionary Items and Adding Items"
      ],
      "metadata": {
        "id": "41OU7M_rDbFF"
      }
    },
    {
      "cell_type": "code",
      "source": [
        "# []\n",
        "dict_2[\"int\"] = 100\n",
        "dict_2"
      ],
      "metadata": {
        "id": "rFzlv5E2DdaK",
        "colab": {
          "base_uri": "https://localhost:8080/"
        },
        "outputId": "95e39657-5a56-4f67-ee67-1981e68b2fec"
      },
      "execution_count": null,
      "outputs": [
        {
          "output_type": "execute_result",
          "data": {
            "text/plain": [
              "{'int': 100,\n",
              " 'float': 3.4,\n",
              " 'bool': True,\n",
              " 'list': [1, 2, 3],\n",
              " 'set': {3, 4, 5},\n",
              " 'tuple': (3, 4, 5),\n",
              " 'dict': {'a': 1, 'b': 2}}"
            ]
          },
          "metadata": {},
          "execution_count": 30
        }
      ]
    },
    {
      "cell_type": "code",
      "source": [
        "# update({k:v})\n",
        "dict_2.update({\"zeros\":0})"
      ],
      "metadata": {
        "id": "G0cjpj5SDgq1"
      },
      "execution_count": null,
      "outputs": []
    },
    {
      "cell_type": "code",
      "source": [
        "dict_2"
      ],
      "metadata": {
        "id": "hYpBdFFdDiIt",
        "colab": {
          "base_uri": "https://localhost:8080/"
        },
        "outputId": "08943d76-54ec-4bd1-a326-2e25c005d872"
      },
      "execution_count": null,
      "outputs": [
        {
          "output_type": "execute_result",
          "data": {
            "text/plain": [
              "{'int': 100,\n",
              " 'float': 3.4,\n",
              " 'bool': True,\n",
              " 'list': [1, 2, 3],\n",
              " 'set': {3, 4, 5},\n",
              " 'tuple': (3, 4, 5),\n",
              " 'dict': {'a': 1, 'b': 2},\n",
              " 'zeros': 0}"
            ]
          },
          "metadata": {},
          "execution_count": 32
        }
      ]
    },
    {
      "cell_type": "markdown",
      "source": [
        "## Remove Dictionary Items"
      ],
      "metadata": {
        "id": "e7bTUXvpDpQF"
      }
    },
    {
      "cell_type": "code",
      "source": [
        "# pop() method removes the item with the specified key name:\n",
        "dict_2.pop('zeros')"
      ],
      "metadata": {
        "id": "TH-w3Vh_DqHu",
        "colab": {
          "base_uri": "https://localhost:8080/"
        },
        "outputId": "24796cdb-a0c9-4a24-ae08-2cdad7cb5e60"
      },
      "execution_count": null,
      "outputs": [
        {
          "output_type": "execute_result",
          "data": {
            "text/plain": [
              "0"
            ]
          },
          "metadata": {},
          "execution_count": 33
        }
      ]
    },
    {
      "cell_type": "code",
      "source": [
        "dict_2"
      ],
      "metadata": {
        "colab": {
          "base_uri": "https://localhost:8080/"
        },
        "id": "qswhgqwmLgrF",
        "outputId": "08031626-ef2c-48f6-db8a-73c59070d9ce"
      },
      "execution_count": null,
      "outputs": [
        {
          "output_type": "execute_result",
          "data": {
            "text/plain": [
              "{'int': 100,\n",
              " 'float': 3.4,\n",
              " 'bool': True,\n",
              " 'list': [1, 2, 3],\n",
              " 'set': {3, 4, 5},\n",
              " 'tuple': (3, 4, 5),\n",
              " 'dict': {'a': 1, 'b': 2}}"
            ]
          },
          "metadata": {},
          "execution_count": 34
        }
      ]
    },
    {
      "cell_type": "code",
      "source": [
        "# popitem() method removes the last inserted item\n",
        "dict_2.popitem()"
      ],
      "metadata": {
        "id": "zXDG1PNWD4x4",
        "colab": {
          "base_uri": "https://localhost:8080/"
        },
        "outputId": "fa661185-bdf4-4d3c-cdbd-8f85a9d9f334"
      },
      "execution_count": null,
      "outputs": [
        {
          "output_type": "execute_result",
          "data": {
            "text/plain": [
              "('dict', {'a': 1, 'b': 2})"
            ]
          },
          "metadata": {},
          "execution_count": 35
        }
      ]
    },
    {
      "cell_type": "code",
      "source": [
        "dict_2"
      ],
      "metadata": {
        "colab": {
          "base_uri": "https://localhost:8080/"
        },
        "id": "CFQAA8yZLqbw",
        "outputId": "6fd23132-852a-4d2a-8a6a-25733ba940d0"
      },
      "execution_count": null,
      "outputs": [
        {
          "output_type": "execute_result",
          "data": {
            "text/plain": [
              "{'int': 100,\n",
              " 'float': 3.4,\n",
              " 'bool': True,\n",
              " 'list': [1, 2, 3],\n",
              " 'set': {3, 4, 5},\n",
              " 'tuple': (3, 4, 5)}"
            ]
          },
          "metadata": {},
          "execution_count": 36
        }
      ]
    },
    {
      "cell_type": "code",
      "source": [
        "# del\n",
        "del a"
      ],
      "metadata": {
        "id": "N0Khjh--D8_y"
      },
      "execution_count": null,
      "outputs": []
    },
    {
      "cell_type": "code",
      "source": [
        "a"
      ],
      "metadata": {
        "colab": {
          "base_uri": "https://localhost:8080/",
          "height": 141
        },
        "id": "XpL0bE5ALwN9",
        "outputId": "0cee4c9c-4332-40f6-85d4-fa4f1d75b3b5"
      },
      "execution_count": null,
      "outputs": [
        {
          "output_type": "error",
          "ename": "NameError",
          "evalue": "name 'a' is not defined",
          "traceback": [
            "\u001b[0;31m---------------------------------------------------------------------------\u001b[0m",
            "\u001b[0;31mNameError\u001b[0m                                 Traceback (most recent call last)",
            "\u001b[0;32m<ipython-input-38-3f786850e387>\u001b[0m in \u001b[0;36m<cell line: 1>\u001b[0;34m()\u001b[0m\n\u001b[0;32m----> 1\u001b[0;31m \u001b[0ma\u001b[0m\u001b[0;34m\u001b[0m\u001b[0;34m\u001b[0m\u001b[0m\n\u001b[0m",
            "\u001b[0;31mNameError\u001b[0m: name 'a' is not defined"
          ]
        }
      ]
    },
    {
      "cell_type": "code",
      "source": [
        "# clear()\n",
        "a = {\"ab\":1,\"cd\":2}\n",
        "print(a)\n",
        "a.clear()\n",
        "print(a)\n",
        "print(type(a))"
      ],
      "metadata": {
        "id": "tZSoi6VvEABQ",
        "colab": {
          "base_uri": "https://localhost:8080/"
        },
        "outputId": "f3598df5-126e-4640-aa12-ba48b3bcbe5c"
      },
      "execution_count": null,
      "outputs": [
        {
          "output_type": "stream",
          "name": "stdout",
          "text": [
            "{'ab': 1, 'cd': 2}\n",
            "{}\n",
            "<class 'dict'>\n"
          ]
        }
      ]
    },
    {
      "cell_type": "markdown",
      "source": [
        "## Loop Dictionaries"
      ],
      "metadata": {
        "id": "Of-YTRfoED9u"
      }
    },
    {
      "cell_type": "code",
      "source": [
        "for i in dict_2:\n",
        "  if i == \"bool\":\n",
        "    print(dict_2[i])"
      ],
      "metadata": {
        "id": "zsYHQ5yUEE_l",
        "colab": {
          "base_uri": "https://localhost:8080/"
        },
        "outputId": "de7b18cf-abf1-4178-f7c6-29fd6772e22b"
      },
      "execution_count": null,
      "outputs": [
        {
          "output_type": "stream",
          "name": "stdout",
          "text": [
            "True\n"
          ]
        }
      ]
    },
    {
      "cell_type": "code",
      "source": [
        "# Keys\n",
        "for i in dict_2.keys():\n",
        "  print(i)"
      ],
      "metadata": {
        "id": "55FXzfMuEJyl",
        "colab": {
          "base_uri": "https://localhost:8080/"
        },
        "outputId": "03ff566b-ffed-4e50-ba07-0c773ac8086b"
      },
      "execution_count": null,
      "outputs": [
        {
          "output_type": "stream",
          "name": "stdout",
          "text": [
            "int\n",
            "float\n",
            "bool\n",
            "list\n",
            "set\n",
            "tuple\n"
          ]
        }
      ]
    },
    {
      "cell_type": "code",
      "source": [
        "a,b = 1,2"
      ],
      "metadata": {
        "id": "EUYQyjoJNebA"
      },
      "execution_count": null,
      "outputs": []
    },
    {
      "cell_type": "code",
      "source": [
        "# items\n",
        "for i,j in dict_2.items():\n",
        "  print(f\"The key of dict_2 is {i} and its value is {j}\")"
      ],
      "metadata": {
        "id": "ipCqI_cREKpL",
        "colab": {
          "base_uri": "https://localhost:8080/"
        },
        "outputId": "284b91a3-c483-4db2-cfeb-f2dfdf7bea24"
      },
      "execution_count": null,
      "outputs": [
        {
          "output_type": "stream",
          "name": "stdout",
          "text": [
            "The key of dict_2 is int and its value is 100\n",
            "The key of dict_2 is float and its value is 3.4\n",
            "The key of dict_2 is bool and its value is True\n",
            "The key of dict_2 is list and its value is [1, 2, 3]\n",
            "The key of dict_2 is set and its value is {3, 4, 5}\n",
            "The key of dict_2 is tuple and its value is (3, 4, 5)\n"
          ]
        }
      ]
    },
    {
      "cell_type": "code",
      "source": [
        "for i in dict_2.items():\n",
        "  print(f\"The key of dict_2 is {i[0]} and its value is {i[1]}\")"
      ],
      "metadata": {
        "colab": {
          "base_uri": "https://localhost:8080/"
        },
        "id": "aeDug-m2N7jw",
        "outputId": "e4b49240-aa03-41e9-a807-7288d78fa21e"
      },
      "execution_count": null,
      "outputs": [
        {
          "output_type": "stream",
          "name": "stdout",
          "text": [
            "The key of dict_2 is int and its value is 100\n",
            "The key of dict_2 is float and its value is 3.4\n",
            "The key of dict_2 is bool and its value is True\n",
            "The key of dict_2 is list and its value is [1, 2, 3]\n",
            "The key of dict_2 is set and its value is {3, 4, 5}\n",
            "The key of dict_2 is tuple and its value is (3, 4, 5)\n"
          ]
        }
      ]
    },
    {
      "cell_type": "markdown",
      "source": [
        "## Nested Dictionaries"
      ],
      "metadata": {
        "id": "5_LfZmZKESKf"
      }
    },
    {
      "cell_type": "code",
      "source": [
        "travel_log = {\n",
        "    \"tej\":{\n",
        "        \"place\": \"madhuranthagam\",\n",
        "        \"time\": \"2pm\",\n",
        "        \"distance\": 60\n",
        "    },\n",
        "    \"catherine\": {\n",
        "        \"place\": \"mamandu\",\n",
        "        \"time\": \"5pm\",\n",
        "        \"distance\": 20\n",
        "    },\n",
        "    \"muthu\":{\n",
        "        \"place\": \"omandur\",\n",
        "        \"time\": \"6pm\",\n",
        "        \"distance\": 10\n",
        "    }\n",
        "}\n",
        "travel_log"
      ],
      "metadata": {
        "id": "JuLxD529ELdC",
        "colab": {
          "base_uri": "https://localhost:8080/"
        },
        "outputId": "bc7d6162-e23e-4539-e611-a53baecb1799"
      },
      "execution_count": null,
      "outputs": [
        {
          "output_type": "execute_result",
          "data": {
            "text/plain": [
              "{'tej': {'place': 'madhuranthagam', 'time': '2pm', 'distance': 60},\n",
              " 'catherine': {'place': 'mamandu', 'time': '5pm', 'distance': 20},\n",
              " 'muthu': {'place': 'omandur', 'time': '6pm', 'distance': 10}}"
            ]
          },
          "metadata": {},
          "execution_count": 54
        }
      ]
    },
    {
      "cell_type": "code",
      "source": [
        "# Access Items in Nested Dictionaries\n",
        "travel_log[\"tej\"][\"distance\"]"
      ],
      "metadata": {
        "id": "hNJUg3INEXsa",
        "colab": {
          "base_uri": "https://localhost:8080/"
        },
        "outputId": "ddb831e9-cd5b-4be1-ee94-fe2a51255f0a"
      },
      "execution_count": null,
      "outputs": [
        {
          "output_type": "execute_result",
          "data": {
            "text/plain": [
              "60"
            ]
          },
          "metadata": {},
          "execution_count": 57
        }
      ]
    },
    {
      "cell_type": "code",
      "source": [],
      "metadata": {
        "id": "UrccfmooEYhi"
      },
      "execution_count": null,
      "outputs": []
    },
    {
      "cell_type": "markdown",
      "source": [
        "## Dictionary Methods\n",
        "\n",
        "![image.png](data:image/png;base64,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)"
      ],
      "metadata": {
        "id": "ndqkAHb6EdMm"
      }
    },
    {
      "cell_type": "code",
      "source": [],
      "metadata": {
        "id": "hZS5ZLvtEjWX"
      },
      "execution_count": null,
      "outputs": []
    }
  ]
}