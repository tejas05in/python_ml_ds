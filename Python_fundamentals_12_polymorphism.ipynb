{
 "cells": [
  {
   "cell_type": "markdown",
   "id": "f4c19f74-ed0d-435c-910f-61416009f339",
   "metadata": {},
   "source": [
    "# Python Fundamentals 12: Polymorphism"
   ]
  },
  {
   "cell_type": "markdown",
   "id": "7b1bc3cc-f35c-473d-a70b-250122323ec2",
   "metadata": {},
   "source": [
    "The word \"polymorphism\" means \"many forms\", and in programming it refers to methods/functions/operators with the same name that can be executed on many objects or classes.\n",
    "\n",
    "Function Polymorphism\n",
    "An example of a Python function that can be used on different objects is the len() function."
   ]
  },
  {
   "cell_type": "code",
   "execution_count": 1,
   "id": "c83e869f-1088-4cb8-8b64-81fcf9bfd9f3",
   "metadata": {},
   "outputs": [],
   "source": [
    "# string"
   ]
  },
  {
   "cell_type": "code",
   "execution_count": 2,
   "id": "36605849-80a0-4d9a-97af-ec2c6ca3da1f",
   "metadata": {},
   "outputs": [],
   "source": [
    "# tuple"
   ]
  },
  {
   "cell_type": "code",
   "execution_count": 3,
   "id": "700e0578-b5a8-4a72-9cb8-2a7b5ca07aa6",
   "metadata": {},
   "outputs": [],
   "source": [
    "# dict"
   ]
  },
  {
   "cell_type": "markdown",
   "id": "31be78d4-94fc-4f0c-b4bc-cef74413f7c1",
   "metadata": {},
   "source": [
    "Class Polymorphism\n",
    "Polymorphism is often used in Class methods, where we can have multiple classes with the same method name.\n",
    "\n",
    "For example, say we have three classes: Car, Boat, and Plane, and they all have a method called move()"
   ]
  },
  {
   "cell_type": "code",
   "execution_count": null,
   "id": "12c02e16-8f3a-4d0e-9f17-c7375b6f1ffc",
   "metadata": {},
   "outputs": [],
   "source": [
    "class Car:\n",
    "  def __init__(self, brand, model):\n",
    "    self.brand = brand\n",
    "    self.model = model\n",
    "\n",
    "  # def move(self):\n",
    "  #   print(\"Drive!\")"
   ]
  },
  {
   "cell_type": "markdown",
   "id": "63a42891-766a-48a7-a077-f206edd839bf",
   "metadata": {},
   "source": [
    "Inheritance Class Polymorphism\n",
    "What about classes with child classes with the same name? Can we use polymorphism there?\n",
    "\n",
    "Yes. If we use the example above and make a parent class called Vehicle, and make Car, Boat, Plane child classes of Vehicle, the child classes inherits the Vehicle methods, but can override them:"
   ]
  }
 ],
 "metadata": {
  "kernelspec": {
   "display_name": "Python 3 (ipykernel)",
   "language": "python",
   "name": "python3"
  },
  "language_info": {
   "codemirror_mode": {
    "name": "ipython",
    "version": 3
   },
   "file_extension": ".py",
   "mimetype": "text/x-python",
   "name": "python",
   "nbconvert_exporter": "python",
   "pygments_lexer": "ipython3",
   "version": "3.11.0"
  }
 },
 "nbformat": 4,
 "nbformat_minor": 5
}
